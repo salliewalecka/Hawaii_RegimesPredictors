{
 "cells": [
  {
   "cell_type": "code",
   "execution_count": 6,
   "metadata": {},
   "outputs": [],
   "source": [
    "import numpy as np\n",
    "import pandas as pd\n",
    "import matplotlib.pyplot as plt\n",
    "import seaborn as sns\n",
    "import random\n",
    "from sklearn.model_selection import train_test_split\n",
    "import matplotlib.colors as colors\n",
    "import matplotlib.cm as cmx\n",
    "from statsmodels.stats.outliers_influence import variance_inflation_factor\n",
    "from statsmodels.tools.tools import add_constant\n",
    "from sklearn.linear_model import LogisticRegression\n",
    "from sklearn import metrics\n",
    "from sklearn.preprocessing import StandardScaler\n",
    "from sklearn.svm import SVC \n",
    "from sklearn.ensemble.partial_dependence import partial_dependence, plot_partial_dependence\n",
    "\n",
    "%matplotlib inline"
   ]
  },
  {
   "cell_type": "markdown",
   "metadata": {},
   "source": [
    "## Read in the data"
   ]
  },
  {
   "cell_type": "code",
   "execution_count": 23,
   "metadata": {},
   "outputs": [],
   "source": [
    "# read in the data (version with complexity imputed)\n",
    "df = pd.read_csv(\"../Data/Hawaii_RegimesPredictors_complete.txt\", sep=\"\\t\", decimal=\",\")\n",
    "train = pd.read_csv(\"../Data/Modeling/Predictors_complete_train.txt\", sep='\\t', decimal=\",\")\n",
    "test = pd.read_csv(\"../Data/Modeling/Predictors_complete_test.txt\", sep='\\t', decimal=\",\")"
   ]
  },
  {
   "cell_type": "markdown",
   "metadata": {},
   "source": [
    "## Split into train and test"
   ]
  },
  {
   "cell_type": "code",
   "execution_count": 24,
   "metadata": {},
   "outputs": [],
   "source": [
    "#Comment out data prep if running VIF\n",
    "def data_prep(df):\n",
    "    df = df.astype({\"id_spatial\": \"category\", \"Island\": \"category\", \"Habitat_Modification\": \"category\", \n",
    "               \"Invasive_Algae\": \"category\", \"Regime\": \"category\", \"Regime1\": \"category\", \n",
    "               \"Regime2\": \"category\", \"Regime3\": \"category\", \"Regime5\": \"category\"})\n",
    "    return df"
   ]
  },
  {
   "cell_type": "code",
   "execution_count": 25,
   "metadata": {},
   "outputs": [],
   "source": [
    "df = data_prep(df)\n",
    "train = data_prep(train)\n",
    "test = data_prep(test)"
   ]
  },
  {
   "cell_type": "code",
   "execution_count": 26,
   "metadata": {},
   "outputs": [
    {
     "data": {
      "text/plain": [
       "Unnamed: 0                        int64\n",
       "id_spatial                     category\n",
       "Long                            float64\n",
       "Lat                             float64\n",
       "Island                         category\n",
       "Coral                           float64\n",
       "CCA                             float64\n",
       "Turf                            float64\n",
       "Macro                           float64\n",
       "Other                           float64\n",
       "Grazers                         float64\n",
       "Scrapers                        float64\n",
       "Browsers                        float64\n",
       "Predators                       float64\n",
       "Secondary                       float64\n",
       "Effluent                        float64\n",
       "Sedimentation                   float64\n",
       "New_Development                 float64\n",
       "Habitat_Modification           category\n",
       "Invasive_Algae                 category\n",
       "Fishing_Comm_Total              float64\n",
       "Fishing_NonComm_Boat_Total      float64\n",
       "Fishing_NonComm_Shore_Line      float64\n",
       "Fishing_NonComm_Shore_Net       float64\n",
       "Fishing_NonComm_Shore_Spear     float64\n",
       "SST_CLIM_M                      float64\n",
       "SST_STD                         float64\n",
       "CHL_CLIM_M                      float64\n",
       "CHL_ANOM_F                      float64\n",
       "PAR_CLIM_M                      float64\n",
       "PAR_STD                         float64\n",
       "WAV_CLIM_M                      float64\n",
       "WAV_ANOM_F                      float64\n",
       "Complexity                      float64\n",
       "Depth                           float64\n",
       "Regime                         category\n",
       "Regime1                        category\n",
       "Regime2                        category\n",
       "Regime3                        category\n",
       "Regime5                        category\n",
       "dtype: object"
      ]
     },
     "execution_count": 26,
     "metadata": {},
     "output_type": "execute_result"
    }
   ],
   "source": [
    "train.dtypes"
   ]
  },
  {
   "cell_type": "markdown",
   "metadata": {},
   "source": [
    "## Logistic Regression"
   ]
  },
  {
   "cell_type": "markdown",
   "metadata": {},
   "source": [
    "##### Split data into train and test set"
   ]
  },
  {
   "cell_type": "code",
   "execution_count": 27,
   "metadata": {},
   "outputs": [],
   "source": [
    "# isolate the predictors and labels for both the training and test set\n",
    "train_X = train.iloc[:, 14:34]\n",
    "train_y = train['Regime']\n",
    "\n",
    "test_X = test.iloc[:, 14:34]\n",
    "test_y = test['Regime']"
   ]
  },
  {
   "cell_type": "code",
   "execution_count": 20,
   "metadata": {},
   "outputs": [],
   "source": [
    "pred_names = df.iloc[:, 14:34].columns"
   ]
  },
  {
   "cell_type": "code",
   "execution_count": 29,
   "metadata": {},
   "outputs": [
    {
     "data": {
      "text/plain": [
       "Secondary                       float64\n",
       "Effluent                        float64\n",
       "Sedimentation                   float64\n",
       "New_Development                 float64\n",
       "Habitat_Modification           category\n",
       "Invasive_Algae                 category\n",
       "Fishing_Comm_Total              float64\n",
       "Fishing_NonComm_Boat_Total      float64\n",
       "Fishing_NonComm_Shore_Line      float64\n",
       "Fishing_NonComm_Shore_Net       float64\n",
       "Fishing_NonComm_Shore_Spear     float64\n",
       "SST_CLIM_M                      float64\n",
       "SST_STD                         float64\n",
       "CHL_CLIM_M                      float64\n",
       "CHL_ANOM_F                      float64\n",
       "PAR_CLIM_M                      float64\n",
       "PAR_STD                         float64\n",
       "WAV_CLIM_M                      float64\n",
       "WAV_ANOM_F                      float64\n",
       "Complexity                      float64\n",
       "dtype: object"
      ]
     },
     "execution_count": 29,
     "metadata": {},
     "output_type": "execute_result"
    }
   ],
   "source": [
    "train_X.dtypes"
   ]
  },
  {
   "cell_type": "markdown",
   "metadata": {},
   "source": [
    "##### Standardize the data"
   ]
  },
  {
   "cell_type": "code",
   "execution_count": 30,
   "metadata": {},
   "outputs": [
    {
     "name": "stderr",
     "output_type": "stream",
     "text": [
      "/anaconda3/lib/python3.6/site-packages/sklearn/utils/validation.py:595: DataConversionWarning: Data with input dtype object was converted to float64 by StandardScaler.\n",
      "  warnings.warn(msg, DataConversionWarning)\n",
      "/anaconda3/lib/python3.6/site-packages/sklearn/utils/validation.py:595: DataConversionWarning: Data with input dtype object was converted to float64 by StandardScaler.\n",
      "  warnings.warn(msg, DataConversionWarning)\n",
      "/anaconda3/lib/python3.6/site-packages/sklearn/utils/validation.py:595: DataConversionWarning: Data with input dtype object was converted to float64 by StandardScaler.\n",
      "  warnings.warn(msg, DataConversionWarning)\n"
     ]
    }
   ],
   "source": [
    "scaler = StandardScaler()\n",
    "\n",
    "# Fit on training set only.\n",
    "scaler.fit(train_X.values)\n",
    "\n",
    "# Apply transform to both the training set and the test set.\n",
    "train_X = scaler.transform(train_X.values)\n",
    "test_X = scaler.transform(test_X.values)"
   ]
  },
  {
   "cell_type": "markdown",
   "metadata": {},
   "source": [
    "##### Helper functions for modeling"
   ]
  },
  {
   "cell_type": "code",
   "execution_count": 31,
   "metadata": {},
   "outputs": [],
   "source": [
    "def pretty_print_performance(test_y, test_pred, print_vals=True):\n",
    "    cnf_matrix = metrics.confusion_matrix(test_y, test_pred)\n",
    "    \n",
    "    class_names=['Reg 1', 'Reg 2', 'Reg 3', 'Reg 5']\n",
    "    cnf_matrix = pd.DataFrame(cnf_matrix, index = class_names,\n",
    "                  columns = class_names)\n",
    "    \n",
    "    # plot confusion matrix with heatmap\n",
    "    sns.heatmap(cnf_matrix, annot=True, cmap=\"YlGnBu\" ,fmt='g')\n",
    "    plt.tight_layout()\n",
    "    plt.title('Confusion matrix', y=1.1)\n",
    "    plt.ylabel('Actual label')\n",
    "    plt.xlabel('Predicted label')\n",
    "    \n",
    "    if print_vals :\n",
    "        count_misclassified = (test_y != test_pred).sum()\n",
    "        print('Misclassified samples: {}'.format(count_misclassified))\n",
    "        accuracy = metrics.accuracy_score(test_y, test_pred)    \n",
    "        print('Classification Report:')\n",
    "        print(metrics.classification_report(test_y, test_pred))  \n",
    "\n",
    "def microaveage_F1(test_y, test_pred):\n",
    "    return metrics.classification_report(test_y, test_pred, output_dict=True)['weighted avg']['f1-score']"
   ]
  },
  {
   "cell_type": "markdown",
   "metadata": {},
   "source": [
    "### Multiclass logistic regression model (one vs. rest)"
   ]
  },
  {
   "cell_type": "markdown",
   "metadata": {},
   "source": [
    "##### Fit the model & make predictions"
   ]
  },
  {
   "cell_type": "code",
   "execution_count": 32,
   "metadata": {},
   "outputs": [
    {
     "data": {
      "text/plain": [
       "LogisticRegression(C=1.0, class_weight=None, dual=False, fit_intercept=True,\n",
       "          intercept_scaling=1, max_iter=100, multi_class='ovr',\n",
       "          n_jobs=None, penalty='l2', random_state=None, solver='liblinear',\n",
       "          tol=0.0001, verbose=0, warm_start=False)"
      ]
     },
     "execution_count": 32,
     "metadata": {},
     "output_type": "execute_result"
    }
   ],
   "source": [
    "clf = LogisticRegression(solver='liblinear', multi_class='ovr')\n",
    "clf.fit(train_X, train_y)\n",
    "#clf = LogisticRegression(random_state=0, solver='saga', multi_class='multinomial').fit(train_X, train_y)"
   ]
  },
  {
   "cell_type": "code",
   "execution_count": 33,
   "metadata": {},
   "outputs": [],
   "source": [
    "# make predictions\n",
    "test_pred = clf.predict(test_X)"
   ]
  },
  {
   "cell_type": "markdown",
   "metadata": {},
   "source": [
    "##### Evaluate performance"
   ]
  },
  {
   "cell_type": "code",
   "execution_count": 34,
   "metadata": {},
   "outputs": [
    {
     "name": "stdout",
     "output_type": "stream",
     "text": [
      "Misclassified samples: 39\n",
      "Classification Report:\n",
      "              precision    recall  f1-score   support\n",
      "\n",
      "           1       0.80      0.75      0.78        44\n",
      "           2       0.69      0.68      0.68        37\n",
      "           3       0.52      0.64      0.57        25\n",
      "           5       0.69      0.61      0.65        18\n",
      "\n",
      "   micro avg       0.69      0.69      0.69       124\n",
      "   macro avg       0.68      0.67      0.67       124\n",
      "weighted avg       0.70      0.69      0.69       124\n",
      "\n"
     ]
    },
    {
     "data": {
      "image/png": "[encoded data removed]",
      "text/plain": [
       "<Figure size 432x288 with 2 Axes>"
      ]
     },
     "metadata": {
      "needs_background": "light"
     },
     "output_type": "display_data"
    }
   ],
   "source": [
    "pretty_print_performance(test_y, test_pred)"
   ]
  },
  {
   "cell_type": "markdown",
   "metadata": {},
   "source": [
    "##### Examining variable importance\n",
    "Since this is no longer a focus for the project, I'm not doing this for the other models. Just keeping this here in case we want to revisit it for the final project writeup."
   ]
  },
  {
   "cell_type": "code",
   "execution_count": 35,
   "metadata": {},
   "outputs": [],
   "source": [
    "# create a data frame with the coefficients for all the multiclass logit coefficients\n",
    "coef_ovr = pd.DataFrame(clf.coef_, index=clf.classes_, columns=pred_names)"
   ]
  },
  {
   "cell_type": "code",
   "execution_count": 36,
   "metadata": {},
   "outputs": [
    {
     "data": {
      "text/html": [
       "<div>\n",
       "<style scoped>\n",
       "    .dataframe tbody tr th:only-of-type {\n",
       "        vertical-align: middle;\n",
       "    }\n",
       "\n",
       "    .dataframe tbody tr th {\n",
       "        vertical-align: top;\n",
       "    }\n",
       "\n",
       "    .dataframe thead th {\n",
       "        text-align: right;\n",
       "    }\n",
       "</style>\n",
       "<table border=\"1\" class=\"dataframe\">\n",
       "  <thead>\n",
       "    <tr style=\"text-align: right;\">\n",
       "      <th></th>\n",
       "      <th>Effluent</th>\n",
       "      <th>Depth</th>\n",
       "      <th>Fishing_NonComm_Shore_Line</th>\n",
       "      <th>SST_STD</th>\n",
       "      <th>Fishing_NonComm_Boat_Total</th>\n",
       "      <th>SST_CLIM_M</th>\n",
       "      <th>PAR_CLIM_M</th>\n",
       "      <th>Invasive_Algae</th>\n",
       "      <th>CHL_CLIM_M</th>\n",
       "      <th>Fishing_NonComm_Shore_Spear</th>\n",
       "      <th>Fishing_NonComm_Shore_Net</th>\n",
       "      <th>PAR_STD</th>\n",
       "      <th>Habitat_Modification</th>\n",
       "      <th>Complexity</th>\n",
       "      <th>Sedimentation</th>\n",
       "      <th>Fishing_Comm_Total</th>\n",
       "      <th>CHL_ANOM_F</th>\n",
       "      <th>WAV_ANOM_F</th>\n",
       "      <th>WAV_CLIM_M</th>\n",
       "      <th>New_Development</th>\n",
       "    </tr>\n",
       "  </thead>\n",
       "  <tbody>\n",
       "    <tr>\n",
       "      <th>1</th>\n",
       "      <td>2.730324</td>\n",
       "      <td>0.684462</td>\n",
       "      <td>0.672694</td>\n",
       "      <td>0.663619</td>\n",
       "      <td>0.522909</td>\n",
       "      <td>0.404894</td>\n",
       "      <td>0.223973</td>\n",
       "      <td>0.188662</td>\n",
       "      <td>0.183378</td>\n",
       "      <td>0.157403</td>\n",
       "      <td>0.156011</td>\n",
       "      <td>0.104799</td>\n",
       "      <td>0.097732</td>\n",
       "      <td>0.063223</td>\n",
       "      <td>0.052159</td>\n",
       "      <td>0.051915</td>\n",
       "      <td>0.049917</td>\n",
       "      <td>0.017792</td>\n",
       "      <td>0.014935</td>\n",
       "      <td>0.00626</td>\n",
       "    </tr>\n",
       "  </tbody>\n",
       "</table>\n",
       "</div>"
      ],
      "text/plain": [
       "   Effluent     Depth  Fishing_NonComm_Shore_Line   SST_STD  \\\n",
       "1  2.730324  0.684462                    0.672694  0.663619   \n",
       "\n",
       "   Fishing_NonComm_Boat_Total  SST_CLIM_M  PAR_CLIM_M  Invasive_Algae  \\\n",
       "1                    0.522909    0.404894    0.223973        0.188662   \n",
       "\n",
       "   CHL_CLIM_M  Fishing_NonComm_Shore_Spear  Fishing_NonComm_Shore_Net  \\\n",
       "1    0.183378                     0.157403                   0.156011   \n",
       "\n",
       "    PAR_STD  Habitat_Modification  Complexity  Sedimentation  \\\n",
       "1  0.104799              0.097732    0.063223       0.052159   \n",
       "\n",
       "   Fishing_Comm_Total  CHL_ANOM_F  WAV_ANOM_F  WAV_CLIM_M  New_Development  \n",
       "1            0.051915    0.049917    0.017792    0.014935          0.00626  "
      ]
     },
     "execution_count": 36,
     "metadata": {},
     "output_type": "execute_result"
    }
   ],
   "source": [
    "# sort predictors by the magnitude of their coefficients for regime 1\n",
    "np.abs(coef_ovr.iloc[[0,]]).sort_values(by=1, axis=1, ascending=False)"
   ]
  },
  {
   "cell_type": "code",
   "execution_count": 37,
   "metadata": {},
   "outputs": [
    {
     "data": {
      "text/html": [
       "<div>\n",
       "<style scoped>\n",
       "    .dataframe tbody tr th:only-of-type {\n",
       "        vertical-align: middle;\n",
       "    }\n",
       "\n",
       "    .dataframe tbody tr th {\n",
       "        vertical-align: top;\n",
       "    }\n",
       "\n",
       "    .dataframe thead th {\n",
       "        text-align: right;\n",
       "    }\n",
       "</style>\n",
       "<table border=\"1\" class=\"dataframe\">\n",
       "  <thead>\n",
       "    <tr style=\"text-align: right;\">\n",
       "      <th></th>\n",
       "      <th>SST_STD</th>\n",
       "      <th>WAV_ANOM_F</th>\n",
       "      <th>Effluent</th>\n",
       "      <th>CHL_CLIM_M</th>\n",
       "      <th>PAR_CLIM_M</th>\n",
       "      <th>Complexity</th>\n",
       "      <th>Fishing_NonComm_Shore_Spear</th>\n",
       "      <th>Fishing_NonComm_Shore_Line</th>\n",
       "      <th>Fishing_NonComm_Boat_Total</th>\n",
       "      <th>New_Development</th>\n",
       "      <th>Fishing_Comm_Total</th>\n",
       "      <th>SST_CLIM_M</th>\n",
       "      <th>Habitat_Modification</th>\n",
       "      <th>Depth</th>\n",
       "      <th>Invasive_Algae</th>\n",
       "      <th>WAV_CLIM_M</th>\n",
       "      <th>Fishing_NonComm_Shore_Net</th>\n",
       "      <th>Sedimentation</th>\n",
       "      <th>CHL_ANOM_F</th>\n",
       "      <th>PAR_STD</th>\n",
       "    </tr>\n",
       "  </thead>\n",
       "  <tbody>\n",
       "    <tr>\n",
       "      <th>2</th>\n",
       "      <td>0.759001</td>\n",
       "      <td>0.517907</td>\n",
       "      <td>0.444405</td>\n",
       "      <td>0.442679</td>\n",
       "      <td>0.425991</td>\n",
       "      <td>0.321575</td>\n",
       "      <td>0.300088</td>\n",
       "      <td>0.28406</td>\n",
       "      <td>0.275976</td>\n",
       "      <td>0.271115</td>\n",
       "      <td>0.240211</td>\n",
       "      <td>0.224184</td>\n",
       "      <td>0.217441</td>\n",
       "      <td>0.181255</td>\n",
       "      <td>0.128938</td>\n",
       "      <td>0.097616</td>\n",
       "      <td>0.064584</td>\n",
       "      <td>0.044908</td>\n",
       "      <td>0.020336</td>\n",
       "      <td>0.007527</td>\n",
       "    </tr>\n",
       "  </tbody>\n",
       "</table>\n",
       "</div>"
      ],
      "text/plain": [
       "    SST_STD  WAV_ANOM_F  Effluent  CHL_CLIM_M  PAR_CLIM_M  Complexity  \\\n",
       "2  0.759001    0.517907  0.444405    0.442679    0.425991    0.321575   \n",
       "\n",
       "   Fishing_NonComm_Shore_Spear  Fishing_NonComm_Shore_Line  \\\n",
       "2                     0.300088                     0.28406   \n",
       "\n",
       "   Fishing_NonComm_Boat_Total  New_Development  Fishing_Comm_Total  \\\n",
       "2                    0.275976         0.271115            0.240211   \n",
       "\n",
       "   SST_CLIM_M  Habitat_Modification     Depth  Invasive_Algae  WAV_CLIM_M  \\\n",
       "2    0.224184              0.217441  0.181255        0.128938    0.097616   \n",
       "\n",
       "   Fishing_NonComm_Shore_Net  Sedimentation  CHL_ANOM_F   PAR_STD  \n",
       "2                   0.064584       0.044908    0.020336  0.007527  "
      ]
     },
     "execution_count": 37,
     "metadata": {},
     "output_type": "execute_result"
    }
   ],
   "source": [
    "# for regime 2\n",
    "np.abs(coef_ovr.iloc[[1,]]).sort_values(by=2, axis=1, ascending=False)"
   ]
  },
  {
   "cell_type": "code",
   "execution_count": 38,
   "metadata": {},
   "outputs": [
    {
     "data": {
      "text/html": [
       "<div>\n",
       "<style scoped>\n",
       "    .dataframe tbody tr th:only-of-type {\n",
       "        vertical-align: middle;\n",
       "    }\n",
       "\n",
       "    .dataframe tbody tr th {\n",
       "        vertical-align: top;\n",
       "    }\n",
       "\n",
       "    .dataframe thead th {\n",
       "        text-align: right;\n",
       "    }\n",
       "</style>\n",
       "<table border=\"1\" class=\"dataframe\">\n",
       "  <thead>\n",
       "    <tr style=\"text-align: right;\">\n",
       "      <th></th>\n",
       "      <th>SST_STD</th>\n",
       "      <th>Fishing_NonComm_Shore_Spear</th>\n",
       "      <th>CHL_ANOM_F</th>\n",
       "      <th>Fishing_Comm_Total</th>\n",
       "      <th>CHL_CLIM_M</th>\n",
       "      <th>Effluent</th>\n",
       "      <th>Fishing_NonComm_Boat_Total</th>\n",
       "      <th>New_Development</th>\n",
       "      <th>WAV_CLIM_M</th>\n",
       "      <th>PAR_CLIM_M</th>\n",
       "      <th>Fishing_NonComm_Shore_Net</th>\n",
       "      <th>WAV_ANOM_F</th>\n",
       "      <th>Habitat_Modification</th>\n",
       "      <th>Fishing_NonComm_Shore_Line</th>\n",
       "      <th>Complexity</th>\n",
       "      <th>PAR_STD</th>\n",
       "      <th>Invasive_Algae</th>\n",
       "      <th>SST_CLIM_M</th>\n",
       "      <th>Depth</th>\n",
       "      <th>Sedimentation</th>\n",
       "    </tr>\n",
       "  </thead>\n",
       "  <tbody>\n",
       "    <tr>\n",
       "      <th>3</th>\n",
       "      <td>1.002872</td>\n",
       "      <td>0.65047</td>\n",
       "      <td>0.649518</td>\n",
       "      <td>0.64853</td>\n",
       "      <td>0.485345</td>\n",
       "      <td>0.397026</td>\n",
       "      <td>0.379915</td>\n",
       "      <td>0.335152</td>\n",
       "      <td>0.308862</td>\n",
       "      <td>0.29202</td>\n",
       "      <td>0.260832</td>\n",
       "      <td>0.254787</td>\n",
       "      <td>0.237031</td>\n",
       "      <td>0.222558</td>\n",
       "      <td>0.181412</td>\n",
       "      <td>0.164095</td>\n",
       "      <td>0.15634</td>\n",
       "      <td>0.090288</td>\n",
       "      <td>0.089791</td>\n",
       "      <td>0.031064</td>\n",
       "    </tr>\n",
       "  </tbody>\n",
       "</table>\n",
       "</div>"
      ],
      "text/plain": [
       "    SST_STD  Fishing_NonComm_Shore_Spear  CHL_ANOM_F  Fishing_Comm_Total  \\\n",
       "3  1.002872                      0.65047    0.649518             0.64853   \n",
       "\n",
       "   CHL_CLIM_M  Effluent  Fishing_NonComm_Boat_Total  New_Development  \\\n",
       "3    0.485345  0.397026                    0.379915         0.335152   \n",
       "\n",
       "   WAV_CLIM_M  PAR_CLIM_M  Fishing_NonComm_Shore_Net  WAV_ANOM_F  \\\n",
       "3    0.308862     0.29202                   0.260832    0.254787   \n",
       "\n",
       "   Habitat_Modification  Fishing_NonComm_Shore_Line  Complexity   PAR_STD  \\\n",
       "3              0.237031                    0.222558    0.181412  0.164095   \n",
       "\n",
       "   Invasive_Algae  SST_CLIM_M     Depth  Sedimentation  \n",
       "3         0.15634    0.090288  0.089791       0.031064  "
      ]
     },
     "execution_count": 38,
     "metadata": {},
     "output_type": "execute_result"
    }
   ],
   "source": [
    "# for regime 3\n",
    "np.abs(coef_ovr.iloc[[2,]]).sort_values(by=3, axis=1, ascending=False)"
   ]
  },
  {
   "cell_type": "code",
   "execution_count": 39,
   "metadata": {},
   "outputs": [
    {
     "data": {
      "text/html": [
       "<div>\n",
       "<style scoped>\n",
       "    .dataframe tbody tr th:only-of-type {\n",
       "        vertical-align: middle;\n",
       "    }\n",
       "\n",
       "    .dataframe tbody tr th {\n",
       "        vertical-align: top;\n",
       "    }\n",
       "\n",
       "    .dataframe thead th {\n",
       "        text-align: right;\n",
       "    }\n",
       "</style>\n",
       "<table border=\"1\" class=\"dataframe\">\n",
       "  <thead>\n",
       "    <tr style=\"text-align: right;\">\n",
       "      <th></th>\n",
       "      <th>Fishing_NonComm_Shore_Spear</th>\n",
       "      <th>WAV_ANOM_F</th>\n",
       "      <th>Fishing_Comm_Total</th>\n",
       "      <th>Fishing_NonComm_Shore_Line</th>\n",
       "      <th>SST_STD</th>\n",
       "      <th>Habitat_Modification</th>\n",
       "      <th>Depth</th>\n",
       "      <th>PAR_STD</th>\n",
       "      <th>CHL_CLIM_M</th>\n",
       "      <th>Fishing_NonComm_Boat_Total</th>\n",
       "      <th>CHL_ANOM_F</th>\n",
       "      <th>Fishing_NonComm_Shore_Net</th>\n",
       "      <th>Complexity</th>\n",
       "      <th>WAV_CLIM_M</th>\n",
       "      <th>Effluent</th>\n",
       "      <th>SST_CLIM_M</th>\n",
       "      <th>Invasive_Algae</th>\n",
       "      <th>Sedimentation</th>\n",
       "      <th>PAR_CLIM_M</th>\n",
       "      <th>New_Development</th>\n",
       "    </tr>\n",
       "  </thead>\n",
       "  <tbody>\n",
       "    <tr>\n",
       "      <th>5</th>\n",
       "      <td>0.738641</td>\n",
       "      <td>0.7239</td>\n",
       "      <td>0.704514</td>\n",
       "      <td>0.680328</td>\n",
       "      <td>0.485584</td>\n",
       "      <td>0.478403</td>\n",
       "      <td>0.420749</td>\n",
       "      <td>0.411005</td>\n",
       "      <td>0.365012</td>\n",
       "      <td>0.325304</td>\n",
       "      <td>0.292618</td>\n",
       "      <td>0.286626</td>\n",
       "      <td>0.267134</td>\n",
       "      <td>0.249412</td>\n",
       "      <td>0.22718</td>\n",
       "      <td>0.17644</td>\n",
       "      <td>0.141707</td>\n",
       "      <td>0.103528</td>\n",
       "      <td>0.05881</td>\n",
       "      <td>0.024854</td>\n",
       "    </tr>\n",
       "  </tbody>\n",
       "</table>\n",
       "</div>"
      ],
      "text/plain": [
       "   Fishing_NonComm_Shore_Spear  WAV_ANOM_F  Fishing_Comm_Total  \\\n",
       "5                     0.738641      0.7239            0.704514   \n",
       "\n",
       "   Fishing_NonComm_Shore_Line   SST_STD  Habitat_Modification     Depth  \\\n",
       "5                    0.680328  0.485584              0.478403  0.420749   \n",
       "\n",
       "    PAR_STD  CHL_CLIM_M  Fishing_NonComm_Boat_Total  CHL_ANOM_F  \\\n",
       "5  0.411005    0.365012                    0.325304    0.292618   \n",
       "\n",
       "   Fishing_NonComm_Shore_Net  Complexity  WAV_CLIM_M  Effluent  SST_CLIM_M  \\\n",
       "5                   0.286626    0.267134    0.249412   0.22718     0.17644   \n",
       "\n",
       "   Invasive_Algae  Sedimentation  PAR_CLIM_M  New_Development  \n",
       "5        0.141707       0.103528     0.05881         0.024854  "
      ]
     },
     "execution_count": 39,
     "metadata": {},
     "output_type": "execute_result"
    }
   ],
   "source": [
    "# for regime 5\n",
    "np.abs(coef_ovr.iloc[[3,]]).sort_values(by=5, axis=1, ascending=False)"
   ]
  },
  {
   "cell_type": "markdown",
   "metadata": {},
   "source": [
    "### Multiclass logistic regression model (multinomial)"
   ]
  },
  {
   "cell_type": "markdown",
   "metadata": {},
   "source": [
    "##### Fit the model & make predictions"
   ]
  },
  {
   "cell_type": "code",
   "execution_count": 40,
   "metadata": {},
   "outputs": [
    {
     "data": {
      "text/plain": [
       "LogisticRegression(C=1.0, class_weight=None, dual=False, fit_intercept=True,\n",
       "          intercept_scaling=1, max_iter=100, multi_class='multinomial',\n",
       "          n_jobs=None, penalty='l2', random_state=None, solver='newton-cg',\n",
       "          tol=0.0001, verbose=0, warm_start=False)"
      ]
     },
     "execution_count": 40,
     "metadata": {},
     "output_type": "execute_result"
    }
   ],
   "source": [
    "clf_multi = LogisticRegression(solver='newton-cg', multi_class='multinomial')\n",
    "clf_multi.fit(train_X, train_y)"
   ]
  },
  {
   "cell_type": "code",
   "execution_count": 41,
   "metadata": {},
   "outputs": [],
   "source": [
    "# make predictions\n",
    "test_pred_multi = clf_multi.predict(test_X)"
   ]
  },
  {
   "cell_type": "markdown",
   "metadata": {},
   "source": [
    "##### Evaluate performance"
   ]
  },
  {
   "cell_type": "code",
   "execution_count": 42,
   "metadata": {},
   "outputs": [
    {
     "name": "stdout",
     "output_type": "stream",
     "text": [
      "Misclassified samples: 40\n",
      "Classification Report:\n",
      "              precision    recall  f1-score   support\n",
      "\n",
      "           1       0.80      0.75      0.78        44\n",
      "           2       0.71      0.68      0.69        37\n",
      "           3       0.48      0.64      0.55        25\n",
      "           5       0.67      0.56      0.61        18\n",
      "\n",
      "   micro avg       0.68      0.68      0.68       124\n",
      "   macro avg       0.67      0.66      0.66       124\n",
      "weighted avg       0.69      0.68      0.68       124\n",
      "\n"
     ]
    },
    {
     "data": {
      "image/png": "[encoded data removed]",
      "text/plain": [
       "<Figure size 432x288 with 2 Axes>"
      ]
     },
     "metadata": {
      "needs_background": "light"
     },
     "output_type": "display_data"
    }
   ],
   "source": [
    "pretty_print_performance(test_y, test_pred_multi)"
   ]
  },
  {
   "cell_type": "code",
   "execution_count": 27,
   "metadata": {},
   "outputs": [
    {
     "name": "stdout",
     "output_type": "stream",
     "text": [
      "Best C: 0.2682695795279725\n"
     ]
    }
   ],
   "source": [
    "from sklearn.model_selection import GridSearchCV\n",
    "from sklearn.metrics import make_scorer, zero_one_loss\n",
    "C = np.logspace(-4, 4, 15)\n",
    "hyperparameters = dict(C=C)\n",
    "clf = GridSearchCV(LogisticRegression(solver='newton-cg',\n",
    "                                      multi_class='multinomial', \n",
    "                                      penalty='l2',\n",
    "                                      random_state=1), \n",
    "                   hyperparameters, cv=5, verbose=0, iid=False,\n",
    "                   scoring=make_scorer(metrics.f1_score, average='micro', greater_is_better=True),\n",
    "                   return_train_score=True)\n",
    "best_model = clf.fit(train_X, train_y)\n",
    "\n",
    "# Best Model is the model picked with the optimal C retrained on the\n",
    "# entire training data.\n",
    "\n",
    "print('Best C:', best_model.best_estimator_.get_params()['C'])"
   ]
  },
  {
   "cell_type": "code",
   "execution_count": 28,
   "metadata": {},
   "outputs": [
    {
     "data": {
      "image/png": "[encoded data removed]",
      "text/plain": [
       "<Figure size 936x432 with 1 Axes>"
      ]
     },
     "metadata": {},
     "output_type": "display_data"
    }
   ],
   "source": [
    "# from scikit-learn, \"Demonstration of multi-metric evaluation on cross_val_score and GridSearchCV\" \n",
    "# https://scikit-learn.org/stable/auto_examples/model_selection/plot_multi_metric_evaluation.html\n",
    "results = clf.cv_results_\n",
    "\n",
    "plt.figure(figsize=(13, 6))\n",
    "plt.title(\"Microaverage of F1 score vs model complexity\",\n",
    "          fontsize=16)\n",
    "\n",
    "plt.xlabel(\"C for L2 regularization\")\n",
    "plt.ylabel(\"Microaverage of F1 score\")\n",
    "\n",
    "ax = plt.gca()\n",
    "plt.xscale(\"log\")\n",
    "ax.set_xlim(C[0], C[-1])\n",
    "\n",
    "# Get the regular numpy array from the MaskedArray\n",
    "X_axis = np.array(results['param_C'].data, dtype=float)\n",
    "\n",
    "sample_score_mean = results['mean_test_score']\n",
    "# sample_score_std = results['std_test_score']\n",
    "\n",
    "train_score_mean = results['mean_train_score']\n",
    "\n",
    "# add error bars\n",
    "plt.errorbar(x = X_axis, y = sample_score_mean, \n",
    "             label='Validation Mean', capsize=4, capthick=2)\n",
    "plt.errorbar(x = X_axis, y = train_score_mean, \n",
    "             label='Test Mean', capsize=4, capthick=2)\n",
    "\n",
    "plt.legend()\n",
    "\n",
    "plt.grid(False)\n",
    "plt.show()"
   ]
  },
  {
   "cell_type": "markdown",
   "metadata": {},
   "source": [
    "## Confusion matrix for Cross Validated Regularization"
   ]
  },
  {
   "cell_type": "code",
   "execution_count": 34,
   "metadata": {},
   "outputs": [
    {
     "data": {
      "image/png": "[encoded data removed]",
      "text/plain": [
       "<Figure size 432x288 with 2 Axes>"
      ]
     },
     "metadata": {},
     "output_type": "display_data"
    }
   ],
   "source": [
    "train_pred_multi = best_model.predict(train_X)\n",
    "pretty_print_performance(train_y, train_pred_multi, False)"
   ]
  },
  {
   "cell_type": "markdown",
   "metadata": {},
   "source": [
    "## Error Analysis"
   ]
  },
  {
   "cell_type": "code",
   "execution_count": null,
   "metadata": {},
   "outputs": [],
   "source": []
  }
 ],
 "metadata": {
  "kernelspec": {
   "display_name": "Python [default]",
   "language": "python",
   "name": "python3"
  },
  "language_info": {
   "codemirror_mode": {
    "name": "ipython",
    "version": 3
   },
   "file_extension": ".py",
   "mimetype": "text/x-python",
   "name": "python",
   "nbconvert_exporter": "python",
   "pygments_lexer": "ipython3",
   "version": "3.6.7"
  }
 },
 "nbformat": 4,
 "nbformat_minor": 2
}
