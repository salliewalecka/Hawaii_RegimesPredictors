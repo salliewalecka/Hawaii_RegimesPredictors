{
 "cells": [
  {
   "cell_type": "code",
   "execution_count": 2,
   "metadata": {},
   "outputs": [],
   "source": [
    "import numpy as np\n",
    "import pandas as pd\n",
    "import matplotlib.pyplot as plt\n",
    "import seaborn as sns\n",
    "import random\n",
    "from sklearn.model_selection import train_test_split\n",
    "import matplotlib.colors as colors\n",
    "import matplotlib.cm as cmx\n",
    "from statsmodels.stats.outliers_influence import variance_inflation_factor\n",
    "from statsmodels.tools.tools import add_constant\n",
    "from sklearn.linear_model import LogisticRegression\n",
    "from sklearn import metrics\n",
    "from sklearn.preprocessing import StandardScaler\n",
    "from sklearn.svm import SVC \n",
    "from sklearn.ensemble.partial_dependence import partial_dependence, plot_partial_dependence\n",
    "\n",
    "from Notebook_helpers import load_data\n",
    "from Notebook_helpers.modeling_helpers import *\n",
    "\n",
    "%matplotlib inline"
   ]
  },
  {
   "cell_type": "markdown",
   "metadata": {},
   "source": [
    "## Read in the data"
   ]
  },
  {
   "cell_type": "code",
   "execution_count": 3,
   "metadata": {},
   "outputs": [],
   "source": [
    "df, train, val, test = load_data.load_coral_data(complete=True, CV=False, convert_to_categorical=True)"
   ]
  },
  {
   "cell_type": "markdown",
   "metadata": {},
   "source": [
    "## Logistic Regression"
   ]
  },
  {
   "cell_type": "markdown",
   "metadata": {},
   "source": [
    "#### Data Prep"
   ]
  },
  {
   "cell_type": "code",
   "execution_count": 4,
   "metadata": {},
   "outputs": [],
   "source": [
    "# isolate the predictors and labels for both the training and test set\n",
    "train_X, train_y, pred_names = load_data.get_features_and_response(train, with_feature_eng = False)\n",
    "val_X, val_y, _ = load_data.get_features_and_response(val, with_feature_eng = False)"
   ]
  },
  {
   "cell_type": "markdown",
   "metadata": {},
   "source": [
    "##### Standardize the data"
   ]
  },
  {
   "cell_type": "code",
   "execution_count": 6,
   "metadata": {},
   "outputs": [],
   "source": [
    "scaler = StandardScaler()\n",
    "\n",
    "# Fit on training set only.\n",
    "scaler.fit(train_X.values)\n",
    "\n",
    "# Apply transform to both the training set and the test set.\n",
    "train_X = scaler.transform(train_X.values)\n",
    "val_X = scaler.transform(val_X.values)"
   ]
  },
  {
   "cell_type": "markdown",
   "metadata": {},
   "source": [
    "### Multiclass logistic regression model (one vs. rest)"
   ]
  },
  {
   "cell_type": "markdown",
   "metadata": {},
   "source": [
    "##### Fit the model & make predictions"
   ]
  },
  {
   "cell_type": "code",
   "execution_count": 7,
   "metadata": {},
   "outputs": [
    {
     "data": {
      "text/plain": [
       "LogisticRegression(C=1.0, class_weight=None, dual=False, fit_intercept=True,\n",
       "                   intercept_scaling=1, l1_ratio=None, max_iter=100,\n",
       "                   multi_class='ovr', n_jobs=None, penalty='l2',\n",
       "                   random_state=None, solver='liblinear', tol=0.0001, verbose=0,\n",
       "                   warm_start=False)"
      ]
     },
     "execution_count": 7,
     "metadata": {},
     "output_type": "execute_result"
    }
   ],
   "source": [
    "clf = LogisticRegression(solver='liblinear', multi_class='ovr')\n",
    "clf.fit(train_X, train_y)\n",
    "#clf = LogisticRegression(random_state=0, solver='saga', multi_class='multinomial').fit(train_X, train_y)"
   ]
  },
  {
   "cell_type": "code",
   "execution_count": 8,
   "metadata": {},
   "outputs": [],
   "source": [
    "# make predictions\n",
    "val_pred = clf.predict(val_X)"
   ]
  },
  {
   "cell_type": "markdown",
   "metadata": {},
   "source": [
    "##### Evaluate performance"
   ]
  },
  {
   "cell_type": "code",
   "execution_count": 9,
   "metadata": {},
   "outputs": [
    {
     "name": "stdout",
     "output_type": "stream",
     "text": [
      "Misclassified samples: 36\n",
      "Classification Report:\n",
      "              precision    recall  f1-score   support\n",
      "\n",
      "           1       0.68      0.65      0.67        26\n",
      "           2       0.77      0.82      0.79        28\n",
      "           3       0.54      0.60      0.57        25\n",
      "           5       0.53      0.43      0.47        21\n",
      "\n",
      "    accuracy                           0.64       100\n",
      "   macro avg       0.63      0.63      0.62       100\n",
      "weighted avg       0.64      0.64      0.64       100\n",
      "\n"
     ]
    },
    {
     "data": {
      "image/png": "[encoded data removed]",
      "text/plain": [
       "<Figure size 432x288 with 2 Axes>"
      ]
     },
     "metadata": {},
     "output_type": "display_data"
    }
   ],
   "source": [
    "evaluate_performance(val_y, val_pred)"
   ]
  },
  {
   "cell_type": "markdown",
   "metadata": {},
   "source": [
    "##### Examining variable importance\n",
    "Since this is no longer a focus for the project, I'm not doing this for the other models. Just keeping this here in case we want to revisit it for the final project writeup."
   ]
  },
  {
   "cell_type": "code",
   "execution_count": 10,
   "metadata": {},
   "outputs": [],
   "source": [
    "# create a data frame with the coefficients for all the multiclass logit coefficients\n",
    "coef_ovr = pd.DataFrame(clf.coef_, index=clf.classes_, columns=pred_names)"
   ]
  },
  {
   "cell_type": "code",
   "execution_count": 11,
   "metadata": {},
   "outputs": [
    {
     "data": {
      "text/html": [
       "<div>\n",
       "<style scoped>\n",
       "    .dataframe tbody tr th:only-of-type {\n",
       "        vertical-align: middle;\n",
       "    }\n",
       "\n",
       "    .dataframe tbody tr th {\n",
       "        vertical-align: top;\n",
       "    }\n",
       "\n",
       "    .dataframe thead th {\n",
       "        text-align: right;\n",
       "    }\n",
       "</style>\n",
       "<table border=\"1\" class=\"dataframe\">\n",
       "  <thead>\n",
       "    <tr style=\"text-align: right;\">\n",
       "      <th></th>\n",
       "      <th>Complexity</th>\n",
       "      <th>Fishing_NonComm_Boat_Total</th>\n",
       "      <th>Fishing_Comm_Total</th>\n",
       "      <th>Fishing_NonComm_Shore_Spear</th>\n",
       "      <th>SST_CLIM_M</th>\n",
       "      <th>Fishing_NonComm_Shore_Net</th>\n",
       "      <th>Habitat_Modification</th>\n",
       "      <th>SST_STD</th>\n",
       "      <th>Fishing_NonComm_Shore_Line</th>\n",
       "      <th>CHL_ANOM_F</th>\n",
       "      <th>CHL_CLIM_M</th>\n",
       "      <th>New_Development</th>\n",
       "      <th>Effluent</th>\n",
       "      <th>WAV_ANOM_F</th>\n",
       "      <th>Depth</th>\n",
       "      <th>Sedimentation</th>\n",
       "      <th>PAR_CLIM_M</th>\n",
       "      <th>WAV_CLIM_M</th>\n",
       "      <th>PAR_STD</th>\n",
       "      <th>Invasive_Algae</th>\n",
       "    </tr>\n",
       "  </thead>\n",
       "  <tbody>\n",
       "    <tr>\n",
       "      <th>1</th>\n",
       "      <td>1.125321</td>\n",
       "      <td>0.896707</td>\n",
       "      <td>0.56489</td>\n",
       "      <td>0.497815</td>\n",
       "      <td>0.493902</td>\n",
       "      <td>0.360658</td>\n",
       "      <td>0.353188</td>\n",
       "      <td>0.338944</td>\n",
       "      <td>0.302361</td>\n",
       "      <td>0.264709</td>\n",
       "      <td>0.146259</td>\n",
       "      <td>0.103214</td>\n",
       "      <td>0.083776</td>\n",
       "      <td>0.042413</td>\n",
       "      <td>0.034782</td>\n",
       "      <td>0.031995</td>\n",
       "      <td>0.028</td>\n",
       "      <td>0.011868</td>\n",
       "      <td>0.007664</td>\n",
       "      <td>0.005971</td>\n",
       "    </tr>\n",
       "  </tbody>\n",
       "</table>\n",
       "</div>"
      ],
      "text/plain": [
       "   Complexity  Fishing_NonComm_Boat_Total  Fishing_Comm_Total  \\\n",
       "1    1.125321                    0.896707             0.56489   \n",
       "\n",
       "   Fishing_NonComm_Shore_Spear  SST_CLIM_M  Fishing_NonComm_Shore_Net  \\\n",
       "1                     0.497815    0.493902                   0.360658   \n",
       "\n",
       "   Habitat_Modification   SST_STD  Fishing_NonComm_Shore_Line  CHL_ANOM_F  \\\n",
       "1              0.353188  0.338944                    0.302361    0.264709   \n",
       "\n",
       "   CHL_CLIM_M  New_Development  Effluent  WAV_ANOM_F     Depth  Sedimentation  \\\n",
       "1    0.146259         0.103214  0.083776    0.042413  0.034782       0.031995   \n",
       "\n",
       "   PAR_CLIM_M  WAV_CLIM_M   PAR_STD  Invasive_Algae  \n",
       "1       0.028    0.011868  0.007664        0.005971  "
      ]
     },
     "execution_count": 11,
     "metadata": {},
     "output_type": "execute_result"
    }
   ],
   "source": [
    "# sort predictors by the magnitude of their coefficients for regime 1\n",
    "np.abs(coef_ovr.iloc[[0,]]).sort_values(by=1, axis=1, ascending=False)"
   ]
  },
  {
   "cell_type": "code",
   "execution_count": 12,
   "metadata": {},
   "outputs": [
    {
     "data": {
      "text/html": [
       "<div>\n",
       "<style scoped>\n",
       "    .dataframe tbody tr th:only-of-type {\n",
       "        vertical-align: middle;\n",
       "    }\n",
       "\n",
       "    .dataframe tbody tr th {\n",
       "        vertical-align: top;\n",
       "    }\n",
       "\n",
       "    .dataframe thead th {\n",
       "        text-align: right;\n",
       "    }\n",
       "</style>\n",
       "<table border=\"1\" class=\"dataframe\">\n",
       "  <thead>\n",
       "    <tr style=\"text-align: right;\">\n",
       "      <th></th>\n",
       "      <th>SST_CLIM_M</th>\n",
       "      <th>WAV_CLIM_M</th>\n",
       "      <th>Fishing_NonComm_Shore_Net</th>\n",
       "      <th>Fishing_NonComm_Boat_Total</th>\n",
       "      <th>CHL_ANOM_F</th>\n",
       "      <th>WAV_ANOM_F</th>\n",
       "      <th>Fishing_Comm_Total</th>\n",
       "      <th>Fishing_NonComm_Shore_Spear</th>\n",
       "      <th>SST_STD</th>\n",
       "      <th>PAR_STD</th>\n",
       "      <th>Sedimentation</th>\n",
       "      <th>New_Development</th>\n",
       "      <th>Invasive_Algae</th>\n",
       "      <th>Complexity</th>\n",
       "      <th>Habitat_Modification</th>\n",
       "      <th>PAR_CLIM_M</th>\n",
       "      <th>Fishing_NonComm_Shore_Line</th>\n",
       "      <th>Effluent</th>\n",
       "      <th>CHL_CLIM_M</th>\n",
       "      <th>Depth</th>\n",
       "    </tr>\n",
       "  </thead>\n",
       "  <tbody>\n",
       "    <tr>\n",
       "      <th>2</th>\n",
       "      <td>0.724466</td>\n",
       "      <td>0.429314</td>\n",
       "      <td>0.418581</td>\n",
       "      <td>0.364577</td>\n",
       "      <td>0.324644</td>\n",
       "      <td>0.323114</td>\n",
       "      <td>0.31862</td>\n",
       "      <td>0.303084</td>\n",
       "      <td>0.290733</td>\n",
       "      <td>0.274034</td>\n",
       "      <td>0.260498</td>\n",
       "      <td>0.227959</td>\n",
       "      <td>0.227581</td>\n",
       "      <td>0.22489</td>\n",
       "      <td>0.205873</td>\n",
       "      <td>0.13846</td>\n",
       "      <td>0.089077</td>\n",
       "      <td>0.067752</td>\n",
       "      <td>0.032621</td>\n",
       "      <td>0.032601</td>\n",
       "    </tr>\n",
       "  </tbody>\n",
       "</table>\n",
       "</div>"
      ],
      "text/plain": [
       "   SST_CLIM_M  WAV_CLIM_M  Fishing_NonComm_Shore_Net  \\\n",
       "2    0.724466    0.429314                   0.418581   \n",
       "\n",
       "   Fishing_NonComm_Boat_Total  CHL_ANOM_F  WAV_ANOM_F  Fishing_Comm_Total  \\\n",
       "2                    0.364577    0.324644    0.323114             0.31862   \n",
       "\n",
       "   Fishing_NonComm_Shore_Spear   SST_STD   PAR_STD  Sedimentation  \\\n",
       "2                     0.303084  0.290733  0.274034       0.260498   \n",
       "\n",
       "   New_Development  Invasive_Algae  Complexity  Habitat_Modification  \\\n",
       "2         0.227959        0.227581     0.22489              0.205873   \n",
       "\n",
       "   PAR_CLIM_M  Fishing_NonComm_Shore_Line  Effluent  CHL_CLIM_M     Depth  \n",
       "2     0.13846                    0.089077  0.067752    0.032621  0.032601  "
      ]
     },
     "execution_count": 12,
     "metadata": {},
     "output_type": "execute_result"
    }
   ],
   "source": [
    "# for regime 2\n",
    "np.abs(coef_ovr.iloc[[1,]]).sort_values(by=2, axis=1, ascending=False)"
   ]
  },
  {
   "cell_type": "code",
   "execution_count": 13,
   "metadata": {},
   "outputs": [
    {
     "data": {
      "text/html": [
       "<div>\n",
       "<style scoped>\n",
       "    .dataframe tbody tr th:only-of-type {\n",
       "        vertical-align: middle;\n",
       "    }\n",
       "\n",
       "    .dataframe tbody tr th {\n",
       "        vertical-align: top;\n",
       "    }\n",
       "\n",
       "    .dataframe thead th {\n",
       "        text-align: right;\n",
       "    }\n",
       "</style>\n",
       "<table border=\"1\" class=\"dataframe\">\n",
       "  <thead>\n",
       "    <tr style=\"text-align: right;\">\n",
       "      <th></th>\n",
       "      <th>SST_CLIM_M</th>\n",
       "      <th>CHL_CLIM_M</th>\n",
       "      <th>Invasive_Algae</th>\n",
       "      <th>PAR_CLIM_M</th>\n",
       "      <th>PAR_STD</th>\n",
       "      <th>Fishing_NonComm_Shore_Net</th>\n",
       "      <th>SST_STD</th>\n",
       "      <th>Fishing_NonComm_Shore_Line</th>\n",
       "      <th>Fishing_NonComm_Boat_Total</th>\n",
       "      <th>Sedimentation</th>\n",
       "      <th>CHL_ANOM_F</th>\n",
       "      <th>Fishing_Comm_Total</th>\n",
       "      <th>New_Development</th>\n",
       "      <th>Depth</th>\n",
       "      <th>Fishing_NonComm_Shore_Spear</th>\n",
       "      <th>Habitat_Modification</th>\n",
       "      <th>WAV_ANOM_F</th>\n",
       "      <th>WAV_CLIM_M</th>\n",
       "      <th>Complexity</th>\n",
       "      <th>Effluent</th>\n",
       "    </tr>\n",
       "  </thead>\n",
       "  <tbody>\n",
       "    <tr>\n",
       "      <th>3</th>\n",
       "      <td>0.863473</td>\n",
       "      <td>0.674998</td>\n",
       "      <td>0.572055</td>\n",
       "      <td>0.502326</td>\n",
       "      <td>0.495681</td>\n",
       "      <td>0.480769</td>\n",
       "      <td>0.438853</td>\n",
       "      <td>0.413594</td>\n",
       "      <td>0.371087</td>\n",
       "      <td>0.360325</td>\n",
       "      <td>0.338164</td>\n",
       "      <td>0.26101</td>\n",
       "      <td>0.256709</td>\n",
       "      <td>0.224685</td>\n",
       "      <td>0.220567</td>\n",
       "      <td>0.189897</td>\n",
       "      <td>0.15136</td>\n",
       "      <td>0.089837</td>\n",
       "      <td>0.061165</td>\n",
       "      <td>0.058662</td>\n",
       "    </tr>\n",
       "  </tbody>\n",
       "</table>\n",
       "</div>"
      ],
      "text/plain": [
       "   SST_CLIM_M  CHL_CLIM_M  Invasive_Algae  PAR_CLIM_M   PAR_STD  \\\n",
       "3    0.863473    0.674998        0.572055    0.502326  0.495681   \n",
       "\n",
       "   Fishing_NonComm_Shore_Net   SST_STD  Fishing_NonComm_Shore_Line  \\\n",
       "3                   0.480769  0.438853                    0.413594   \n",
       "\n",
       "   Fishing_NonComm_Boat_Total  Sedimentation  CHL_ANOM_F  Fishing_Comm_Total  \\\n",
       "3                    0.371087       0.360325    0.338164             0.26101   \n",
       "\n",
       "   New_Development     Depth  Fishing_NonComm_Shore_Spear  \\\n",
       "3         0.256709  0.224685                     0.220567   \n",
       "\n",
       "   Habitat_Modification  WAV_ANOM_F  WAV_CLIM_M  Complexity  Effluent  \n",
       "3              0.189897     0.15136    0.089837    0.061165  0.058662  "
      ]
     },
     "execution_count": 13,
     "metadata": {},
     "output_type": "execute_result"
    }
   ],
   "source": [
    "# for regime 3\n",
    "np.abs(coef_ovr.iloc[[2,]]).sort_values(by=3, axis=1, ascending=False)"
   ]
  },
  {
   "cell_type": "code",
   "execution_count": 14,
   "metadata": {},
   "outputs": [
    {
     "data": {
      "text/html": [
       "<div>\n",
       "<style scoped>\n",
       "    .dataframe tbody tr th:only-of-type {\n",
       "        vertical-align: middle;\n",
       "    }\n",
       "\n",
       "    .dataframe tbody tr th {\n",
       "        vertical-align: top;\n",
       "    }\n",
       "\n",
       "    .dataframe thead th {\n",
       "        text-align: right;\n",
       "    }\n",
       "</style>\n",
       "<table border=\"1\" class=\"dataframe\">\n",
       "  <thead>\n",
       "    <tr style=\"text-align: right;\">\n",
       "      <th></th>\n",
       "      <th>WAV_CLIM_M</th>\n",
       "      <th>PAR_CLIM_M</th>\n",
       "      <th>Fishing_NonComm_Boat_Total</th>\n",
       "      <th>Invasive_Algae</th>\n",
       "      <th>PAR_STD</th>\n",
       "      <th>Complexity</th>\n",
       "      <th>Fishing_NonComm_Shore_Net</th>\n",
       "      <th>SST_CLIM_M</th>\n",
       "      <th>Fishing_Comm_Total</th>\n",
       "      <th>Fishing_NonComm_Shore_Line</th>\n",
       "      <th>New_Development</th>\n",
       "      <th>SST_STD</th>\n",
       "      <th>CHL_CLIM_M</th>\n",
       "      <th>Depth</th>\n",
       "      <th>CHL_ANOM_F</th>\n",
       "      <th>WAV_ANOM_F</th>\n",
       "      <th>Fishing_NonComm_Shore_Spear</th>\n",
       "      <th>Habitat_Modification</th>\n",
       "      <th>Sedimentation</th>\n",
       "      <th>Effluent</th>\n",
       "    </tr>\n",
       "  </thead>\n",
       "  <tbody>\n",
       "    <tr>\n",
       "      <th>5</th>\n",
       "      <td>0.968901</td>\n",
       "      <td>0.860436</td>\n",
       "      <td>0.684552</td>\n",
       "      <td>0.659847</td>\n",
       "      <td>0.632091</td>\n",
       "      <td>0.489745</td>\n",
       "      <td>0.464468</td>\n",
       "      <td>0.42416</td>\n",
       "      <td>0.423275</td>\n",
       "      <td>0.401427</td>\n",
       "      <td>0.377536</td>\n",
       "      <td>0.36733</td>\n",
       "      <td>0.365008</td>\n",
       "      <td>0.329893</td>\n",
       "      <td>0.303874</td>\n",
       "      <td>0.229534</td>\n",
       "      <td>0.14736</td>\n",
       "      <td>0.132827</td>\n",
       "      <td>0.06583</td>\n",
       "      <td>0.058964</td>\n",
       "    </tr>\n",
       "  </tbody>\n",
       "</table>\n",
       "</div>"
      ],
      "text/plain": [
       "   WAV_CLIM_M  PAR_CLIM_M  Fishing_NonComm_Boat_Total  Invasive_Algae  \\\n",
       "5    0.968901    0.860436                    0.684552        0.659847   \n",
       "\n",
       "    PAR_STD  Complexity  Fishing_NonComm_Shore_Net  SST_CLIM_M  \\\n",
       "5  0.632091    0.489745                   0.464468     0.42416   \n",
       "\n",
       "   Fishing_Comm_Total  Fishing_NonComm_Shore_Line  New_Development  SST_STD  \\\n",
       "5            0.423275                    0.401427         0.377536  0.36733   \n",
       "\n",
       "   CHL_CLIM_M     Depth  CHL_ANOM_F  WAV_ANOM_F  Fishing_NonComm_Shore_Spear  \\\n",
       "5    0.365008  0.329893    0.303874    0.229534                      0.14736   \n",
       "\n",
       "   Habitat_Modification  Sedimentation  Effluent  \n",
       "5              0.132827        0.06583  0.058964  "
      ]
     },
     "execution_count": 14,
     "metadata": {},
     "output_type": "execute_result"
    }
   ],
   "source": [
    "# for regime 5\n",
    "np.abs(coef_ovr.iloc[[3,]]).sort_values(by=5, axis=1, ascending=False)"
   ]
  },
  {
   "cell_type": "markdown",
   "metadata": {},
   "source": [
    "### Multiclass logistic regression model (multinomial)"
   ]
  },
  {
   "cell_type": "markdown",
   "metadata": {},
   "source": [
    "##### Fit the model & make predictions"
   ]
  },
  {
   "cell_type": "code",
   "execution_count": 15,
   "metadata": {},
   "outputs": [
    {
     "data": {
      "text/plain": [
       "LogisticRegression(C=1.0, class_weight=None, dual=False, fit_intercept=True,\n",
       "                   intercept_scaling=1, l1_ratio=None, max_iter=100,\n",
       "                   multi_class='multinomial', n_jobs=None, penalty='l2',\n",
       "                   random_state=None, solver='newton-cg', tol=0.0001, verbose=0,\n",
       "                   warm_start=False)"
      ]
     },
     "execution_count": 15,
     "metadata": {},
     "output_type": "execute_result"
    }
   ],
   "source": [
    "clf_multi = LogisticRegression(solver='newton-cg', multi_class='multinomial')\n",
    "clf_multi.fit(train_X, train_y)"
   ]
  },
  {
   "cell_type": "code",
   "execution_count": 16,
   "metadata": {},
   "outputs": [],
   "source": [
    "# make predictions\n",
    "val_pred_multi = clf_multi.predict(val_X)"
   ]
  },
  {
   "cell_type": "markdown",
   "metadata": {},
   "source": [
    "##### Evaluate performance"
   ]
  },
  {
   "cell_type": "code",
   "execution_count": 17,
   "metadata": {},
   "outputs": [
    {
     "name": "stdout",
     "output_type": "stream",
     "text": [
      "Misclassified samples: 34\n",
      "Classification Report:\n",
      "              precision    recall  f1-score   support\n",
      "\n",
      "           1       0.65      0.65      0.65        26\n",
      "           2       0.79      0.79      0.79        28\n",
      "           3       0.58      0.72      0.64        25\n",
      "           5       0.60      0.43      0.50        21\n",
      "\n",
      "    accuracy                           0.66       100\n",
      "   macro avg       0.66      0.65      0.65       100\n",
      "weighted avg       0.66      0.66      0.66       100\n",
      "\n"
     ]
    },
    {
     "data": {
      "image/png": "[encoded data removed]",
      "text/plain": [
       "<Figure size 432x288 with 2 Axes>"
      ]
     },
     "metadata": {},
     "output_type": "display_data"
    }
   ],
   "source": [
    "evaluate_performance(val_y, val_pred_multi)"
   ]
  },
  {
   "cell_type": "code",
   "execution_count": 18,
   "metadata": {},
   "outputs": [
    {
     "name": "stdout",
     "output_type": "stream",
     "text": [
      "Best C: 0.07196856730011514\n"
     ]
    }
   ],
   "source": [
    "from sklearn.model_selection import GridSearchCV\n",
    "from sklearn.metrics import make_scorer, zero_one_loss\n",
    "C = np.logspace(-4, 4, 15)\n",
    "hyperparameters = dict(C=C)\n",
    "clf = GridSearchCV(LogisticRegression(solver='newton-cg',\n",
    "                                      multi_class='multinomial', \n",
    "                                      penalty='l2',\n",
    "                                      random_state=1), \n",
    "                   hyperparameters, cv=5, verbose=0, iid=False,\n",
    "                   scoring=make_scorer(metrics.f1_score, average='micro', greater_is_better=True),\n",
    "                   return_train_score=True)\n",
    "best_model = clf.fit(train_X, train_y)\n",
    "\n",
    "# Best Model is the model picked with the optimal C retrained on the\n",
    "# entire training data.\n",
    "\n",
    "print('Best C:', best_model.best_estimator_.get_params()['C'])"
   ]
  },
  {
   "cell_type": "code",
   "execution_count": 19,
   "metadata": {},
   "outputs": [
    {
     "data": {
      "image/png": "[encoded data removed]",
      "text/plain": [
       "<Figure size 936x432 with 1 Axes>"
      ]
     },
     "metadata": {},
     "output_type": "display_data"
    }
   ],
   "source": [
    "# from scikit-learn, \"Demonstration of multi-metric evaluation on cross_val_score and GridSearchCV\" \n",
    "# https://scikit-learn.org/stable/auto_examples/model_selection/plot_multi_metric_evaluation.html\n",
    "results = clf.cv_results_\n",
    "\n",
    "plt.figure(figsize=(13, 6))\n",
    "plt.title(\"Microaverage of F1 score vs model complexity\",\n",
    "          fontsize=16)\n",
    "\n",
    "plt.xlabel(\"C for L2 regularization\")\n",
    "plt.ylabel(\"Microaverage of F1 score\")\n",
    "\n",
    "ax = plt.gca()\n",
    "plt.xscale(\"log\")\n",
    "ax.set_xlim(C[0], C[-1])\n",
    "\n",
    "# Get the regular numpy array from the MaskedArray\n",
    "X_axis = np.array(results['param_C'].data, dtype=float)\n",
    "\n",
    "sample_score_mean = results['mean_test_score']\n",
    "# sample_score_std = results['std_test_score']\n",
    "\n",
    "train_score_mean = results['mean_train_score']\n",
    "\n",
    "# add error bars\n",
    "plt.errorbar(x = X_axis, y = sample_score_mean, \n",
    "             label='Validation Mean', capsize=4, capthick=2)\n",
    "plt.errorbar(x = X_axis, y = train_score_mean, \n",
    "             label='Train Mean', capsize=4, capthick=2)\n",
    "\n",
    "plt.legend()\n",
    "\n",
    "plt.grid(False)\n",
    "plt.show()"
   ]
  },
  {
   "cell_type": "markdown",
   "metadata": {},
   "source": [
    "## Confusion matrix for Cross Validated Regularization"
   ]
  },
  {
   "cell_type": "code",
   "execution_count": 20,
   "metadata": {},
   "outputs": [
    {
     "data": {
      "image/png": "[encoded data removed]",
      "text/plain": [
       "<Figure size 432x288 with 2 Axes>"
      ]
     },
     "metadata": {},
     "output_type": "display_data"
    }
   ],
   "source": [
    "train_pred_multi = best_model.predict(train_X)\n",
    "evaluate_performance(train_y, train_pred_multi, False)"
   ]
  },
  {
   "cell_type": "markdown",
   "metadata": {},
   "source": [
    "## Error Analysis"
   ]
  },
  {
   "cell_type": "code",
   "execution_count": null,
   "metadata": {},
   "outputs": [],
   "source": []
  }
 ],
 "metadata": {
  "kernelspec": {
   "display_name": "Python [default]",
   "language": "python",
   "name": "python3"
  },
  "language_info": {
   "codemirror_mode": {
    "name": "ipython",
    "version": 3
   },
   "file_extension": ".py",
   "mimetype": "text/x-python",
   "name": "python",
   "nbconvert_exporter": "python",
   "pygments_lexer": "ipython3",
   "version": "3.6.7"
  }
 },
 "nbformat": 4,
 "nbformat_minor": 2
}
