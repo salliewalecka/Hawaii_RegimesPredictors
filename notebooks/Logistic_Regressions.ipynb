{
 "cells": [
  {
   "cell_type": "code",
   "execution_count": 1,
   "metadata": {},
   "outputs": [],
   "source": [
    "import numpy as np\n",
    "import pandas as pd\n",
    "import matplotlib.pyplot as plt\n",
    "import seaborn as sns\n",
    "import random\n",
    "from sklearn.model_selection import train_test_split\n",
    "import matplotlib.colors as colors\n",
    "import matplotlib.cm as cmx\n",
    "from statsmodels.stats.outliers_influence import variance_inflation_factor\n",
    "from statsmodels.tools.tools import add_constant\n",
    "from sklearn.linear_model import LogisticRegression\n",
    "from sklearn import metrics\n",
    "from sklearn.preprocessing import StandardScaler\n",
    "from sklearn.svm import SVC \n",
    "from sklearn.ensemble.partial_dependence import partial_dependence, plot_partial_dependence\n",
    "\n",
    "from Notebook_helpers import load_data\n",
    "from Notebook_helpers.modeling_helpers import *\n",
    "\n",
    "%matplotlib inline"
   ]
  },
  {
   "cell_type": "markdown",
   "metadata": {},
   "source": [
    "## Read in the data"
   ]
  },
  {
   "cell_type": "code",
   "execution_count": 2,
   "metadata": {},
   "outputs": [],
   "source": [
    "df, train, val, test = load_data.load_coral_data(complete=True, CV=False, convert_to_categorical=True)"
   ]
  },
  {
   "cell_type": "markdown",
   "metadata": {},
   "source": [
    "## Logistic Regression"
   ]
  },
  {
   "cell_type": "markdown",
   "metadata": {},
   "source": [
    "#### Data Prep"
   ]
  },
  {
   "cell_type": "code",
   "execution_count": 3,
   "metadata": {},
   "outputs": [],
   "source": [
    "# isolate the predictors and labels for both the training and test set\n",
    "train_X = train.iloc[:, 14:34]\n",
    "train_y = train['Regime']\n",
    "\n",
    "val_X = val.iloc[:, 14:34]\n",
    "val_y = val['Regime']\n",
    "\n",
    "pred_names = df.iloc[:, 14:34].columns"
   ]
  },
  {
   "cell_type": "markdown",
   "metadata": {},
   "source": [
    "##### Standardize the data"
   ]
  },
  {
   "cell_type": "code",
   "execution_count": 4,
   "metadata": {},
   "outputs": [
    {
     "name": "stderr",
     "output_type": "stream",
     "text": [
      "/anaconda3/lib/python3.6/site-packages/sklearn/utils/validation.py:595: DataConversionWarning: Data with input dtype object was converted to float64 by StandardScaler.\n",
      "  warnings.warn(msg, DataConversionWarning)\n",
      "/anaconda3/lib/python3.6/site-packages/sklearn/utils/validation.py:595: DataConversionWarning: Data with input dtype object was converted to float64 by StandardScaler.\n",
      "  warnings.warn(msg, DataConversionWarning)\n",
      "/anaconda3/lib/python3.6/site-packages/sklearn/utils/validation.py:595: DataConversionWarning: Data with input dtype object was converted to float64 by StandardScaler.\n",
      "  warnings.warn(msg, DataConversionWarning)\n"
     ]
    }
   ],
   "source": [
    "scaler = StandardScaler()\n",
    "\n",
    "# Fit on training set only.\n",
    "scaler.fit(train_X.values)\n",
    "\n",
    "# Apply transform to both the training set and the test set.\n",
    "train_X = scaler.transform(train_X.values)\n",
    "val_X = scaler.transform(val_X.values)"
   ]
  },
  {
   "cell_type": "markdown",
   "metadata": {},
   "source": [
    "### Multiclass logistic regression model (one vs. rest)"
   ]
  },
  {
   "cell_type": "markdown",
   "metadata": {},
   "source": [
    "##### Fit the model & make predictions"
   ]
  },
  {
   "cell_type": "code",
   "execution_count": 23,
   "metadata": {},
   "outputs": [
    {
     "data": {
      "text/plain": [
       "LogisticRegression(C=1.0, class_weight=None, dual=False, fit_intercept=True,\n",
       "          intercept_scaling=1, max_iter=100, multi_class='ovr',\n",
       "          n_jobs=None, penalty='l2', random_state=None, solver='liblinear',\n",
       "          tol=0.0001, verbose=0, warm_start=False)"
      ]
     },
     "execution_count": 23,
     "metadata": {},
     "output_type": "execute_result"
    }
   ],
   "source": [
    "clf = LogisticRegression(solver='liblinear', multi_class='ovr')\n",
    "clf.fit(train_X, train_y)\n",
    "#clf = LogisticRegression(random_state=0, solver='saga', multi_class='multinomial').fit(train_X, train_y)"
   ]
  },
  {
   "cell_type": "code",
   "execution_count": 24,
   "metadata": {},
   "outputs": [],
   "source": [
    "# make predictions\n",
    "val_pred = clf.predict(val_X)"
   ]
  },
  {
   "cell_type": "markdown",
   "metadata": {},
   "source": [
    "##### Evaluate performance"
   ]
  },
  {
   "cell_type": "code",
   "execution_count": 25,
   "metadata": {},
   "outputs": [
    {
     "name": "stdout",
     "output_type": "stream",
     "text": [
      "Misclassified samples: 37\n",
      "Classification Report:\n",
      "              precision    recall  f1-score   support\n",
      "\n",
      "           1       0.62      0.69      0.65        26\n",
      "           2       0.78      0.75      0.76        28\n",
      "           3       0.52      0.60      0.56        25\n",
      "           5       0.60      0.43      0.50        21\n",
      "\n",
      "   micro avg       0.63      0.63      0.63       100\n",
      "   macro avg       0.63      0.62      0.62       100\n",
      "weighted avg       0.63      0.63      0.63       100\n",
      "\n"
     ]
    },
    {
     "data": {
      "image/png": "[encoded data removed]",
      "text/plain": [
       "<Figure size 432x288 with 2 Axes>"
      ]
     },
     "metadata": {
      "needs_background": "light"
     },
     "output_type": "display_data"
    }
   ],
   "source": [
    "evaluate_performance(val_y, val_pred)"
   ]
  },
  {
   "cell_type": "markdown",
   "metadata": {},
   "source": [
    "##### Examining variable importance\n",
    "Since this is no longer a focus for the project, I'm not doing this for the other models. Just keeping this here in case we want to revisit it for the final project writeup."
   ]
  },
  {
   "cell_type": "code",
   "execution_count": 9,
   "metadata": {},
   "outputs": [],
   "source": [
    "# create a data frame with the coefficients for all the multiclass logit coefficients\n",
    "coef_ovr = pd.DataFrame(clf.coef_, index=clf.classes_, columns=pred_names)"
   ]
  },
  {
   "cell_type": "code",
   "execution_count": 10,
   "metadata": {},
   "outputs": [
    {
     "data": {
      "text/html": [
       "<div>\n",
       "<style scoped>\n",
       "    .dataframe tbody tr th:only-of-type {\n",
       "        vertical-align: middle;\n",
       "    }\n",
       "\n",
       "    .dataframe tbody tr th {\n",
       "        vertical-align: top;\n",
       "    }\n",
       "\n",
       "    .dataframe thead th {\n",
       "        text-align: right;\n",
       "    }\n",
       "</style>\n",
       "<table border=\"1\" class=\"dataframe\">\n",
       "  <thead>\n",
       "    <tr style=\"text-align: right;\">\n",
       "      <th></th>\n",
       "      <th>Effluent</th>\n",
       "      <th>Fishing_NonComm_Shore_Line</th>\n",
       "      <th>SST_STD</th>\n",
       "      <th>Depth</th>\n",
       "      <th>SST_CLIM_M</th>\n",
       "      <th>Fishing_NonComm_Boat_Total</th>\n",
       "      <th>Fishing_NonComm_Shore_Spear</th>\n",
       "      <th>Invasive_Algae</th>\n",
       "      <th>PAR_CLIM_M</th>\n",
       "      <th>Fishing_NonComm_Shore_Net</th>\n",
       "      <th>CHL_CLIM_M</th>\n",
       "      <th>Complexity</th>\n",
       "      <th>Habitat_Modification</th>\n",
       "      <th>WAV_ANOM_F</th>\n",
       "      <th>Sedimentation</th>\n",
       "      <th>Fishing_Comm_Total</th>\n",
       "      <th>CHL_ANOM_F</th>\n",
       "      <th>WAV_CLIM_M</th>\n",
       "      <th>New_Development</th>\n",
       "      <th>PAR_STD</th>\n",
       "    </tr>\n",
       "  </thead>\n",
       "  <tbody>\n",
       "    <tr>\n",
       "      <th>1</th>\n",
       "      <td>2.639081</td>\n",
       "      <td>0.778184</td>\n",
       "      <td>0.646784</td>\n",
       "      <td>0.586206</td>\n",
       "      <td>0.521871</td>\n",
       "      <td>0.51951</td>\n",
       "      <td>0.388728</td>\n",
       "      <td>0.343639</td>\n",
       "      <td>0.294381</td>\n",
       "      <td>0.237793</td>\n",
       "      <td>0.221354</td>\n",
       "      <td>0.139958</td>\n",
       "      <td>0.135203</td>\n",
       "      <td>0.070958</td>\n",
       "      <td>0.061339</td>\n",
       "      <td>0.053058</td>\n",
       "      <td>0.032948</td>\n",
       "      <td>0.02542</td>\n",
       "      <td>0.018377</td>\n",
       "      <td>0.008124</td>\n",
       "    </tr>\n",
       "  </tbody>\n",
       "</table>\n",
       "</div>"
      ],
      "text/plain": [
       "   Effluent  Fishing_NonComm_Shore_Line   SST_STD     Depth  SST_CLIM_M  \\\n",
       "1  2.639081                    0.778184  0.646784  0.586206    0.521871   \n",
       "\n",
       "   Fishing_NonComm_Boat_Total  Fishing_NonComm_Shore_Spear  Invasive_Algae  \\\n",
       "1                     0.51951                     0.388728        0.343639   \n",
       "\n",
       "   PAR_CLIM_M  Fishing_NonComm_Shore_Net  CHL_CLIM_M  Complexity  \\\n",
       "1    0.294381                   0.237793    0.221354    0.139958   \n",
       "\n",
       "   Habitat_Modification  WAV_ANOM_F  Sedimentation  Fishing_Comm_Total  \\\n",
       "1              0.135203    0.070958       0.061339            0.053058   \n",
       "\n",
       "   CHL_ANOM_F  WAV_CLIM_M  New_Development   PAR_STD  \n",
       "1    0.032948     0.02542         0.018377  0.008124  "
      ]
     },
     "execution_count": 10,
     "metadata": {},
     "output_type": "execute_result"
    }
   ],
   "source": [
    "# sort predictors by the magnitude of their coefficients for regime 1\n",
    "np.abs(coef_ovr.iloc[[0,]]).sort_values(by=1, axis=1, ascending=False)"
   ]
  },
  {
   "cell_type": "code",
   "execution_count": 11,
   "metadata": {},
   "outputs": [
    {
     "data": {
      "text/html": [
       "<div>\n",
       "<style scoped>\n",
       "    .dataframe tbody tr th:only-of-type {\n",
       "        vertical-align: middle;\n",
       "    }\n",
       "\n",
       "    .dataframe tbody tr th {\n",
       "        vertical-align: top;\n",
       "    }\n",
       "\n",
       "    .dataframe thead th {\n",
       "        text-align: right;\n",
       "    }\n",
       "</style>\n",
       "<table border=\"1\" class=\"dataframe\">\n",
       "  <thead>\n",
       "    <tr style=\"text-align: right;\">\n",
       "      <th></th>\n",
       "      <th>SST_STD</th>\n",
       "      <th>Effluent</th>\n",
       "      <th>Fishing_NonComm_Shore_Spear</th>\n",
       "      <th>WAV_ANOM_F</th>\n",
       "      <th>Complexity</th>\n",
       "      <th>CHL_CLIM_M</th>\n",
       "      <th>PAR_CLIM_M</th>\n",
       "      <th>Fishing_NonComm_Shore_Line</th>\n",
       "      <th>New_Development</th>\n",
       "      <th>WAV_CLIM_M</th>\n",
       "      <th>Fishing_NonComm_Boat_Total</th>\n",
       "      <th>Fishing_Comm_Total</th>\n",
       "      <th>SST_CLIM_M</th>\n",
       "      <th>Invasive_Algae</th>\n",
       "      <th>Habitat_Modification</th>\n",
       "      <th>PAR_STD</th>\n",
       "      <th>Depth</th>\n",
       "      <th>CHL_ANOM_F</th>\n",
       "      <th>Sedimentation</th>\n",
       "      <th>Fishing_NonComm_Shore_Net</th>\n",
       "    </tr>\n",
       "  </thead>\n",
       "  <tbody>\n",
       "    <tr>\n",
       "      <th>2</th>\n",
       "      <td>0.711371</td>\n",
       "      <td>0.517009</td>\n",
       "      <td>0.418174</td>\n",
       "      <td>0.392961</td>\n",
       "      <td>0.378102</td>\n",
       "      <td>0.377502</td>\n",
       "      <td>0.333317</td>\n",
       "      <td>0.319895</td>\n",
       "      <td>0.299668</td>\n",
       "      <td>0.273372</td>\n",
       "      <td>0.272335</td>\n",
       "      <td>0.25337</td>\n",
       "      <td>0.239247</td>\n",
       "      <td>0.22945</td>\n",
       "      <td>0.218788</td>\n",
       "      <td>0.089631</td>\n",
       "      <td>0.08639</td>\n",
       "      <td>0.068502</td>\n",
       "      <td>0.025963</td>\n",
       "      <td>0.016966</td>\n",
       "    </tr>\n",
       "  </tbody>\n",
       "</table>\n",
       "</div>"
      ],
      "text/plain": [
       "    SST_STD  Effluent  Fishing_NonComm_Shore_Spear  WAV_ANOM_F  Complexity  \\\n",
       "2  0.711371  0.517009                     0.418174    0.392961    0.378102   \n",
       "\n",
       "   CHL_CLIM_M  PAR_CLIM_M  Fishing_NonComm_Shore_Line  New_Development  \\\n",
       "2    0.377502    0.333317                    0.319895         0.299668   \n",
       "\n",
       "   WAV_CLIM_M  Fishing_NonComm_Boat_Total  Fishing_Comm_Total  SST_CLIM_M  \\\n",
       "2    0.273372                    0.272335             0.25337    0.239247   \n",
       "\n",
       "   Invasive_Algae  Habitat_Modification   PAR_STD    Depth  CHL_ANOM_F  \\\n",
       "2         0.22945              0.218788  0.089631  0.08639    0.068502   \n",
       "\n",
       "   Sedimentation  Fishing_NonComm_Shore_Net  \n",
       "2       0.025963                   0.016966  "
      ]
     },
     "execution_count": 11,
     "metadata": {},
     "output_type": "execute_result"
    }
   ],
   "source": [
    "# for regime 2\n",
    "np.abs(coef_ovr.iloc[[1,]]).sort_values(by=2, axis=1, ascending=False)"
   ]
  },
  {
   "cell_type": "code",
   "execution_count": 12,
   "metadata": {},
   "outputs": [
    {
     "data": {
      "text/html": [
       "<div>\n",
       "<style scoped>\n",
       "    .dataframe tbody tr th:only-of-type {\n",
       "        vertical-align: middle;\n",
       "    }\n",
       "\n",
       "    .dataframe tbody tr th {\n",
       "        vertical-align: top;\n",
       "    }\n",
       "\n",
       "    .dataframe thead th {\n",
       "        text-align: right;\n",
       "    }\n",
       "</style>\n",
       "<table border=\"1\" class=\"dataframe\">\n",
       "  <thead>\n",
       "    <tr style=\"text-align: right;\">\n",
       "      <th></th>\n",
       "      <th>SST_STD</th>\n",
       "      <th>CHL_ANOM_F</th>\n",
       "      <th>Fishing_NonComm_Shore_Spear</th>\n",
       "      <th>Fishing_Comm_Total</th>\n",
       "      <th>WAV_CLIM_M</th>\n",
       "      <th>PAR_STD</th>\n",
       "      <th>Fishing_NonComm_Shore_Net</th>\n",
       "      <th>Fishing_NonComm_Shore_Line</th>\n",
       "      <th>CHL_CLIM_M</th>\n",
       "      <th>PAR_CLIM_M</th>\n",
       "      <th>Effluent</th>\n",
       "      <th>New_Development</th>\n",
       "      <th>SST_CLIM_M</th>\n",
       "      <th>Fishing_NonComm_Boat_Total</th>\n",
       "      <th>Habitat_Modification</th>\n",
       "      <th>Complexity</th>\n",
       "      <th>Invasive_Algae</th>\n",
       "      <th>WAV_ANOM_F</th>\n",
       "      <th>Sedimentation</th>\n",
       "      <th>Depth</th>\n",
       "    </tr>\n",
       "  </thead>\n",
       "  <tbody>\n",
       "    <tr>\n",
       "      <th>3</th>\n",
       "      <td>0.953853</td>\n",
       "      <td>0.626184</td>\n",
       "      <td>0.588329</td>\n",
       "      <td>0.545212</td>\n",
       "      <td>0.486791</td>\n",
       "      <td>0.479164</td>\n",
       "      <td>0.3772</td>\n",
       "      <td>0.364994</td>\n",
       "      <td>0.361789</td>\n",
       "      <td>0.349736</td>\n",
       "      <td>0.335244</td>\n",
       "      <td>0.328058</td>\n",
       "      <td>0.291198</td>\n",
       "      <td>0.252243</td>\n",
       "      <td>0.236226</td>\n",
       "      <td>0.218227</td>\n",
       "      <td>0.17796</td>\n",
       "      <td>0.168712</td>\n",
       "      <td>0.016493</td>\n",
       "      <td>0.003376</td>\n",
       "    </tr>\n",
       "  </tbody>\n",
       "</table>\n",
       "</div>"
      ],
      "text/plain": [
       "    SST_STD  CHL_ANOM_F  Fishing_NonComm_Shore_Spear  Fishing_Comm_Total  \\\n",
       "3  0.953853    0.626184                     0.588329            0.545212   \n",
       "\n",
       "   WAV_CLIM_M   PAR_STD  Fishing_NonComm_Shore_Net  \\\n",
       "3    0.486791  0.479164                     0.3772   \n",
       "\n",
       "   Fishing_NonComm_Shore_Line  CHL_CLIM_M  PAR_CLIM_M  Effluent  \\\n",
       "3                    0.364994    0.361789    0.349736  0.335244   \n",
       "\n",
       "   New_Development  SST_CLIM_M  Fishing_NonComm_Boat_Total  \\\n",
       "3         0.328058    0.291198                    0.252243   \n",
       "\n",
       "   Habitat_Modification  Complexity  Invasive_Algae  WAV_ANOM_F  \\\n",
       "3              0.236226    0.218227         0.17796    0.168712   \n",
       "\n",
       "   Sedimentation     Depth  \n",
       "3       0.016493  0.003376  "
      ]
     },
     "execution_count": 12,
     "metadata": {},
     "output_type": "execute_result"
    }
   ],
   "source": [
    "# for regime 3\n",
    "np.abs(coef_ovr.iloc[[2,]]).sort_values(by=3, axis=1, ascending=False)"
   ]
  },
  {
   "cell_type": "code",
   "execution_count": 13,
   "metadata": {},
   "outputs": [
    {
     "data": {
      "text/html": [
       "<div>\n",
       "<style scoped>\n",
       "    .dataframe tbody tr th:only-of-type {\n",
       "        vertical-align: middle;\n",
       "    }\n",
       "\n",
       "    .dataframe tbody tr th {\n",
       "        vertical-align: top;\n",
       "    }\n",
       "\n",
       "    .dataframe thead th {\n",
       "        text-align: right;\n",
       "    }\n",
       "</style>\n",
       "<table border=\"1\" class=\"dataframe\">\n",
       "  <thead>\n",
       "    <tr style=\"text-align: right;\">\n",
       "      <th></th>\n",
       "      <th>WAV_ANOM_F</th>\n",
       "      <th>PAR_STD</th>\n",
       "      <th>WAV_CLIM_M</th>\n",
       "      <th>Fishing_NonComm_Shore_Line</th>\n",
       "      <th>Fishing_Comm_Total</th>\n",
       "      <th>Fishing_NonComm_Shore_Spear</th>\n",
       "      <th>Depth</th>\n",
       "      <th>CHL_CLIM_M</th>\n",
       "      <th>Fishing_NonComm_Boat_Total</th>\n",
       "      <th>Habitat_Modification</th>\n",
       "      <th>Fishing_NonComm_Shore_Net</th>\n",
       "      <th>SST_STD</th>\n",
       "      <th>CHL_ANOM_F</th>\n",
       "      <th>PAR_CLIM_M</th>\n",
       "      <th>Complexity</th>\n",
       "      <th>Invasive_Algae</th>\n",
       "      <th>Effluent</th>\n",
       "      <th>SST_CLIM_M</th>\n",
       "      <th>New_Development</th>\n",
       "      <th>Sedimentation</th>\n",
       "    </tr>\n",
       "  </thead>\n",
       "  <tbody>\n",
       "    <tr>\n",
       "      <th>5</th>\n",
       "      <td>0.918782</td>\n",
       "      <td>0.864808</td>\n",
       "      <td>0.604511</td>\n",
       "      <td>0.603624</td>\n",
       "      <td>0.578518</td>\n",
       "      <td>0.572434</td>\n",
       "      <td>0.540372</td>\n",
       "      <td>0.446496</td>\n",
       "      <td>0.394515</td>\n",
       "      <td>0.390409</td>\n",
       "      <td>0.370604</td>\n",
       "      <td>0.361754</td>\n",
       "      <td>0.356559</td>\n",
       "      <td>0.317852</td>\n",
       "      <td>0.293763</td>\n",
       "      <td>0.150484</td>\n",
       "      <td>0.127832</td>\n",
       "      <td>0.071772</td>\n",
       "      <td>0.069645</td>\n",
       "      <td>0.003165</td>\n",
       "    </tr>\n",
       "  </tbody>\n",
       "</table>\n",
       "</div>"
      ],
      "text/plain": [
       "   WAV_ANOM_F   PAR_STD  WAV_CLIM_M  Fishing_NonComm_Shore_Line  \\\n",
       "5    0.918782  0.864808    0.604511                    0.603624   \n",
       "\n",
       "   Fishing_Comm_Total  Fishing_NonComm_Shore_Spear     Depth  CHL_CLIM_M  \\\n",
       "5            0.578518                     0.572434  0.540372    0.446496   \n",
       "\n",
       "   Fishing_NonComm_Boat_Total  Habitat_Modification  \\\n",
       "5                    0.394515              0.390409   \n",
       "\n",
       "   Fishing_NonComm_Shore_Net   SST_STD  CHL_ANOM_F  PAR_CLIM_M  Complexity  \\\n",
       "5                   0.370604  0.361754    0.356559    0.317852    0.293763   \n",
       "\n",
       "   Invasive_Algae  Effluent  SST_CLIM_M  New_Development  Sedimentation  \n",
       "5        0.150484  0.127832    0.071772         0.069645       0.003165  "
      ]
     },
     "execution_count": 13,
     "metadata": {},
     "output_type": "execute_result"
    }
   ],
   "source": [
    "# for regime 5\n",
    "np.abs(coef_ovr.iloc[[3,]]).sort_values(by=5, axis=1, ascending=False)"
   ]
  },
  {
   "cell_type": "markdown",
   "metadata": {},
   "source": [
    "### Multiclass logistic regression model (multinomial)"
   ]
  },
  {
   "cell_type": "markdown",
   "metadata": {},
   "source": [
    "##### Fit the model & make predictions"
   ]
  },
  {
   "cell_type": "code",
   "execution_count": 14,
   "metadata": {},
   "outputs": [
    {
     "data": {
      "text/plain": [
       "LogisticRegression(C=1.0, class_weight=None, dual=False, fit_intercept=True,\n",
       "          intercept_scaling=1, max_iter=100, multi_class='multinomial',\n",
       "          n_jobs=None, penalty='l2', random_state=None, solver='newton-cg',\n",
       "          tol=0.0001, verbose=0, warm_start=False)"
      ]
     },
     "execution_count": 14,
     "metadata": {},
     "output_type": "execute_result"
    }
   ],
   "source": [
    "clf_multi = LogisticRegression(solver='newton-cg', multi_class='multinomial')\n",
    "clf_multi.fit(train_X, train_y)"
   ]
  },
  {
   "cell_type": "code",
   "execution_count": 15,
   "metadata": {},
   "outputs": [],
   "source": [
    "# make predictions\n",
    "val_pred_multi = clf_multi.predict(val_X)"
   ]
  },
  {
   "cell_type": "markdown",
   "metadata": {},
   "source": [
    "##### Evaluate performance"
   ]
  },
  {
   "cell_type": "code",
   "execution_count": 16,
   "metadata": {},
   "outputs": [
    {
     "name": "stdout",
     "output_type": "stream",
     "text": [
      "Misclassified samples: 34\n",
      "Classification Report:\n",
      "              precision    recall  f1-score   support\n",
      "\n",
      "           1       0.62      0.77      0.69        26\n",
      "           2       0.80      0.71      0.75        28\n",
      "           3       0.59      0.64      0.62        25\n",
      "           5       0.62      0.48      0.54        21\n",
      "\n",
      "   micro avg       0.66      0.66      0.66       100\n",
      "   macro avg       0.66      0.65      0.65       100\n",
      "weighted avg       0.67      0.66      0.66       100\n",
      "\n"
     ]
    },
    {
     "data": {
      "image/png": "[encoded data removed]",
      "text/plain": [
       "<Figure size 432x288 with 2 Axes>"
      ]
     },
     "metadata": {
      "needs_background": "light"
     },
     "output_type": "display_data"
    }
   ],
   "source": [
    "evaluate_performance(val_y, val_pred_multi)"
   ]
  },
  {
   "cell_type": "code",
   "execution_count": 27,
   "metadata": {},
   "outputs": [
    {
     "name": "stdout",
     "output_type": "stream",
     "text": [
      "Best C: 0.2682695795279725\n"
     ]
    }
   ],
   "source": [
    "from sklearn.model_selection import GridSearchCV\n",
    "from sklearn.metrics import make_scorer, zero_one_loss\n",
    "C = np.logspace(-4, 4, 15)\n",
    "hyperparameters = dict(C=C)\n",
    "clf = GridSearchCV(LogisticRegression(solver='newton-cg',\n",
    "                                      multi_class='multinomial', \n",
    "                                      penalty='l2',\n",
    "                                      random_state=1), \n",
    "                   hyperparameters, cv=5, verbose=0, iid=False,\n",
    "                   scoring=make_scorer(metrics.f1_score, average='micro', greater_is_better=True),\n",
    "                   return_train_score=True)\n",
    "best_model = clf.fit(train_X, train_y)\n",
    "\n",
    "# Best Model is the model picked with the optimal C retrained on the\n",
    "# entire training data.\n",
    "\n",
    "print('Best C:', best_model.best_estimator_.get_params()['C'])"
   ]
  },
  {
   "cell_type": "code",
   "execution_count": 28,
   "metadata": {},
   "outputs": [
    {
     "data": {
      "image/png": "[encoded data removed]",
      "text/plain": [
       "<Figure size 936x432 with 1 Axes>"
      ]
     },
     "metadata": {},
     "output_type": "display_data"
    }
   ],
   "source": [
    "# from scikit-learn, \"Demonstration of multi-metric evaluation on cross_val_score and GridSearchCV\" \n",
    "# https://scikit-learn.org/stable/auto_examples/model_selection/plot_multi_metric_evaluation.html\n",
    "results = clf.cv_results_\n",
    "\n",
    "plt.figure(figsize=(13, 6))\n",
    "plt.title(\"Microaverage of F1 score vs model complexity\",\n",
    "          fontsize=16)\n",
    "\n",
    "plt.xlabel(\"C for L2 regularization\")\n",
    "plt.ylabel(\"Microaverage of F1 score\")\n",
    "\n",
    "ax = plt.gca()\n",
    "plt.xscale(\"log\")\n",
    "ax.set_xlim(C[0], C[-1])\n",
    "\n",
    "# Get the regular numpy array from the MaskedArray\n",
    "X_axis = np.array(results['param_C'].data, dtype=float)\n",
    "\n",
    "sample_score_mean = results['mean_test_score']\n",
    "# sample_score_std = results['std_test_score']\n",
    "\n",
    "train_score_mean = results['mean_train_score']\n",
    "\n",
    "# add error bars\n",
    "plt.errorbar(x = X_axis, y = sample_score_mean, \n",
    "             label='Validation Mean', capsize=4, capthick=2)\n",
    "plt.errorbar(x = X_axis, y = train_score_mean, \n",
    "             label='Test Mean', capsize=4, capthick=2)\n",
    "\n",
    "plt.legend()\n",
    "\n",
    "plt.grid(False)\n",
    "plt.show()"
   ]
  },
  {
   "cell_type": "markdown",
   "metadata": {},
   "source": [
    "## Confusion matrix for Cross Validated Regularization"
   ]
  },
  {
   "cell_type": "code",
   "execution_count": 34,
   "metadata": {},
   "outputs": [
    {
     "data": {
      "image/png": "[encoded data removed]",
      "text/plain": [
       "<Figure size 432x288 with 2 Axes>"
      ]
     },
     "metadata": {},
     "output_type": "display_data"
    }
   ],
   "source": [
    "train_pred_multi = best_model.predict(train_X)\n",
    "pretty_print_performance(train_y, train_pred_multi, False)"
   ]
  },
  {
   "cell_type": "markdown",
   "metadata": {},
   "source": [
    "## Error Analysis"
   ]
  },
  {
   "cell_type": "code",
   "execution_count": null,
   "metadata": {},
   "outputs": [],
   "source": []
  }
 ],
 "metadata": {
  "kernelspec": {
   "display_name": "Python [default]",
   "language": "python",
   "name": "python3"
  },
  "language_info": {
   "codemirror_mode": {
    "name": "ipython",
    "version": 3
   },
   "file_extension": ".py",
   "mimetype": "text/x-python",
   "name": "python",
   "nbconvert_exporter": "python",
   "pygments_lexer": "ipython3",
   "version": "3.6.7"
  }
 },
 "nbformat": 4,
 "nbformat_minor": 2
}
