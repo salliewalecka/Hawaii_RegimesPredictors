{
 "cells": [
  {
   "cell_type": "markdown",
   "metadata": {},
   "source": [
    "# Baseline Model: Logistic Regression \n",
    "\n",
    "We train two simple models on our training data and validate it on our validation data. The two models are:\n",
    "\n",
    "- logistic regression on the data after removing all observations with NAs\n",
    "- logistic regression on the data after filling in all NA values with the mean. \n",
    "\n",
    "The default L2 regularization is used. This is meant to give us a baseline from which we will show improvements with iterative models. "
   ]
  },
  {
   "cell_type": "code",
   "execution_count": 1,
   "metadata": {},
   "outputs": [],
   "source": [
    "import numpy as np\n",
    "import pandas as pd\n",
    "import matplotlib.pyplot as plt\n",
    "import seaborn as sns\n",
    "import random\n",
    "from sklearn.model_selection import train_test_split\n",
    "import matplotlib.colors as colors\n",
    "import matplotlib.cm as cmx\n",
    "from statsmodels.stats.outliers_influence import variance_inflation_factor\n",
    "from statsmodels.tools.tools import add_constant\n",
    "from sklearn.linear_model import LogisticRegression\n",
    "from sklearn import metrics\n",
    "from sklearn.preprocessing import StandardScaler\n",
    "from sklearn.svm import SVC \n",
    "from sklearn.ensemble.partial_dependence import partial_dependence, plot_partial_dependence\n",
    "\n",
    "from Notebook_helpers import load_data\n",
    "from Notebook_helpers.modeling_helpers import *\n",
    "\n",
    "%matplotlib inline"
   ]
  },
  {
   "cell_type": "markdown",
   "metadata": {},
   "source": [
    "## Read in the Data"
   ]
  },
  {
   "cell_type": "code",
   "execution_count": 2,
   "metadata": {},
   "outputs": [],
   "source": [
    "df, train, val, test = load_data.load_coral_data(complete=False, CV=False, convert_to_categorical=True)"
   ]
  },
  {
   "cell_type": "markdown",
   "metadata": {},
   "source": [
    "#### Confirm that there are NAs"
   ]
  },
  {
   "cell_type": "code",
   "execution_count": 3,
   "metadata": {},
   "outputs": [
    {
     "data": {
      "text/plain": [
       "Complexity    113\n",
       "Depth          12\n",
       "dtype: int64"
      ]
     },
     "execution_count": 3,
     "metadata": {},
     "output_type": "execute_result"
    }
   ],
   "source": [
    "# look at how many NAs exist in the data set\n",
    "df_nas = df.apply(lambda x : x.isna().sum())\n",
    "\n",
    "# verify that there are no NAs in the data set anymore\n",
    "df_nas[df_nas > 0]"
   ]
  },
  {
   "cell_type": "code",
   "execution_count": 4,
   "metadata": {},
   "outputs": [
    {
     "name": "stdout",
     "output_type": "stream",
     "text": [
      "Train NAs: \n",
      " Complexity    75\n",
      "Depth          8\n",
      "dtype: int64\n",
      "\n",
      "Val NAs: \n",
      " Complexity    15\n",
      "Depth          1\n",
      "dtype: int64\n"
     ]
    }
   ],
   "source": [
    "train_nas = train.apply(lambda x : x.isna().sum())\n",
    "print(\"Train NAs: \\n\", train_nas[train_nas > 0])\n",
    "print(\"\")\n",
    "\n",
    "val_nas = val.apply(lambda x : x.isna().sum())\n",
    "print(\"Val NAs: \\n\", val_nas[val_nas > 0])"
   ]
  },
  {
   "cell_type": "markdown",
   "metadata": {},
   "source": [
    "### Data Prep\n",
    "\n",
    "##### Drop all rows with NAs"
   ]
  },
  {
   "cell_type": "code",
   "execution_count": 5,
   "metadata": {},
   "outputs": [],
   "source": [
    "train_X_noNAs = train.dropna()\n",
    "train_y_noNAs = train_X_noNAs['Regime']\n",
    "train_X_noNAs = train_X_noNAs.iloc[:, 14:34]\n",
    "\n",
    "val_X_noNAs = val.dropna()\n",
    "val_y_noNAs = val_X_noNAs['Regime']\n",
    "val_X_noNAs = val_X_noNAs.iloc[:, 14:34]"
   ]
  },
  {
   "cell_type": "markdown",
   "metadata": {},
   "source": [
    "##### Fill in NAs with mean"
   ]
  },
  {
   "cell_type": "code",
   "execution_count": 6,
   "metadata": {},
   "outputs": [],
   "source": [
    "# isolate the predictors and labels for both the training and test set\n",
    "train_X = train.iloc[:, 14:34]\n",
    "train_y = train['Regime']\n",
    "\n",
    "val_X = val.iloc[:, 14:34]\n",
    "val_y = val['Regime']\n",
    "\n",
    "pred_names = df.iloc[:, 14:34].columns"
   ]
  },
  {
   "cell_type": "code",
   "execution_count": 7,
   "metadata": {},
   "outputs": [],
   "source": [
    "train_X[\"Complexity\"] = train_X[\"Complexity\"].transform(lambda x: x.fillna(x.mean()))\n",
    "val_X[\"Complexity\"] = val_X[\"Complexity\"].transform(lambda x: x.fillna(x.mean()))"
   ]
  },
  {
   "cell_type": "markdown",
   "metadata": {},
   "source": [
    "### Standardize the data"
   ]
  },
  {
   "cell_type": "code",
   "execution_count": 8,
   "metadata": {},
   "outputs": [
    {
     "name": "stderr",
     "output_type": "stream",
     "text": [
      "/anaconda3/lib/python3.6/site-packages/sklearn/utils/validation.py:595: DataConversionWarning: Data with input dtype object was converted to float64 by StandardScaler.\n",
      "  warnings.warn(msg, DataConversionWarning)\n",
      "/anaconda3/lib/python3.6/site-packages/sklearn/utils/validation.py:595: DataConversionWarning: Data with input dtype object was converted to float64 by StandardScaler.\n",
      "  warnings.warn(msg, DataConversionWarning)\n",
      "/anaconda3/lib/python3.6/site-packages/sklearn/utils/validation.py:595: DataConversionWarning: Data with input dtype object was converted to float64 by StandardScaler.\n",
      "  warnings.warn(msg, DataConversionWarning)\n",
      "/anaconda3/lib/python3.6/site-packages/sklearn/utils/validation.py:595: DataConversionWarning: Data with input dtype object was converted to float64 by StandardScaler.\n",
      "  warnings.warn(msg, DataConversionWarning)\n",
      "/anaconda3/lib/python3.6/site-packages/sklearn/utils/validation.py:595: DataConversionWarning: Data with input dtype object was converted to float64 by StandardScaler.\n",
      "  warnings.warn(msg, DataConversionWarning)\n",
      "/anaconda3/lib/python3.6/site-packages/sklearn/utils/validation.py:595: DataConversionWarning: Data with input dtype object was converted to float64 by StandardScaler.\n",
      "  warnings.warn(msg, DataConversionWarning)\n"
     ]
    }
   ],
   "source": [
    "scaler = StandardScaler()\n",
    "scaler_noNas = StandardScaler()\n",
    "\n",
    "# Fit on training set only.\n",
    "scaler_noNas.fit(train_X_noNAs.values)\n",
    "\n",
    "# Apply transform to both the training set and the test set.\n",
    "train_X_noNAs = scaler_noNas.transform(train_X_noNAs.values)\n",
    "val_X_noNAs = scaler_noNas.transform(val_X_noNAs.values)\n",
    "\n",
    "# Fit on training set only.\n",
    "scaler.fit(train_X.values)\n",
    "\n",
    "# Apply transform to both the training set and the test set.\n",
    "train_X = scaler.transform(train_X.values)\n",
    "val_X = scaler.transform(val_X.values)"
   ]
  },
  {
   "cell_type": "markdown",
   "metadata": {},
   "source": [
    "### Multinomial logistic regression model on data without NAs"
   ]
  },
  {
   "cell_type": "code",
   "execution_count": 10,
   "metadata": {},
   "outputs": [
    {
     "data": {
      "text/plain": [
       "LogisticRegression(C=1.0, class_weight=None, dual=False, fit_intercept=True,\n",
       "          intercept_scaling=1, max_iter=100, multi_class='multinomial',\n",
       "          n_jobs=None, penalty='l2', random_state=None, solver='newton-cg',\n",
       "          tol=0.0001, verbose=0, warm_start=False)"
      ]
     },
     "execution_count": 10,
     "metadata": {},
     "output_type": "execute_result"
    }
   ],
   "source": [
    "clf_multi = LogisticRegression(solver='newton-cg', multi_class='multinomial')\n",
    "clf_multi.fit(train_X_noNAs, train_y_noNAs)"
   ]
  },
  {
   "cell_type": "markdown",
   "metadata": {},
   "source": [
    "##### Make predictions"
   ]
  },
  {
   "cell_type": "code",
   "execution_count": 11,
   "metadata": {},
   "outputs": [],
   "source": [
    "val_pred_multi = clf_multi.predict(val_X_noNAs)"
   ]
  },
  {
   "cell_type": "markdown",
   "metadata": {},
   "source": [
    "##### Evaluate performance"
   ]
  },
  {
   "cell_type": "code",
   "execution_count": 12,
   "metadata": {},
   "outputs": [
    {
     "name": "stdout",
     "output_type": "stream",
     "text": [
      "Misclassified samples: 31\n",
      "Classification Report:\n",
      "              precision    recall  f1-score   support\n",
      "\n",
      "           1       0.61      0.71      0.65        24\n",
      "           2       0.75      0.71      0.73        21\n",
      "           3       0.55      0.60      0.57        20\n",
      "           5       0.64      0.47      0.55        19\n",
      "\n",
      "   micro avg       0.63      0.63      0.63        84\n",
      "   macro avg       0.64      0.62      0.63        84\n",
      "weighted avg       0.64      0.63      0.63        84\n",
      "\n"
     ]
    },
    {
     "data": {
      "image/png": "[encoded data removed]",
      "text/plain": [
       "<Figure size 432x288 with 2 Axes>"
      ]
     },
     "metadata": {
      "needs_background": "light"
     },
     "output_type": "display_data"
    }
   ],
   "source": [
    "evaluate_performance(val_y_noNAs, val_pred_multi)"
   ]
  },
  {
   "cell_type": "markdown",
   "metadata": {},
   "source": [
    "### Multinomial logistic regression model on data with NAs filled in as mean"
   ]
  },
  {
   "cell_type": "code",
   "execution_count": 13,
   "metadata": {},
   "outputs": [
    {
     "data": {
      "text/plain": [
       "LogisticRegression(C=1.0, class_weight=None, dual=False, fit_intercept=True,\n",
       "          intercept_scaling=1, max_iter=100, multi_class='multinomial',\n",
       "          n_jobs=None, penalty='l2', random_state=None, solver='newton-cg',\n",
       "          tol=0.0001, verbose=0, warm_start=False)"
      ]
     },
     "execution_count": 13,
     "metadata": {},
     "output_type": "execute_result"
    }
   ],
   "source": [
    "clf_multi = LogisticRegression(solver='newton-cg', multi_class='multinomial')\n",
    "clf_multi.fit(train_X, train_y)"
   ]
  },
  {
   "cell_type": "markdown",
   "metadata": {},
   "source": [
    "##### Make predictions"
   ]
  },
  {
   "cell_type": "code",
   "execution_count": 14,
   "metadata": {},
   "outputs": [],
   "source": [
    "val_pred_multi = clf_multi.predict(val_X)"
   ]
  },
  {
   "cell_type": "markdown",
   "metadata": {},
   "source": [
    "##### Evaluate performance"
   ]
  },
  {
   "cell_type": "code",
   "execution_count": 15,
   "metadata": {},
   "outputs": [
    {
     "name": "stdout",
     "output_type": "stream",
     "text": [
      "Misclassified samples: 33\n",
      "Classification Report:\n",
      "              precision    recall  f1-score   support\n",
      "\n",
      "           1       0.62      0.77      0.69        26\n",
      "           2       0.80      0.71      0.75        28\n",
      "           3       0.61      0.68      0.64        25\n",
      "           5       0.67      0.48      0.56        21\n",
      "\n",
      "   micro avg       0.67      0.67      0.67       100\n",
      "   macro avg       0.67      0.66      0.66       100\n",
      "weighted avg       0.68      0.67      0.67       100\n",
      "\n"
     ]
    },
    {
     "data": {
      "image/png": "[encoded data removed]",
      "text/plain": [
       "<Figure size 432x288 with 2 Axes>"
      ]
     },
     "metadata": {
      "needs_background": "light"
     },
     "output_type": "display_data"
    }
   ],
   "source": [
    "evaluate_performance(val_y, val_pred_multi)"
   ]
  },
  {
   "cell_type": "markdown",
   "metadata": {},
   "source": [
    "## Findings:\n",
    "\n",
    "Filling in the missing values for Complexity helped out with the F1 score - it increased the micro F1-score from 0.63 to 0.67. This slight increase may be due to just using more observations. However, we should fill in these missing values."
   ]
  },
  {
   "cell_type": "code",
   "execution_count": null,
   "metadata": {},
   "outputs": [],
   "source": []
  }
 ],
 "metadata": {
  "kernelspec": {
   "display_name": "Python [default]",
   "language": "python",
   "name": "python3"
  },
  "language_info": {
   "codemirror_mode": {
    "name": "ipython",
    "version": 3
   },
   "file_extension": ".py",
   "mimetype": "text/x-python",
   "name": "python",
   "nbconvert_exporter": "python",
   "pygments_lexer": "ipython3",
   "version": "3.6.7"
  }
 },
 "nbformat": 4,
 "nbformat_minor": 2
}
