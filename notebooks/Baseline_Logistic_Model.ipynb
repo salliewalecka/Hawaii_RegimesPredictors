{
 "cells": [
  {
   "cell_type": "markdown",
   "metadata": {},
   "source": [
    "# Baseline Model: Logistic Regression \n",
    "\n",
    "We train two simple models on our training data and validate it on our validation data. The two models are:\n",
    "\n",
    "- logistic regression on the data after removing all observations with NAs\n",
    "- logistic regression on the data after filling in all NA values with the mean. \n",
    "\n",
    "The default L2 regularization is used. This is meant to give us a baseline from which we will show improvements with iterative models. "
   ]
  },
  {
   "cell_type": "code",
   "execution_count": 1,
   "metadata": {},
   "outputs": [],
   "source": [
    "import numpy as np\n",
    "import pandas as pd\n",
    "import matplotlib.pyplot as plt\n",
    "import seaborn as sns\n",
    "import random\n",
    "from sklearn.model_selection import train_test_split\n",
    "import matplotlib.colors as colors\n",
    "import matplotlib.cm as cmx\n",
    "from statsmodels.stats.outliers_influence import variance_inflation_factor\n",
    "from statsmodels.tools.tools import add_constant\n",
    "from sklearn.linear_model import LogisticRegression\n",
    "from sklearn import metrics\n",
    "from sklearn.preprocessing import StandardScaler\n",
    "from sklearn.svm import SVC \n",
    "from sklearn.ensemble.partial_dependence import partial_dependence, plot_partial_dependence\n",
    "\n",
    "from Notebook_helpers import load_data\n",
    "from Notebook_helpers.modeling_helpers import *\n",
    "\n",
    "%matplotlib inline"
   ]
  },
  {
   "cell_type": "markdown",
   "metadata": {},
   "source": [
    "## Read in the Data"
   ]
  },
  {
   "cell_type": "code",
   "execution_count": 27,
   "metadata": {},
   "outputs": [],
   "source": [
    "df, train, test = load_data.load_coral_data(complete=False, CV=True, convert_to_categorical=True)"
   ]
  },
  {
   "cell_type": "markdown",
   "metadata": {},
   "source": [
    "#### Confirm that there are NAs"
   ]
  },
  {
   "cell_type": "code",
   "execution_count": 28,
   "metadata": {},
   "outputs": [
    {
     "data": {
      "text/plain": [
       "Complexity    113\n",
       "Depth          12\n",
       "dtype: int64"
      ]
     },
     "execution_count": 28,
     "metadata": {},
     "output_type": "execute_result"
    }
   ],
   "source": [
    "# look at how many NAs exist in the data set\n",
    "df_nas = df.apply(lambda x : x.isna().sum())\n",
    "\n",
    "# verify that there are no NAs in the data set anymore\n",
    "df_nas[df_nas > 0]"
   ]
  },
  {
   "cell_type": "code",
   "execution_count": 29,
   "metadata": {},
   "outputs": [
    {
     "name": "stdout",
     "output_type": "stream",
     "text": [
      "Train NAs: \n",
      " Complexity    107\n",
      "Depth           3\n",
      "dtype: int64\n",
      "\n"
     ]
    }
   ],
   "source": [
    "train_nas = train.apply(lambda x : x.isna().sum())\n",
    "print(\"Train NAs: \\n\", train_nas[train_nas > 0])\n",
    "print(\"\")"
   ]
  },
  {
   "cell_type": "markdown",
   "metadata": {},
   "source": [
    "### Data Prep\n",
    "\n",
    "##### Drop all rows with NAs"
   ]
  },
  {
   "cell_type": "code",
   "execution_count": 8,
   "metadata": {},
   "outputs": [],
   "source": [
    "train_X_noNAs = train.dropna()\n",
    "train_X_noNAs, train_y_noNAs, pred_names  = load_data.get_features_and_response(train_X_noNAs, with_feature_eng = False)"
   ]
  },
  {
   "cell_type": "markdown",
   "metadata": {},
   "source": [
    "##### Fill in NAs with mean"
   ]
  },
  {
   "cell_type": "code",
   "execution_count": 11,
   "metadata": {},
   "outputs": [],
   "source": [
    "# isolate the predictors and labels for both the training and test set\n",
    "train_X, train_y, pred_names  = load_data.get_features_and_response(train, with_feature_eng = False)"
   ]
  },
  {
   "cell_type": "code",
   "execution_count": 12,
   "metadata": {},
   "outputs": [],
   "source": [
    "train_X[\"Complexity\"] = train_X[\"Complexity\"].transform(lambda x: x.fillna(x.mean()))\n",
    "train_X[\"Depth\"] = train_X[\"Depth\"].transform(lambda x: x.fillna(x.mean()))"
   ]
  },
  {
   "cell_type": "markdown",
   "metadata": {},
   "source": [
    "### Standardize the data"
   ]
  },
  {
   "cell_type": "code",
   "execution_count": 13,
   "metadata": {},
   "outputs": [],
   "source": [
    "scaler = StandardScaler()\n",
    "scaler_noNas = StandardScaler()\n",
    "\n",
    "# Fit on training set only.\n",
    "scaler_noNas.fit(train_X_noNAs.values)\n",
    "\n",
    "# Apply transform to both the training set and the test set.\n",
    "train_X_noNAs = scaler_noNas.transform(train_X_noNAs.values)\n",
    "\n",
    "# Fit on training set only.\n",
    "scaler.fit(train_X.values)\n",
    "\n",
    "# Apply transform to both the training set and the test set.\n",
    "train_X = scaler.transform(train_X.values)"
   ]
  },
  {
   "cell_type": "markdown",
   "metadata": {},
   "source": [
    "### Multinomial logistic regression model on data without NAs"
   ]
  },
  {
   "cell_type": "code",
   "execution_count": 21,
   "metadata": {},
   "outputs": [],
   "source": [
    "from sklearn.model_selection import GridSearchCV\n",
    "from sklearn.metrics import make_scorer\n",
    "hyperparameters = dict()\n",
    "clf = GridSearchCV(LogisticRegression(solver='newton-cg',\n",
    "                                      multi_class='multinomial', \n",
    "                                      penalty='l2',\n",
    "                                      random_state=1), \n",
    "                   hyperparameters, cv=5, verbose=0, iid=False,\n",
    "                   scoring=make_scorer(metrics.f1_score, average='micro', greater_is_better=True),\n",
    "                   return_train_score=True)\n",
    "best_model = clf.fit(train_X_noNAs, train_y_noNAs)\n",
    "\n",
    "# Best Model is the model picked with the optimal C retrained on the\n",
    "# entire training data\n",
    "# clf_multi = LogisticRegression(solver='newton-cg', multi_class='multinomial')\n",
    "# clf_multi.fit(train_X_noNAs, train_y_noNAs)"
   ]
  },
  {
   "cell_type": "code",
   "execution_count": 22,
   "metadata": {},
   "outputs": [
    {
     "data": {
      "text/plain": [
       "{'mean_fit_time': array([0.02017541]),\n",
       " 'std_fit_time': array([0.00527594]),\n",
       " 'mean_score_time': array([0.00158138]),\n",
       " 'std_score_time': array([0.00061836]),\n",
       " 'params': [{}],\n",
       " 'split0_test_score': array([0.6875]),\n",
       " 'split1_test_score': array([0.66666667]),\n",
       " 'split2_test_score': array([0.63636364]),\n",
       " 'split3_test_score': array([0.67105263]),\n",
       " 'split4_test_score': array([0.63157895]),\n",
       " 'mean_test_score': array([0.65863238]),\n",
       " 'std_test_score': array([0.02135386]),\n",
       " 'rank_test_score': array([1], dtype=int32),\n",
       " 'split0_train_score': array([0.71009772]),\n",
       " 'split1_train_score': array([0.72491909]),\n",
       " 'split2_train_score': array([0.7]),\n",
       " 'split3_train_score': array([0.71382637]),\n",
       " 'split4_train_score': array([0.72347267]),\n",
       " 'mean_train_score': array([0.71446317]),\n",
       " 'std_train_score': array([0.0091558])}"
      ]
     },
     "execution_count": 22,
     "metadata": {},
     "output_type": "execute_result"
    }
   ],
   "source": [
    "best_model.cv_results_"
   ]
  },
  {
   "cell_type": "markdown",
   "metadata": {},
   "source": [
    "##### Make predictions"
   ]
  },
  {
   "cell_type": "code",
   "execution_count": null,
   "metadata": {},
   "outputs": [],
   "source": [
    "val_pred_multi = clf_multi.predict(val_X_noNAs)"
   ]
  },
  {
   "cell_type": "markdown",
   "metadata": {},
   "source": [
    "##### Evaluate performance"
   ]
  },
  {
   "cell_type": "code",
   "execution_count": 47,
   "metadata": {},
   "outputs": [
    {
     "name": "stdout",
     "output_type": "stream",
     "text": [
      "Misclassified samples: 31\n",
      "Classification Report:\n",
      "              precision    recall  f1-score   support\n",
      "\n",
      "           1       0.62      0.67      0.64        24\n",
      "           2       0.79      0.71      0.75        21\n",
      "           3       0.54      0.70      0.61        20\n",
      "           5       0.62      0.42      0.50        19\n",
      "\n",
      "    accuracy                           0.63        84\n",
      "   macro avg       0.64      0.63      0.62        84\n",
      "weighted avg       0.64      0.63      0.63        84\n",
      "\n"
     ]
    },
    {
     "data": {
      "image/png": "[encoded data removed]",
      "text/plain": [
       "<Figure size 432x288 with 2 Axes>"
      ]
     },
     "metadata": {},
     "output_type": "display_data"
    }
   ],
   "source": [
    "evaluate_performance(val_y_noNAs, val_pred_multi)"
   ]
  },
  {
   "cell_type": "markdown",
   "metadata": {},
   "source": [
    "### Multinomial logistic regression model on data with NAs filled in as mean"
   ]
  },
  {
   "cell_type": "code",
   "execution_count": 25,
   "metadata": {},
   "outputs": [
    {
     "data": {
      "text/plain": [
       "{'mean_fit_time': array([0.01931381]),\n",
       " 'std_fit_time': array([0.00441025]),\n",
       " 'mean_score_time': array([0.00114083]),\n",
       " 'std_score_time': array([0.00013312]),\n",
       " 'params': [{}],\n",
       " 'split0_test_score': array([0.65346535]),\n",
       " 'split1_test_score': array([0.55]),\n",
       " 'split2_test_score': array([0.62626263]),\n",
       " 'split3_test_score': array([0.55555556]),\n",
       " 'split4_test_score': array([0.62886598]),\n",
       " 'mean_test_score': array([0.6028299]),\n",
       " 'std_test_score': array([0.04199233]),\n",
       " 'rank_test_score': array([1], dtype=int32),\n",
       " 'split0_train_score': array([0.66075949]),\n",
       " 'split1_train_score': array([0.69444444]),\n",
       " 'split2_train_score': array([0.70277078]),\n",
       " 'split3_train_score': array([0.67254408]),\n",
       " 'split4_train_score': array([0.65413534]),\n",
       " 'mean_train_score': array([0.67693083]),\n",
       " 'std_train_score': array([0.01884049])}"
      ]
     },
     "execution_count": 25,
     "metadata": {},
     "output_type": "execute_result"
    }
   ],
   "source": [
    "hyperparameters = dict()\n",
    "clf = GridSearchCV(LogisticRegression(solver='newton-cg',\n",
    "                                      multi_class='multinomial', \n",
    "                                      penalty='l2',\n",
    "                                      random_state=1), \n",
    "                   hyperparameters, cv=5, verbose=0, iid=False,\n",
    "                   scoring=make_scorer(metrics.f1_score, average='micro', greater_is_better=True),\n",
    "                   return_train_score=True)\n",
    "best_model = clf.fit(train_X, train_y)\n",
    "best_model.cv_results_"
   ]
  },
  {
   "cell_type": "markdown",
   "metadata": {},
   "source": [
    "##### Make predictions"
   ]
  },
  {
   "cell_type": "code",
   "execution_count": 50,
   "metadata": {},
   "outputs": [],
   "source": [
    "val_pred_multi = clf_multi.predict(val_X)"
   ]
  },
  {
   "cell_type": "markdown",
   "metadata": {},
   "source": [
    "##### Evaluate performance"
   ]
  },
  {
   "cell_type": "code",
   "execution_count": 51,
   "metadata": {},
   "outputs": [
    {
     "name": "stdout",
     "output_type": "stream",
     "text": [
      "Misclassified samples: 35\n",
      "Classification Report:\n",
      "              precision    recall  f1-score   support\n",
      "\n",
      "           1       0.62      0.58      0.60        26\n",
      "           2       0.76      0.79      0.77        28\n",
      "           3       0.59      0.76      0.67        25\n",
      "           5       0.60      0.43      0.50        21\n",
      "\n",
      "    accuracy                           0.65       100\n",
      "   macro avg       0.64      0.64      0.63       100\n",
      "weighted avg       0.65      0.65      0.64       100\n",
      "\n"
     ]
    },
    {
     "data": {
      "image/png": "[encoded data removed]",
      "text/plain": [
       "<Figure size 432x288 with 2 Axes>"
      ]
     },
     "metadata": {},
     "output_type": "display_data"
    }
   ],
   "source": [
    "evaluate_performance(val_y, val_pred_multi)"
   ]
  },
  {
   "cell_type": "markdown",
   "metadata": {},
   "source": [
    "## Findings:\n",
    "\n",
    "Filling in the missing values for Complexity helped out with the F1 score - it increased the micro F1-score from 0.63 to 0.65. This slight increase may be due to just using more observations. However, we should fill in these missing values."
   ]
  },
  {
   "cell_type": "code",
   "execution_count": null,
   "metadata": {},
   "outputs": [],
   "source": []
  }
 ],
 "metadata": {
  "kernelspec": {
   "display_name": "Python 3",
   "language": "python",
   "name": "python3"
  },
  "language_info": {
   "codemirror_mode": {
    "name": "ipython",
    "version": 3
   },
   "file_extension": ".py",
   "mimetype": "text/x-python",
   "name": "python",
   "nbconvert_exporter": "python",
   "pygments_lexer": "ipython3",
   "version": "3.6.8"
  }
 },
 "nbformat": 4,
 "nbformat_minor": 2
}
