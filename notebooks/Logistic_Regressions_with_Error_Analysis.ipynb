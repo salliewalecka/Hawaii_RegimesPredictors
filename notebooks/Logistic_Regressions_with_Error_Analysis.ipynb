{
 "cells": [
  {
   "cell_type": "code",
   "execution_count": 324,
   "metadata": {},
   "outputs": [],
   "source": [
    "import numpy as np\n",
    "import pandas as pd\n",
    "import matplotlib.pyplot as plt\n",
    "import seaborn as sns\n",
    "import random\n",
    "from sklearn.model_selection import train_test_split\n",
    "import matplotlib.colors as colors\n",
    "import matplotlib.cm as cmx\n",
    "from statsmodels.stats.outliers_influence import variance_inflation_factor\n",
    "from statsmodels.tools.tools import add_constant\n",
    "from sklearn.linear_model import LogisticRegression\n",
    "from sklearn import metrics\n",
    "from sklearn.preprocessing import StandardScaler\n",
    "from sklearn.svm import SVC \n",
    "from sklearn.ensemble.partial_dependence import partial_dependence, plot_partial_dependence\n",
    "\n",
    "from Notebook_helpers import load_data\n",
    "from Notebook_helpers.modeling_helpers import *\n",
    "\n",
    "%matplotlib inline"
   ]
  },
  {
   "cell_type": "markdown",
   "metadata": {},
   "source": [
    "## Read in the data"
   ]
  },
  {
   "cell_type": "code",
   "execution_count": 335,
   "metadata": {},
   "outputs": [],
   "source": [
    "df, train, val, test = load_data.load_coral_data(complete=True, CV=False, convert_to_categorical=True)"
   ]
  },
  {
   "cell_type": "markdown",
   "metadata": {},
   "source": [
    "## Logistic Regression"
   ]
  },
  {
   "cell_type": "markdown",
   "metadata": {},
   "source": [
    "#### Data Prep"
   ]
  },
  {
   "cell_type": "code",
   "execution_count": 336,
   "metadata": {},
   "outputs": [],
   "source": [
    "# isolate the predictors and labels for both the training and test set\n",
    "train_X = train.iloc[:, 14:34]\n",
    "train_y = train['Regime']\n",
    "\n",
    "val_X = val.iloc[:, 14:34]\n",
    "val_y = val['Regime']\n",
    "\n",
    "pred_names = df.iloc[:, 14:34].columns"
   ]
  },
  {
   "cell_type": "markdown",
   "metadata": {},
   "source": [
    "##### Standardize the data"
   ]
  },
  {
   "cell_type": "code",
   "execution_count": 337,
   "metadata": {},
   "outputs": [
    {
     "name": "stderr",
     "output_type": "stream",
     "text": [
      "/anaconda3/lib/python3.7/site-packages/sklearn/utils/validation.py:475: DataConversionWarning: Data with input dtype object was converted to float64 by StandardScaler.\n",
      "  warnings.warn(msg, DataConversionWarning)\n",
      "/anaconda3/lib/python3.7/site-packages/sklearn/utils/validation.py:475: DataConversionWarning: Data with input dtype object was converted to float64 by StandardScaler.\n",
      "  warnings.warn(msg, DataConversionWarning)\n",
      "/anaconda3/lib/python3.7/site-packages/sklearn/utils/validation.py:475: DataConversionWarning: Data with input dtype object was converted to float64 by StandardScaler.\n",
      "  warnings.warn(msg, DataConversionWarning)\n"
     ]
    }
   ],
   "source": [
    "scaler = StandardScaler()\n",
    "\n",
    "# Fit on training set only.\n",
    "scaler.fit(train_X.values)\n",
    "\n",
    "# Apply transform to both the training set and the test set.\n",
    "train_X = scaler.transform(train_X.values)\n",
    "val_X = scaler.transform(val_X.values)"
   ]
  },
  {
   "cell_type": "markdown",
   "metadata": {},
   "source": [
    "### Multiclass logistic regression model (one vs. rest)"
   ]
  },
  {
   "cell_type": "markdown",
   "metadata": {},
   "source": [
    "##### Fit the model & make predictions"
   ]
  },
  {
   "cell_type": "code",
   "execution_count": 5,
   "metadata": {},
   "outputs": [
    {
     "data": {
      "text/plain": [
       "LogisticRegression(C=1.0, class_weight=None, dual=False, fit_intercept=True,\n",
       "          intercept_scaling=1, max_iter=100, multi_class='ovr', n_jobs=1,\n",
       "          penalty='l2', random_state=None, solver='liblinear', tol=0.0001,\n",
       "          verbose=0, warm_start=False)"
      ]
     },
     "execution_count": 5,
     "metadata": {},
     "output_type": "execute_result"
    }
   ],
   "source": [
    "clf = LogisticRegression(solver='liblinear', multi_class='ovr')\n",
    "clf.fit(train_X, train_y)\n",
    "#clf = LogisticRegression(random_state=0, solver='saga', multi_class='multinomial').fit(train_X, train_y)"
   ]
  },
  {
   "cell_type": "code",
   "execution_count": 6,
   "metadata": {},
   "outputs": [],
   "source": [
    "# make predictions\n",
    "val_pred = clf.predict(val_X)"
   ]
  },
  {
   "cell_type": "markdown",
   "metadata": {},
   "source": [
    "##### Evaluate performance"
   ]
  },
  {
   "cell_type": "code",
   "execution_count": 7,
   "metadata": {},
   "outputs": [
    {
     "name": "stdout",
     "output_type": "stream",
     "text": [
      "Misclassified samples: 37\n",
      "Classification Report:\n",
      "             precision    recall  f1-score   support\n",
      "\n",
      "          1       0.62      0.69      0.65        26\n",
      "          2       0.78      0.75      0.76        28\n",
      "          3       0.52      0.60      0.56        25\n",
      "          5       0.60      0.43      0.50        21\n",
      "\n",
      "avg / total       0.63      0.63      0.63       100\n",
      "\n"
     ]
    },
    {
     "data": {
      "image/png": "[encoded data removed]",
      "text/plain": [
       "<Figure size 432x288 with 2 Axes>"
      ]
     },
     "metadata": {
      "needs_background": "light"
     },
     "output_type": "display_data"
    }
   ],
   "source": [
    "evaluate_performance(val_y, val_pred)"
   ]
  },
  {
   "cell_type": "markdown",
   "metadata": {},
   "source": [
    "##### Examining variable importance\n",
    "Since this is no longer a focus for the project, I'm not doing this for the other models. Just keeping this here in case we want to revisit it for the final project writeup."
   ]
  },
  {
   "cell_type": "code",
   "execution_count": 8,
   "metadata": {},
   "outputs": [],
   "source": [
    "# create a data frame with the coefficients for all the multiclass logit coefficients\n",
    "coef_ovr = pd.DataFrame(clf.coef_, index=clf.classes_, columns=pred_names)"
   ]
  },
  {
   "cell_type": "code",
   "execution_count": 9,
   "metadata": {},
   "outputs": [
    {
     "data": {
      "text/html": [
       "<div>\n",
       "<style scoped>\n",
       "    .dataframe tbody tr th:only-of-type {\n",
       "        vertical-align: middle;\n",
       "    }\n",
       "\n",
       "    .dataframe tbody tr th {\n",
       "        vertical-align: top;\n",
       "    }\n",
       "\n",
       "    .dataframe thead th {\n",
       "        text-align: right;\n",
       "    }\n",
       "</style>\n",
       "<table border=\"1\" class=\"dataframe\">\n",
       "  <thead>\n",
       "    <tr style=\"text-align: right;\">\n",
       "      <th></th>\n",
       "      <th>Effluent</th>\n",
       "      <th>Fishing_NonComm_Shore_Line</th>\n",
       "      <th>SST_STD</th>\n",
       "      <th>Depth</th>\n",
       "      <th>SST_CLIM_M</th>\n",
       "      <th>Fishing_NonComm_Boat_Total</th>\n",
       "      <th>Fishing_NonComm_Shore_Spear</th>\n",
       "      <th>Invasive_Algae</th>\n",
       "      <th>PAR_CLIM_M</th>\n",
       "      <th>Fishing_NonComm_Shore_Net</th>\n",
       "      <th>CHL_CLIM_M</th>\n",
       "      <th>Complexity</th>\n",
       "      <th>Habitat_Modification</th>\n",
       "      <th>WAV_ANOM_F</th>\n",
       "      <th>Sedimentation</th>\n",
       "      <th>Fishing_Comm_Total</th>\n",
       "      <th>CHL_ANOM_F</th>\n",
       "      <th>WAV_CLIM_M</th>\n",
       "      <th>New_Development</th>\n",
       "      <th>PAR_STD</th>\n",
       "    </tr>\n",
       "  </thead>\n",
       "  <tbody>\n",
       "    <tr>\n",
       "      <th>1</th>\n",
       "      <td>2.639081</td>\n",
       "      <td>0.778184</td>\n",
       "      <td>0.646784</td>\n",
       "      <td>0.586206</td>\n",
       "      <td>0.521871</td>\n",
       "      <td>0.51951</td>\n",
       "      <td>0.388728</td>\n",
       "      <td>0.343639</td>\n",
       "      <td>0.294381</td>\n",
       "      <td>0.237793</td>\n",
       "      <td>0.221354</td>\n",
       "      <td>0.139958</td>\n",
       "      <td>0.135203</td>\n",
       "      <td>0.070958</td>\n",
       "      <td>0.061339</td>\n",
       "      <td>0.053058</td>\n",
       "      <td>0.032948</td>\n",
       "      <td>0.02542</td>\n",
       "      <td>0.018377</td>\n",
       "      <td>0.008124</td>\n",
       "    </tr>\n",
       "  </tbody>\n",
       "</table>\n",
       "</div>"
      ],
      "text/plain": [
       "   Effluent  Fishing_NonComm_Shore_Line   SST_STD     Depth  SST_CLIM_M  \\\n",
       "1  2.639081                    0.778184  0.646784  0.586206    0.521871   \n",
       "\n",
       "   Fishing_NonComm_Boat_Total  Fishing_NonComm_Shore_Spear  Invasive_Algae  \\\n",
       "1                     0.51951                     0.388728        0.343639   \n",
       "\n",
       "   PAR_CLIM_M  Fishing_NonComm_Shore_Net  CHL_CLIM_M  Complexity  \\\n",
       "1    0.294381                   0.237793    0.221354    0.139958   \n",
       "\n",
       "   Habitat_Modification  WAV_ANOM_F  Sedimentation  Fishing_Comm_Total  \\\n",
       "1              0.135203    0.070958       0.061339            0.053058   \n",
       "\n",
       "   CHL_ANOM_F  WAV_CLIM_M  New_Development   PAR_STD  \n",
       "1    0.032948     0.02542         0.018377  0.008124  "
      ]
     },
     "execution_count": 9,
     "metadata": {},
     "output_type": "execute_result"
    }
   ],
   "source": [
    "# sort predictors by the magnitude of their coefficients for regime 1\n",
    "np.abs(coef_ovr.iloc[[0,]]).sort_values(by=1, axis=1, ascending=False)"
   ]
  },
  {
   "cell_type": "code",
   "execution_count": 10,
   "metadata": {},
   "outputs": [
    {
     "data": {
      "text/html": [
       "<div>\n",
       "<style scoped>\n",
       "    .dataframe tbody tr th:only-of-type {\n",
       "        vertical-align: middle;\n",
       "    }\n",
       "\n",
       "    .dataframe tbody tr th {\n",
       "        vertical-align: top;\n",
       "    }\n",
       "\n",
       "    .dataframe thead th {\n",
       "        text-align: right;\n",
       "    }\n",
       "</style>\n",
       "<table border=\"1\" class=\"dataframe\">\n",
       "  <thead>\n",
       "    <tr style=\"text-align: right;\">\n",
       "      <th></th>\n",
       "      <th>SST_STD</th>\n",
       "      <th>Effluent</th>\n",
       "      <th>Fishing_NonComm_Shore_Spear</th>\n",
       "      <th>WAV_ANOM_F</th>\n",
       "      <th>Complexity</th>\n",
       "      <th>CHL_CLIM_M</th>\n",
       "      <th>PAR_CLIM_M</th>\n",
       "      <th>Fishing_NonComm_Shore_Line</th>\n",
       "      <th>New_Development</th>\n",
       "      <th>WAV_CLIM_M</th>\n",
       "      <th>Fishing_NonComm_Boat_Total</th>\n",
       "      <th>Fishing_Comm_Total</th>\n",
       "      <th>SST_CLIM_M</th>\n",
       "      <th>Invasive_Algae</th>\n",
       "      <th>Habitat_Modification</th>\n",
       "      <th>PAR_STD</th>\n",
       "      <th>Depth</th>\n",
       "      <th>CHL_ANOM_F</th>\n",
       "      <th>Sedimentation</th>\n",
       "      <th>Fishing_NonComm_Shore_Net</th>\n",
       "    </tr>\n",
       "  </thead>\n",
       "  <tbody>\n",
       "    <tr>\n",
       "      <th>2</th>\n",
       "      <td>0.711371</td>\n",
       "      <td>0.517009</td>\n",
       "      <td>0.418174</td>\n",
       "      <td>0.392961</td>\n",
       "      <td>0.378102</td>\n",
       "      <td>0.377502</td>\n",
       "      <td>0.333317</td>\n",
       "      <td>0.319895</td>\n",
       "      <td>0.299668</td>\n",
       "      <td>0.273372</td>\n",
       "      <td>0.272335</td>\n",
       "      <td>0.25337</td>\n",
       "      <td>0.239247</td>\n",
       "      <td>0.22945</td>\n",
       "      <td>0.218788</td>\n",
       "      <td>0.089631</td>\n",
       "      <td>0.08639</td>\n",
       "      <td>0.068502</td>\n",
       "      <td>0.025963</td>\n",
       "      <td>0.016966</td>\n",
       "    </tr>\n",
       "  </tbody>\n",
       "</table>\n",
       "</div>"
      ],
      "text/plain": [
       "    SST_STD  Effluent  Fishing_NonComm_Shore_Spear  WAV_ANOM_F  Complexity  \\\n",
       "2  0.711371  0.517009                     0.418174    0.392961    0.378102   \n",
       "\n",
       "   CHL_CLIM_M  PAR_CLIM_M  Fishing_NonComm_Shore_Line  New_Development  \\\n",
       "2    0.377502    0.333317                    0.319895         0.299668   \n",
       "\n",
       "   WAV_CLIM_M  Fishing_NonComm_Boat_Total  Fishing_Comm_Total  SST_CLIM_M  \\\n",
       "2    0.273372                    0.272335             0.25337    0.239247   \n",
       "\n",
       "   Invasive_Algae  Habitat_Modification   PAR_STD    Depth  CHL_ANOM_F  \\\n",
       "2         0.22945              0.218788  0.089631  0.08639    0.068502   \n",
       "\n",
       "   Sedimentation  Fishing_NonComm_Shore_Net  \n",
       "2       0.025963                   0.016966  "
      ]
     },
     "execution_count": 10,
     "metadata": {},
     "output_type": "execute_result"
    }
   ],
   "source": [
    "# for regime 2\n",
    "np.abs(coef_ovr.iloc[[1,]]).sort_values(by=2, axis=1, ascending=False)"
   ]
  },
  {
   "cell_type": "code",
   "execution_count": 11,
   "metadata": {},
   "outputs": [
    {
     "data": {
      "text/html": [
       "<div>\n",
       "<style scoped>\n",
       "    .dataframe tbody tr th:only-of-type {\n",
       "        vertical-align: middle;\n",
       "    }\n",
       "\n",
       "    .dataframe tbody tr th {\n",
       "        vertical-align: top;\n",
       "    }\n",
       "\n",
       "    .dataframe thead th {\n",
       "        text-align: right;\n",
       "    }\n",
       "</style>\n",
       "<table border=\"1\" class=\"dataframe\">\n",
       "  <thead>\n",
       "    <tr style=\"text-align: right;\">\n",
       "      <th></th>\n",
       "      <th>SST_STD</th>\n",
       "      <th>CHL_ANOM_F</th>\n",
       "      <th>Fishing_NonComm_Shore_Spear</th>\n",
       "      <th>Fishing_Comm_Total</th>\n",
       "      <th>WAV_CLIM_M</th>\n",
       "      <th>PAR_STD</th>\n",
       "      <th>Fishing_NonComm_Shore_Net</th>\n",
       "      <th>Fishing_NonComm_Shore_Line</th>\n",
       "      <th>CHL_CLIM_M</th>\n",
       "      <th>PAR_CLIM_M</th>\n",
       "      <th>Effluent</th>\n",
       "      <th>New_Development</th>\n",
       "      <th>SST_CLIM_M</th>\n",
       "      <th>Fishing_NonComm_Boat_Total</th>\n",
       "      <th>Habitat_Modification</th>\n",
       "      <th>Complexity</th>\n",
       "      <th>Invasive_Algae</th>\n",
       "      <th>WAV_ANOM_F</th>\n",
       "      <th>Sedimentation</th>\n",
       "      <th>Depth</th>\n",
       "    </tr>\n",
       "  </thead>\n",
       "  <tbody>\n",
       "    <tr>\n",
       "      <th>3</th>\n",
       "      <td>0.953853</td>\n",
       "      <td>0.626184</td>\n",
       "      <td>0.588329</td>\n",
       "      <td>0.545212</td>\n",
       "      <td>0.486791</td>\n",
       "      <td>0.479164</td>\n",
       "      <td>0.3772</td>\n",
       "      <td>0.364994</td>\n",
       "      <td>0.361789</td>\n",
       "      <td>0.349736</td>\n",
       "      <td>0.335244</td>\n",
       "      <td>0.328058</td>\n",
       "      <td>0.291198</td>\n",
       "      <td>0.252243</td>\n",
       "      <td>0.236226</td>\n",
       "      <td>0.218227</td>\n",
       "      <td>0.17796</td>\n",
       "      <td>0.168712</td>\n",
       "      <td>0.016493</td>\n",
       "      <td>0.003376</td>\n",
       "    </tr>\n",
       "  </tbody>\n",
       "</table>\n",
       "</div>"
      ],
      "text/plain": [
       "    SST_STD  CHL_ANOM_F  Fishing_NonComm_Shore_Spear  Fishing_Comm_Total  \\\n",
       "3  0.953853    0.626184                     0.588329            0.545212   \n",
       "\n",
       "   WAV_CLIM_M   PAR_STD  Fishing_NonComm_Shore_Net  \\\n",
       "3    0.486791  0.479164                     0.3772   \n",
       "\n",
       "   Fishing_NonComm_Shore_Line  CHL_CLIM_M  PAR_CLIM_M  Effluent  \\\n",
       "3                    0.364994    0.361789    0.349736  0.335244   \n",
       "\n",
       "   New_Development  SST_CLIM_M  Fishing_NonComm_Boat_Total  \\\n",
       "3         0.328058    0.291198                    0.252243   \n",
       "\n",
       "   Habitat_Modification  Complexity  Invasive_Algae  WAV_ANOM_F  \\\n",
       "3              0.236226    0.218227         0.17796    0.168712   \n",
       "\n",
       "   Sedimentation     Depth  \n",
       "3       0.016493  0.003376  "
      ]
     },
     "execution_count": 11,
     "metadata": {},
     "output_type": "execute_result"
    }
   ],
   "source": [
    "# for regime 3\n",
    "np.abs(coef_ovr.iloc[[2,]]).sort_values(by=3, axis=1, ascending=False)"
   ]
  },
  {
   "cell_type": "code",
   "execution_count": 12,
   "metadata": {},
   "outputs": [
    {
     "data": {
      "text/html": [
       "<div>\n",
       "<style scoped>\n",
       "    .dataframe tbody tr th:only-of-type {\n",
       "        vertical-align: middle;\n",
       "    }\n",
       "\n",
       "    .dataframe tbody tr th {\n",
       "        vertical-align: top;\n",
       "    }\n",
       "\n",
       "    .dataframe thead th {\n",
       "        text-align: right;\n",
       "    }\n",
       "</style>\n",
       "<table border=\"1\" class=\"dataframe\">\n",
       "  <thead>\n",
       "    <tr style=\"text-align: right;\">\n",
       "      <th></th>\n",
       "      <th>WAV_ANOM_F</th>\n",
       "      <th>PAR_STD</th>\n",
       "      <th>WAV_CLIM_M</th>\n",
       "      <th>Fishing_NonComm_Shore_Line</th>\n",
       "      <th>Fishing_Comm_Total</th>\n",
       "      <th>Fishing_NonComm_Shore_Spear</th>\n",
       "      <th>Depth</th>\n",
       "      <th>CHL_CLIM_M</th>\n",
       "      <th>Fishing_NonComm_Boat_Total</th>\n",
       "      <th>Habitat_Modification</th>\n",
       "      <th>Fishing_NonComm_Shore_Net</th>\n",
       "      <th>SST_STD</th>\n",
       "      <th>CHL_ANOM_F</th>\n",
       "      <th>PAR_CLIM_M</th>\n",
       "      <th>Complexity</th>\n",
       "      <th>Invasive_Algae</th>\n",
       "      <th>Effluent</th>\n",
       "      <th>SST_CLIM_M</th>\n",
       "      <th>New_Development</th>\n",
       "      <th>Sedimentation</th>\n",
       "    </tr>\n",
       "  </thead>\n",
       "  <tbody>\n",
       "    <tr>\n",
       "      <th>5</th>\n",
       "      <td>0.918782</td>\n",
       "      <td>0.864808</td>\n",
       "      <td>0.604511</td>\n",
       "      <td>0.603624</td>\n",
       "      <td>0.578518</td>\n",
       "      <td>0.572434</td>\n",
       "      <td>0.540372</td>\n",
       "      <td>0.446496</td>\n",
       "      <td>0.394515</td>\n",
       "      <td>0.390409</td>\n",
       "      <td>0.370604</td>\n",
       "      <td>0.361754</td>\n",
       "      <td>0.356559</td>\n",
       "      <td>0.317852</td>\n",
       "      <td>0.293763</td>\n",
       "      <td>0.150484</td>\n",
       "      <td>0.127832</td>\n",
       "      <td>0.071772</td>\n",
       "      <td>0.069645</td>\n",
       "      <td>0.003165</td>\n",
       "    </tr>\n",
       "  </tbody>\n",
       "</table>\n",
       "</div>"
      ],
      "text/plain": [
       "   WAV_ANOM_F   PAR_STD  WAV_CLIM_M  Fishing_NonComm_Shore_Line  \\\n",
       "5    0.918782  0.864808    0.604511                    0.603624   \n",
       "\n",
       "   Fishing_Comm_Total  Fishing_NonComm_Shore_Spear     Depth  CHL_CLIM_M  \\\n",
       "5            0.578518                     0.572434  0.540372    0.446496   \n",
       "\n",
       "   Fishing_NonComm_Boat_Total  Habitat_Modification  \\\n",
       "5                    0.394515              0.390409   \n",
       "\n",
       "   Fishing_NonComm_Shore_Net   SST_STD  CHL_ANOM_F  PAR_CLIM_M  Complexity  \\\n",
       "5                   0.370604  0.361754    0.356559    0.317852    0.293763   \n",
       "\n",
       "   Invasive_Algae  Effluent  SST_CLIM_M  New_Development  Sedimentation  \n",
       "5        0.150484  0.127832    0.071772         0.069645       0.003165  "
      ]
     },
     "execution_count": 12,
     "metadata": {},
     "output_type": "execute_result"
    }
   ],
   "source": [
    "# for regime 5\n",
    "np.abs(coef_ovr.iloc[[3,]]).sort_values(by=5, axis=1, ascending=False)"
   ]
  },
  {
   "cell_type": "markdown",
   "metadata": {},
   "source": [
    "### Multiclass logistic regression model (multinomial)"
   ]
  },
  {
   "cell_type": "markdown",
   "metadata": {},
   "source": [
    "##### Fit the model & make predictions"
   ]
  },
  {
   "cell_type": "code",
   "execution_count": 13,
   "metadata": {},
   "outputs": [
    {
     "data": {
      "text/plain": [
       "LogisticRegression(C=1.0, class_weight=None, dual=False, fit_intercept=True,\n",
       "          intercept_scaling=1, max_iter=100, multi_class='multinomial',\n",
       "          n_jobs=1, penalty='l2', random_state=None, solver='newton-cg',\n",
       "          tol=0.0001, verbose=0, warm_start=False)"
      ]
     },
     "execution_count": 13,
     "metadata": {},
     "output_type": "execute_result"
    }
   ],
   "source": [
    "clf_multi = LogisticRegression(solver='newton-cg', multi_class='multinomial')\n",
    "clf_multi.fit(train_X, train_y)"
   ]
  },
  {
   "cell_type": "code",
   "execution_count": 14,
   "metadata": {},
   "outputs": [],
   "source": [
    "# make predictions\n",
    "val_pred_multi = clf_multi.predict(val_X)"
   ]
  },
  {
   "cell_type": "markdown",
   "metadata": {},
   "source": [
    "##### Evaluate performance"
   ]
  },
  {
   "cell_type": "code",
   "execution_count": 20,
   "metadata": {},
   "outputs": [
    {
     "name": "stdout",
     "output_type": "stream",
     "text": [
      "Misclassified samples: 34\n",
      "Classification Report:\n",
      "             precision    recall  f1-score   support\n",
      "\n",
      "          1       0.62      0.77      0.69        26\n",
      "          2       0.80      0.71      0.75        28\n",
      "          3       0.59      0.64      0.62        25\n",
      "          5       0.62      0.48      0.54        21\n",
      "\n",
      "avg / total       0.67      0.66      0.66       100\n",
      "\n"
     ]
    },
    {
     "data": {
      "image/png": "[encoded data removed]",
      "text/plain": [
       "<Figure size 432x288 with 2 Axes>"
      ]
     },
     "metadata": {
      "needs_background": "light"
     },
     "output_type": "display_data"
    }
   ],
   "source": [
    "evaluate_performance(val_y, val_pred_multi)"
   ]
  },
  {
   "cell_type": "code",
   "execution_count": 16,
   "metadata": {
    "scrolled": true
   },
   "outputs": [
    {
     "name": "stdout",
     "output_type": "stream",
     "text": [
      "Best C: 0.07196856730011514\n"
     ]
    }
   ],
   "source": [
    "from sklearn.model_selection import GridSearchCV\n",
    "from sklearn.metrics import make_scorer, zero_one_loss\n",
    "C = np.logspace(-4, 4, 15)\n",
    "hyperparameters = dict(C=C)\n",
    "clf = GridSearchCV(LogisticRegression(solver='newton-cg',\n",
    "                                      multi_class='multinomial', \n",
    "                                      penalty='l2',\n",
    "                                      random_state=1), \n",
    "                   hyperparameters, cv=5, verbose=0, iid=False,\n",
    "                   scoring=make_scorer(metrics.f1_score, average='micro', greater_is_better=True),\n",
    "                   return_train_score=True)\n",
    "best_model = clf.fit(train_X, train_y)\n",
    "\n",
    "# Best Model is the model picked with the optimal C retrained on the\n",
    "# entire training data.\n",
    "\n",
    "print('Best C:', best_model.best_estimator_.get_params()['C'])"
   ]
  },
  {
   "cell_type": "code",
   "execution_count": 17,
   "metadata": {},
   "outputs": [
    {
     "data": {
      "image/png": "[encoded data removed]",
      "text/plain": [
       "<Figure size 936x432 with 1 Axes>"
      ]
     },
     "metadata": {
      "needs_background": "light"
     },
     "output_type": "display_data"
    }
   ],
   "source": [
    "# from scikit-learn, \"Demonstration of multi-metric evaluation on cross_val_score and GridSearchCV\" \n",
    "# https://scikit-learn.org/stable/auto_examples/model_selection/plot_multi_metric_evaluation.html\n",
    "results = clf.cv_results_\n",
    "\n",
    "plt.figure(figsize=(13, 6))\n",
    "plt.title(\"Microaverage of F1 score vs model complexity\",\n",
    "          fontsize=16)\n",
    "\n",
    "plt.xlabel(\"C for L2 regularization\")\n",
    "plt.ylabel(\"Microaverage of F1 score\")\n",
    "\n",
    "ax = plt.gca()\n",
    "plt.xscale(\"log\")\n",
    "ax.set_xlim(C[0], C[-1])\n",
    "\n",
    "# Get the regular numpy array from the MaskedArray\n",
    "X_axis = np.array(results['param_C'].data, dtype=float)\n",
    "\n",
    "sample_score_mean = results['mean_test_score']\n",
    "# sample_score_std = results['std_test_score']\n",
    "\n",
    "train_score_mean = results['mean_train_score']\n",
    "\n",
    "# add error bars\n",
    "plt.errorbar(x = X_axis, y = sample_score_mean, \n",
    "             label='Validation Mean', capsize=4, capthick=2)\n",
    "plt.errorbar(x = X_axis, y = train_score_mean, \n",
    "             label='Test Mean', capsize=4, capthick=2)\n",
    "\n",
    "plt.legend()\n",
    "\n",
    "plt.grid(False)\n",
    "plt.show()"
   ]
  },
  {
   "cell_type": "markdown",
   "metadata": {},
   "source": [
    "## Confusion matrix for Cross Validated Regularization"
   ]
  },
  {
   "cell_type": "code",
   "execution_count": 22,
   "metadata": {},
   "outputs": [
    {
     "name": "stdout",
     "output_type": "stream",
     "text": [
      "Misclassified samples: 125\n",
      "Classification Report:\n",
      "             precision    recall  f1-score   support\n",
      "\n",
      "          1       0.76      0.72      0.74       101\n",
      "          2       0.70      0.72      0.71       107\n",
      "          3       0.63      0.72      0.67        93\n",
      "          5       0.65      0.57      0.61        95\n",
      "\n",
      "avg / total       0.69      0.68      0.68       396\n",
      "\n"
     ]
    },
    {
     "data": {
      "image/png": "[encoded data removed]",
      "text/plain": [
       "<Figure size 432x288 with 2 Axes>"
      ]
     },
     "metadata": {
      "needs_background": "light"
     },
     "output_type": "display_data"
    }
   ],
   "source": [
    "train_pred_multi = best_model.predict(train_X)\n",
    "evaluate_performance(train_y, train_pred_multi)"
   ]
  },
  {
   "cell_type": "markdown",
   "metadata": {},
   "source": [
    "## Error Analysis\n",
    "\n",
    "Goals of this section: \n",
    "* Look at the observations where the model was most confident about its predictions\n",
    "* Look at the misclassified observations where the model was most confident about its predictions? Any trends?"
   ]
  },
  {
   "cell_type": "markdown",
   "metadata": {},
   "source": [
    "### Create a new df containing each observation's predicted class, predicted probability, true class, and an indicator tracking whether the prediction was correct"
   ]
  },
  {
   "cell_type": "code",
   "execution_count": 147,
   "metadata": {},
   "outputs": [],
   "source": [
    "# get the probability estimates from our model for every class for every observation\n",
    "    # softmax function has been used to find the predicted prob. of each class\n",
    "train_pred_prob = best_model.predict_proba(train_X)"
   ]
  },
  {
   "cell_type": "code",
   "execution_count": 149,
   "metadata": {},
   "outputs": [],
   "source": [
    "# get the prob. estimate associated with the model's final prediction for each observation\n",
    "    # getting the max prediction probability for every observation\n",
    "final_pred_prob = train_pred_prob[np.arange(len(train_pred_prob)), \n",
    "                                  np.argmax(train_pred_prob, axis=1)]"
   ]
  },
  {
   "cell_type": "code",
   "execution_count": 150,
   "metadata": {},
   "outputs": [],
   "source": [
    "# create df with each observation's predicted class, predicted probability, & true class \n",
    "error_analysis_df = pd.DataFrame({'pred_class': train_pred_multi, \n",
    "                                  'label': train_y, \n",
    "                                  'pred_prob': final_pred_prob})"
   ]
  },
  {
   "cell_type": "code",
   "execution_count": 158,
   "metadata": {},
   "outputs": [],
   "source": [
    "# create a new column in the df tracking if the prediction was correct\n",
    "error_analysis_df['correct'] = 0\n",
    "error_analysis_df.loc[error_analysis_df['pred_class'] == error_analysis_df['label'], 'correct'] = 1"
   ]
  },
  {
   "cell_type": "code",
   "execution_count": 164,
   "metadata": {},
   "outputs": [
    {
     "data": {
      "text/html": [
       "<div>\n",
       "<style scoped>\n",
       "    .dataframe tbody tr th:only-of-type {\n",
       "        vertical-align: middle;\n",
       "    }\n",
       "\n",
       "    .dataframe tbody tr th {\n",
       "        vertical-align: top;\n",
       "    }\n",
       "\n",
       "    .dataframe thead th {\n",
       "        text-align: right;\n",
       "    }\n",
       "</style>\n",
       "<table border=\"1\" class=\"dataframe\">\n",
       "  <thead>\n",
       "    <tr style=\"text-align: right;\">\n",
       "      <th></th>\n",
       "      <th>pred_class</th>\n",
       "      <th>label</th>\n",
       "      <th>pred_prob</th>\n",
       "      <th>correct</th>\n",
       "    </tr>\n",
       "  </thead>\n",
       "  <tbody>\n",
       "    <tr>\n",
       "      <th>0</th>\n",
       "      <td>1</td>\n",
       "      <td>3</td>\n",
       "      <td>0.371956</td>\n",
       "      <td>0</td>\n",
       "    </tr>\n",
       "    <tr>\n",
       "      <th>1</th>\n",
       "      <td>3</td>\n",
       "      <td>5</td>\n",
       "      <td>0.542155</td>\n",
       "      <td>0</td>\n",
       "    </tr>\n",
       "    <tr>\n",
       "      <th>2</th>\n",
       "      <td>1</td>\n",
       "      <td>1</td>\n",
       "      <td>0.931944</td>\n",
       "      <td>1</td>\n",
       "    </tr>\n",
       "    <tr>\n",
       "      <th>3</th>\n",
       "      <td>5</td>\n",
       "      <td>5</td>\n",
       "      <td>0.407940</td>\n",
       "      <td>1</td>\n",
       "    </tr>\n",
       "    <tr>\n",
       "      <th>4</th>\n",
       "      <td>3</td>\n",
       "      <td>3</td>\n",
       "      <td>0.760041</td>\n",
       "      <td>1</td>\n",
       "    </tr>\n",
       "  </tbody>\n",
       "</table>\n",
       "</div>"
      ],
      "text/plain": [
       "   pred_class label  pred_prob  correct\n",
       "0           1     3   0.371956        0\n",
       "1           3     5   0.542155        0\n",
       "2           1     1   0.931944        1\n",
       "3           5     5   0.407940        1\n",
       "4           3     3   0.760041        1"
      ]
     },
     "execution_count": 164,
     "metadata": {},
     "output_type": "execute_result"
    }
   ],
   "source": [
    "error_analysis_df.head()"
   ]
  },
  {
   "cell_type": "markdown",
   "metadata": {},
   "source": [
    "### Analyze the distribution of the prediction probabilities\n",
    "For all observations:"
   ]
  },
  {
   "cell_type": "code",
   "execution_count": 151,
   "metadata": {},
   "outputs": [
    {
     "data": {
      "text/plain": [
       "count    396.000000\n",
       "mean       0.599241\n",
       "std        0.174684\n",
       "min        0.277231\n",
       "25%        0.464556\n",
       "50%        0.555283\n",
       "75%        0.747394\n",
       "max        0.954925\n",
       "Name: pred_prob, dtype: float64"
      ]
     },
     "execution_count": 151,
     "metadata": {},
     "output_type": "execute_result"
    }
   ],
   "source": [
    "# get summary statistics on the probabilities of the predicted class\n",
    "error_analysis_df['pred_prob'].describe()"
   ]
  },
  {
   "cell_type": "code",
   "execution_count": 229,
   "metadata": {},
   "outputs": [
    {
     "data": {
      "image/png": "[encoded data removed]",
      "text/plain": [
       "<Figure size 432x288 with 1 Axes>"
      ]
     },
     "metadata": {
      "needs_background": "light"
     },
     "output_type": "display_data"
    }
   ],
   "source": [
    "# plot the distribution of the probability estimates for the model's final prediction\n",
    "sns.distplot(error_analysis_df[('pred_prob')], kde=False, rug=True, bins=15)\n",
    "plt.title('Dist. of Probability Estimates for Final Prediction')\n",
    "# Set x-axis label\n",
    "plt.xlabel('Prediction Probability')\n",
    "# Set y-axis label\n",
    "plt.ylabel('Frequency')\n",
    "\n",
    "plt.show()"
   ]
  },
  {
   "cell_type": "markdown",
   "metadata": {},
   "source": [
    "Stratified by correct vs. inaccurate classifications:"
   ]
  },
  {
   "cell_type": "code",
   "execution_count": 227,
   "metadata": {},
   "outputs": [
    {
     "data": {
      "image/png": "[encoded data removed]",
      "text/plain": [
       "<Figure size 432x288 with 1 Axes>"
      ]
     },
     "metadata": {
      "needs_background": "light"
     },
     "output_type": "display_data"
    }
   ],
   "source": [
    "fig, ax = plt.subplots()\n",
    "# plot distribution of probability estimates stratified by accuracy of the classification\n",
    "for a in [error_analysis_df[error_analysis_df[('correct')] == 0]['pred_prob'], \n",
    "           error_analysis_df[error_analysis_df[('correct')] == 1]['pred_prob']]:\n",
    "    sns.distplot(a, bins=15, ax=ax, kde=False)\n",
    "\n",
    "plt.title('Dist. of Probability Estimates for Final Prediction')\n",
    "# Set x-axis label\n",
    "plt.xlabel('Prediction Probability')\n",
    "# Set y-axis label\n",
    "plt.ylabel('Frequency')\n",
    "\n",
    "# create legend\n",
    "leg = plt.legend(labels=['Inaccurate Prediction','Correct Prediction'], \n",
    "                 loc = 'upper right')\n",
    "# Get the bounding box of the original legend\n",
    "bb = leg.get_bbox_to_anchor().inverse_transformed(ax.transAxes)\n",
    "# Change to location of the legend. \n",
    "xOffset = 0.5\n",
    "bb.x0 += xOffset\n",
    "bb.x1 += xOffset\n",
    "leg.set_bbox_to_anchor(bb, transform = ax.transAxes)\n",
    "\n",
    "plt.show()"
   ]
  },
  {
   "cell_type": "markdown",
   "metadata": {},
   "source": [
    "The stratified histogram above is reassuring as it shows that when a model classified an observation incorrectly, it generally had lower confidence in that prediction as compared to observations that it categorized correctly."
   ]
  },
  {
   "cell_type": "code",
   "execution_count": null,
   "metadata": {},
   "outputs": [],
   "source": [
    "## ADD THE ADDITIONAL PLOT IN THE ML SLIDES"
   ]
  },
  {
   "cell_type": "markdown",
   "metadata": {},
   "source": [
    "### Deep dive into the observations where the model was most confident about its predictions\n",
    "Let's isolate the top 10% of observations that the model was most confident about. This will amount to ~40 observations."
   ]
  },
  {
   "cell_type": "code",
   "execution_count": 589,
   "metadata": {},
   "outputs": [
    {
     "data": {
      "text/html": [
       "<div>\n",
       "<style scoped>\n",
       "    .dataframe tbody tr th:only-of-type {\n",
       "        vertical-align: middle;\n",
       "    }\n",
       "\n",
       "    .dataframe tbody tr th {\n",
       "        vertical-align: top;\n",
       "    }\n",
       "\n",
       "    .dataframe thead th {\n",
       "        text-align: right;\n",
       "    }\n",
       "</style>\n",
       "<table border=\"1\" class=\"dataframe\">\n",
       "  <thead>\n",
       "    <tr style=\"text-align: right;\">\n",
       "      <th></th>\n",
       "      <th>pred_class</th>\n",
       "      <th>label</th>\n",
       "      <th>pred_prob</th>\n",
       "      <th>correct</th>\n",
       "    </tr>\n",
       "  </thead>\n",
       "  <tbody>\n",
       "    <tr>\n",
       "      <th>73</th>\n",
       "      <td>1</td>\n",
       "      <td>1</td>\n",
       "      <td>0.954925</td>\n",
       "      <td>1</td>\n",
       "    </tr>\n",
       "    <tr>\n",
       "      <th>132</th>\n",
       "      <td>1</td>\n",
       "      <td>1</td>\n",
       "      <td>0.947508</td>\n",
       "      <td>1</td>\n",
       "    </tr>\n",
       "    <tr>\n",
       "      <th>119</th>\n",
       "      <td>1</td>\n",
       "      <td>1</td>\n",
       "      <td>0.946939</td>\n",
       "      <td>1</td>\n",
       "    </tr>\n",
       "    <tr>\n",
       "      <th>379</th>\n",
       "      <td>1</td>\n",
       "      <td>1</td>\n",
       "      <td>0.942105</td>\n",
       "      <td>1</td>\n",
       "    </tr>\n",
       "    <tr>\n",
       "      <th>264</th>\n",
       "      <td>2</td>\n",
       "      <td>2</td>\n",
       "      <td>0.941169</td>\n",
       "      <td>1</td>\n",
       "    </tr>\n",
       "  </tbody>\n",
       "</table>\n",
       "</div>"
      ],
      "text/plain": [
       "     pred_class label  pred_prob  correct\n",
       "73            1     1   0.954925        1\n",
       "132           1     1   0.947508        1\n",
       "119           1     1   0.946939        1\n",
       "379           1     1   0.942105        1\n",
       "264           2     2   0.941169        1"
      ]
     },
     "execution_count": 589,
     "metadata": {},
     "output_type": "execute_result"
    }
   ],
   "source": [
    "# print the first 5 observations of this group\n",
    "error_analysis_df.sort_values(by='pred_prob', ascending=False).head()"
   ]
  },
  {
   "cell_type": "code",
   "execution_count": 419,
   "metadata": {},
   "outputs": [],
   "source": [
    "# number of observations if we isolate the top 10%\n",
    "top_10p = round(error_analysis_df.shape[0] * 0.1)\n",
    "# get the indices of the top 10%\n",
    "idx = error_analysis_df.sort_values(by='pred_prob', ascending=False)[0:top_10p].index.tolist()\n",
    "\n",
    "# get these 40 observations and the relevant feature columns\n",
    "subset = train.iloc[idx, 15:35]"
   ]
  },
  {
   "cell_type": "markdown",
   "metadata": {},
   "source": [
    "##### Check to see if there were any observations in this group that were misclassified:"
   ]
  },
  {
   "cell_type": "code",
   "execution_count": 590,
   "metadata": {},
   "outputs": [
    {
     "data": {
      "text/plain": [
       "1    40\n",
       "Name: correct, dtype: int64"
      ]
     },
     "execution_count": 590,
     "metadata": {},
     "output_type": "execute_result"
    }
   ],
   "source": [
    "error_analysis_df.iloc[idx, ]['correct'].value_counts()"
   ]
  },
  {
   "cell_type": "markdown",
   "metadata": {},
   "source": [
    "All observations in this group were classified correctly.\n",
    "\n",
    "##### Now let's take a look at what percentage of observations from each class fall within this \"top confidence\" group:"
   ]
  },
  {
   "cell_type": "code",
   "execution_count": 591,
   "metadata": {},
   "outputs": [
    {
     "data": {
      "text/html": [
       "<div>\n",
       "<style scoped>\n",
       "    .dataframe tbody tr th:only-of-type {\n",
       "        vertical-align: middle;\n",
       "    }\n",
       "\n",
       "    .dataframe tbody tr th {\n",
       "        vertical-align: top;\n",
       "    }\n",
       "\n",
       "    .dataframe thead th {\n",
       "        text-align: right;\n",
       "    }\n",
       "</style>\n",
       "<table border=\"1\" class=\"dataframe\">\n",
       "  <thead>\n",
       "    <tr style=\"text-align: right;\">\n",
       "      <th></th>\n",
       "      <th>correct_counts</th>\n",
       "      <th>total_counts</th>\n",
       "      <th>fraction</th>\n",
       "    </tr>\n",
       "  </thead>\n",
       "  <tbody>\n",
       "    <tr>\n",
       "      <th>1</th>\n",
       "      <td>20</td>\n",
       "      <td>101</td>\n",
       "      <td>0.198020</td>\n",
       "    </tr>\n",
       "    <tr>\n",
       "      <th>2</th>\n",
       "      <td>14</td>\n",
       "      <td>107</td>\n",
       "      <td>0.130841</td>\n",
       "    </tr>\n",
       "    <tr>\n",
       "      <th>3</th>\n",
       "      <td>0</td>\n",
       "      <td>93</td>\n",
       "      <td>0.000000</td>\n",
       "    </tr>\n",
       "    <tr>\n",
       "      <th>5</th>\n",
       "      <td>6</td>\n",
       "      <td>95</td>\n",
       "      <td>0.063158</td>\n",
       "    </tr>\n",
       "  </tbody>\n",
       "</table>\n",
       "</div>"
      ],
      "text/plain": [
       "   correct_counts  total_counts  fraction\n",
       "1              20           101  0.198020\n",
       "2              14           107  0.130841\n",
       "3               0            93  0.000000\n",
       "5               6            95  0.063158"
      ]
     },
     "execution_count": 591,
     "metadata": {},
     "output_type": "execute_result"
    }
   ],
   "source": [
    "# create a data frame containing the number of obs. from each class in this subset and the total counts of each class\n",
    "subset_correct_perc = pd.DataFrame({'correct_counts': error_analysis_df.iloc[idx, ]['label'].value_counts(),\n",
    "                                    'total_counts': error_analysis_df['label'].value_counts()})\n",
    "subset_correct_perc['fraction'] = subset_correct_perc['correct_counts'] / subset_correct_perc['total_counts']\n",
    "\n",
    "subset_correct_perc"
   ]
  },
  {
   "cell_type": "markdown",
   "metadata": {},
   "source": [
    "It appears that the model was most confident in its predictions for classes 1 and 2. None of the observations categorized as Regime 3 fall into this group and only 6 from Regime 5 fell in this group. \n",
    "\n",
    "##### Now let's compare the distribution of features for our \"top confidence\" group against the distribution of features for our whole training set. Let's do this by overlaying distributions for each feature. "
   ]
  },
  {
   "cell_type": "code",
   "execution_count": null,
   "metadata": {},
   "outputs": [],
   "source": [
    "# make a list of columns that are floats since we can't make histograms with non-floats\n",
    "    # note\n",
    "float_cols = subset.iloc[:, np.r_[0:3, 5:20]].columns"
   ]
  },
  {
   "cell_type": "code",
   "execution_count": 667,
   "metadata": {},
   "outputs": [],
   "source": [
    "# across all 4 classes (not as useful so commented out)\n",
    "# fig, axes = plt.subplots(5,4, figsize = (16,18))\n",
    "# for i, col in enumerate(float_cols):\n",
    "#     for df in [subset.loc[:,float_cols], train.loc[:, float_cols]]:\n",
    "#         sns.distplot(df[col], \n",
    "#                      bins=np.linspace(min(train.loc[:, col]), max(train.loc[:, col]), 15), \n",
    "#                      ax=axes[i // 4, i % 4], kde = False, norm_hist= True)"
   ]
  },
  {
   "cell_type": "markdown",
   "metadata": {},
   "source": [
    "##### For Regime 1: \n",
    "(since more than half of the correctly classified observations in the \"high confidence\" group were for Regime 1)"
   ]
  },
  {
   "cell_type": "code",
   "execution_count": 661,
   "metadata": {},
   "outputs": [],
   "source": [
    "# get the indices of the 20 regime 1 observations\n",
    "sub_r1_idx = error_analysis_df.iloc[idx,]\n",
    "sub_r1_idx = sub_r1_idx[sub_r1_idx['label'] == 1]\n",
    "sub_r1_idx = sub_r1_idx.index.tolist()\n",
    "\n",
    "# get the relevant feature columns for these 20 observations\n",
    "subset_r1 = train.iloc[sub_r1_idx, 15:35]\n",
    "\n",
    "# get all the regime 1 observations and the relevant features from train\n",
    "r1_idx = error_analysis_df[error_analysis_df['label'] == 1].index.tolist()\n",
    "r1 = train.iloc[r1_idx, 15:35]"
   ]
  },
  {
   "cell_type": "code",
   "execution_count": 666,
   "metadata": {},
   "outputs": [
    {
     "data": {
      "image/png": "[encoded data removed]",
      "text/plain": [
       "<Figure size 1152x1296 with 20 Axes>"
      ]
     },
     "metadata": {
      "needs_background": "light"
     },
     "output_type": "display_data"
    }
   ],
   "source": [
    "fig, axes = plt.subplots(5,4, figsize = (16,18))\n",
    "for i, col in enumerate(float_cols):\n",
    "    for df in [subset_r1.loc[:,float_cols], r1.loc[:, float_cols]]:\n",
    "        sns.distplot(df[col], \n",
    "                     bins=np.linspace(min(r1.loc[:, col]), max(r1.loc[:, col]), 8), \n",
    "                     ax=axes[i // 4, i % 4], kde = False, norm_hist= True)"
   ]
  },
  {
   "cell_type": "markdown",
   "metadata": {},
   "source": [
    "### Deep dive into misclassified observations where the model was most confident about its predictions\n",
    "Let's isolate the top 10% of misclassified observations that the model was most confident about. This will amount to ~40 observations."
   ]
  },
  {
   "cell_type": "code",
   "execution_count": 608,
   "metadata": {},
   "outputs": [
    {
     "data": {
      "text/html": [
       "<div>\n",
       "<style scoped>\n",
       "    .dataframe tbody tr th:only-of-type {\n",
       "        vertical-align: middle;\n",
       "    }\n",
       "\n",
       "    .dataframe tbody tr th {\n",
       "        vertical-align: top;\n",
       "    }\n",
       "\n",
       "    .dataframe thead th {\n",
       "        text-align: right;\n",
       "    }\n",
       "</style>\n",
       "<table border=\"1\" class=\"dataframe\">\n",
       "  <thead>\n",
       "    <tr style=\"text-align: right;\">\n",
       "      <th></th>\n",
       "      <th>pred_class</th>\n",
       "      <th>label</th>\n",
       "      <th>pred_prob</th>\n",
       "      <th>correct</th>\n",
       "    </tr>\n",
       "  </thead>\n",
       "  <tbody>\n",
       "    <tr>\n",
       "      <th>340</th>\n",
       "      <td>5</td>\n",
       "      <td>1</td>\n",
       "      <td>0.853232</td>\n",
       "      <td>0</td>\n",
       "    </tr>\n",
       "    <tr>\n",
       "      <th>350</th>\n",
       "      <td>2</td>\n",
       "      <td>1</td>\n",
       "      <td>0.838038</td>\n",
       "      <td>0</td>\n",
       "    </tr>\n",
       "    <tr>\n",
       "      <th>277</th>\n",
       "      <td>1</td>\n",
       "      <td>2</td>\n",
       "      <td>0.837539</td>\n",
       "      <td>0</td>\n",
       "    </tr>\n",
       "    <tr>\n",
       "      <th>365</th>\n",
       "      <td>2</td>\n",
       "      <td>3</td>\n",
       "      <td>0.801964</td>\n",
       "      <td>0</td>\n",
       "    </tr>\n",
       "    <tr>\n",
       "      <th>344</th>\n",
       "      <td>1</td>\n",
       "      <td>2</td>\n",
       "      <td>0.797320</td>\n",
       "      <td>0</td>\n",
       "    </tr>\n",
       "    <tr>\n",
       "      <th>76</th>\n",
       "      <td>2</td>\n",
       "      <td>3</td>\n",
       "      <td>0.793977</td>\n",
       "      <td>0</td>\n",
       "    </tr>\n",
       "    <tr>\n",
       "      <th>332</th>\n",
       "      <td>1</td>\n",
       "      <td>3</td>\n",
       "      <td>0.787808</td>\n",
       "      <td>0</td>\n",
       "    </tr>\n",
       "    <tr>\n",
       "      <th>120</th>\n",
       "      <td>1</td>\n",
       "      <td>3</td>\n",
       "      <td>0.783965</td>\n",
       "      <td>0</td>\n",
       "    </tr>\n",
       "    <tr>\n",
       "      <th>6</th>\n",
       "      <td>2</td>\n",
       "      <td>1</td>\n",
       "      <td>0.781871</td>\n",
       "      <td>0</td>\n",
       "    </tr>\n",
       "    <tr>\n",
       "      <th>389</th>\n",
       "      <td>3</td>\n",
       "      <td>5</td>\n",
       "      <td>0.776127</td>\n",
       "      <td>0</td>\n",
       "    </tr>\n",
       "    <tr>\n",
       "      <th>227</th>\n",
       "      <td>1</td>\n",
       "      <td>2</td>\n",
       "      <td>0.770093</td>\n",
       "      <td>0</td>\n",
       "    </tr>\n",
       "    <tr>\n",
       "      <th>298</th>\n",
       "      <td>1</td>\n",
       "      <td>2</td>\n",
       "      <td>0.757864</td>\n",
       "      <td>0</td>\n",
       "    </tr>\n",
       "    <tr>\n",
       "      <th>217</th>\n",
       "      <td>3</td>\n",
       "      <td>5</td>\n",
       "      <td>0.751820</td>\n",
       "      <td>0</td>\n",
       "    </tr>\n",
       "    <tr>\n",
       "      <th>99</th>\n",
       "      <td>1</td>\n",
       "      <td>2</td>\n",
       "      <td>0.733831</td>\n",
       "      <td>0</td>\n",
       "    </tr>\n",
       "    <tr>\n",
       "      <th>134</th>\n",
       "      <td>5</td>\n",
       "      <td>1</td>\n",
       "      <td>0.724314</td>\n",
       "      <td>0</td>\n",
       "    </tr>\n",
       "    <tr>\n",
       "      <th>154</th>\n",
       "      <td>2</td>\n",
       "      <td>3</td>\n",
       "      <td>0.715981</td>\n",
       "      <td>0</td>\n",
       "    </tr>\n",
       "    <tr>\n",
       "      <th>231</th>\n",
       "      <td>3</td>\n",
       "      <td>2</td>\n",
       "      <td>0.706678</td>\n",
       "      <td>0</td>\n",
       "    </tr>\n",
       "    <tr>\n",
       "      <th>374</th>\n",
       "      <td>2</td>\n",
       "      <td>5</td>\n",
       "      <td>0.688649</td>\n",
       "      <td>0</td>\n",
       "    </tr>\n",
       "    <tr>\n",
       "      <th>183</th>\n",
       "      <td>5</td>\n",
       "      <td>3</td>\n",
       "      <td>0.688429</td>\n",
       "      <td>0</td>\n",
       "    </tr>\n",
       "    <tr>\n",
       "      <th>248</th>\n",
       "      <td>2</td>\n",
       "      <td>5</td>\n",
       "      <td>0.662186</td>\n",
       "      <td>0</td>\n",
       "    </tr>\n",
       "    <tr>\n",
       "      <th>30</th>\n",
       "      <td>2</td>\n",
       "      <td>1</td>\n",
       "      <td>0.662110</td>\n",
       "      <td>0</td>\n",
       "    </tr>\n",
       "    <tr>\n",
       "      <th>72</th>\n",
       "      <td>2</td>\n",
       "      <td>1</td>\n",
       "      <td>0.650346</td>\n",
       "      <td>0</td>\n",
       "    </tr>\n",
       "    <tr>\n",
       "      <th>137</th>\n",
       "      <td>1</td>\n",
       "      <td>2</td>\n",
       "      <td>0.637409</td>\n",
       "      <td>0</td>\n",
       "    </tr>\n",
       "    <tr>\n",
       "      <th>299</th>\n",
       "      <td>2</td>\n",
       "      <td>5</td>\n",
       "      <td>0.630104</td>\n",
       "      <td>0</td>\n",
       "    </tr>\n",
       "    <tr>\n",
       "      <th>339</th>\n",
       "      <td>5</td>\n",
       "      <td>1</td>\n",
       "      <td>0.627561</td>\n",
       "      <td>0</td>\n",
       "    </tr>\n",
       "    <tr>\n",
       "      <th>93</th>\n",
       "      <td>3</td>\n",
       "      <td>5</td>\n",
       "      <td>0.623411</td>\n",
       "      <td>0</td>\n",
       "    </tr>\n",
       "    <tr>\n",
       "      <th>174</th>\n",
       "      <td>5</td>\n",
       "      <td>2</td>\n",
       "      <td>0.619941</td>\n",
       "      <td>0</td>\n",
       "    </tr>\n",
       "    <tr>\n",
       "      <th>233</th>\n",
       "      <td>3</td>\n",
       "      <td>5</td>\n",
       "      <td>0.609603</td>\n",
       "      <td>0</td>\n",
       "    </tr>\n",
       "    <tr>\n",
       "      <th>12</th>\n",
       "      <td>5</td>\n",
       "      <td>2</td>\n",
       "      <td>0.601668</td>\n",
       "      <td>0</td>\n",
       "    </tr>\n",
       "    <tr>\n",
       "      <th>55</th>\n",
       "      <td>2</td>\n",
       "      <td>1</td>\n",
       "      <td>0.600698</td>\n",
       "      <td>0</td>\n",
       "    </tr>\n",
       "    <tr>\n",
       "      <th>354</th>\n",
       "      <td>2</td>\n",
       "      <td>1</td>\n",
       "      <td>0.600548</td>\n",
       "      <td>0</td>\n",
       "    </tr>\n",
       "    <tr>\n",
       "      <th>204</th>\n",
       "      <td>5</td>\n",
       "      <td>2</td>\n",
       "      <td>0.595655</td>\n",
       "      <td>0</td>\n",
       "    </tr>\n",
       "    <tr>\n",
       "      <th>319</th>\n",
       "      <td>3</td>\n",
       "      <td>5</td>\n",
       "      <td>0.580353</td>\n",
       "      <td>0</td>\n",
       "    </tr>\n",
       "    <tr>\n",
       "      <th>208</th>\n",
       "      <td>3</td>\n",
       "      <td>5</td>\n",
       "      <td>0.578437</td>\n",
       "      <td>0</td>\n",
       "    </tr>\n",
       "    <tr>\n",
       "      <th>240</th>\n",
       "      <td>3</td>\n",
       "      <td>5</td>\n",
       "      <td>0.571156</td>\n",
       "      <td>0</td>\n",
       "    </tr>\n",
       "    <tr>\n",
       "      <th>15</th>\n",
       "      <td>2</td>\n",
       "      <td>5</td>\n",
       "      <td>0.563760</td>\n",
       "      <td>0</td>\n",
       "    </tr>\n",
       "    <tr>\n",
       "      <th>325</th>\n",
       "      <td>5</td>\n",
       "      <td>3</td>\n",
       "      <td>0.554010</td>\n",
       "      <td>0</td>\n",
       "    </tr>\n",
       "    <tr>\n",
       "      <th>228</th>\n",
       "      <td>2</td>\n",
       "      <td>1</td>\n",
       "      <td>0.548910</td>\n",
       "      <td>0</td>\n",
       "    </tr>\n",
       "    <tr>\n",
       "      <th>108</th>\n",
       "      <td>5</td>\n",
       "      <td>3</td>\n",
       "      <td>0.548403</td>\n",
       "      <td>0</td>\n",
       "    </tr>\n",
       "    <tr>\n",
       "      <th>85</th>\n",
       "      <td>2</td>\n",
       "      <td>3</td>\n",
       "      <td>0.547360</td>\n",
       "      <td>0</td>\n",
       "    </tr>\n",
       "  </tbody>\n",
       "</table>\n",
       "</div>"
      ],
      "text/plain": [
       "     pred_class label  pred_prob  correct\n",
       "340           5     1   0.853232        0\n",
       "350           2     1   0.838038        0\n",
       "277           1     2   0.837539        0\n",
       "365           2     3   0.801964        0\n",
       "344           1     2   0.797320        0\n",
       "76            2     3   0.793977        0\n",
       "332           1     3   0.787808        0\n",
       "120           1     3   0.783965        0\n",
       "6             2     1   0.781871        0\n",
       "389           3     5   0.776127        0\n",
       "227           1     2   0.770093        0\n",
       "298           1     2   0.757864        0\n",
       "217           3     5   0.751820        0\n",
       "99            1     2   0.733831        0\n",
       "134           5     1   0.724314        0\n",
       "154           2     3   0.715981        0\n",
       "231           3     2   0.706678        0\n",
       "374           2     5   0.688649        0\n",
       "183           5     3   0.688429        0\n",
       "248           2     5   0.662186        0\n",
       "30            2     1   0.662110        0\n",
       "72            2     1   0.650346        0\n",
       "137           1     2   0.637409        0\n",
       "299           2     5   0.630104        0\n",
       "339           5     1   0.627561        0\n",
       "93            3     5   0.623411        0\n",
       "174           5     2   0.619941        0\n",
       "233           3     5   0.609603        0\n",
       "12            5     2   0.601668        0\n",
       "55            2     1   0.600698        0\n",
       "354           2     1   0.600548        0\n",
       "204           5     2   0.595655        0\n",
       "319           3     5   0.580353        0\n",
       "208           3     5   0.578437        0\n",
       "240           3     5   0.571156        0\n",
       "15            2     5   0.563760        0\n",
       "325           5     3   0.554010        0\n",
       "228           2     1   0.548910        0\n",
       "108           5     3   0.548403        0\n",
       "85            2     3   0.547360        0"
      ]
     },
     "execution_count": 608,
     "metadata": {},
     "output_type": "execute_result"
    }
   ],
   "source": [
    "# print the observations of this group\n",
    "misclass_df = error_analysis_df[error_analysis_df['correct'] == 0].sort_values(by='pred_prob', ascending=False)\n",
    "misclass_df[0 : top_10p]"
   ]
  },
  {
   "cell_type": "code",
   "execution_count": 629,
   "metadata": {},
   "outputs": [],
   "source": [
    "# number of observations if we isolate the top 10%\n",
    "#top_5p = round(error_analysis_df.shape[0] * 0.05)"
   ]
  },
  {
   "cell_type": "code",
   "execution_count": 630,
   "metadata": {},
   "outputs": [],
   "source": [
    "# get the indices of the top 10%\n",
    "mis_idx = misclass_df[0 : top_10p].index.tolist()\n",
    "\n",
    "# get these 40 observations and the relevant feature columns\n",
    "mis_subset = train.iloc[mis_idx, 15:35]"
   ]
  },
  {
   "cell_type": "markdown",
   "metadata": {},
   "source": [
    "Now let's take a look at what percentage of observations from each class fall within this \"top confidence\" group:"
   ]
  },
  {
   "cell_type": "code",
   "execution_count": 632,
   "metadata": {},
   "outputs": [
    {
     "data": {
      "text/html": [
       "<div>\n",
       "<style scoped>\n",
       "    .dataframe tbody tr th:only-of-type {\n",
       "        vertical-align: middle;\n",
       "    }\n",
       "\n",
       "    .dataframe tbody tr th {\n",
       "        vertical-align: top;\n",
       "    }\n",
       "\n",
       "    .dataframe thead th {\n",
       "        text-align: right;\n",
       "    }\n",
       "</style>\n",
       "<table border=\"1\" class=\"dataframe\">\n",
       "  <thead>\n",
       "    <tr style=\"text-align: right;\">\n",
       "      <th></th>\n",
       "      <th>subset_counts</th>\n",
       "      <th>total_counts</th>\n",
       "      <th>fraction</th>\n",
       "    </tr>\n",
       "  </thead>\n",
       "  <tbody>\n",
       "    <tr>\n",
       "      <th>1</th>\n",
       "      <td>10</td>\n",
       "      <td>101</td>\n",
       "      <td>0.099010</td>\n",
       "    </tr>\n",
       "    <tr>\n",
       "      <th>2</th>\n",
       "      <td>10</td>\n",
       "      <td>107</td>\n",
       "      <td>0.093458</td>\n",
       "    </tr>\n",
       "    <tr>\n",
       "      <th>3</th>\n",
       "      <td>9</td>\n",
       "      <td>93</td>\n",
       "      <td>0.096774</td>\n",
       "    </tr>\n",
       "    <tr>\n",
       "      <th>5</th>\n",
       "      <td>11</td>\n",
       "      <td>95</td>\n",
       "      <td>0.115789</td>\n",
       "    </tr>\n",
       "  </tbody>\n",
       "</table>\n",
       "</div>"
      ],
      "text/plain": [
       "   subset_counts  total_counts  fraction\n",
       "1             10           101  0.099010\n",
       "2             10           107  0.093458\n",
       "3              9            93  0.096774\n",
       "5             11            95  0.115789"
      ]
     },
     "execution_count": 632,
     "metadata": {},
     "output_type": "execute_result"
    }
   ],
   "source": [
    "# create a data frame containing the number of obs. from each class in this subset and the total counts of each class\n",
    "mis_subset_perc = pd.DataFrame({'subset_counts': error_analysis_df.iloc[mis_idx, ]['label'].value_counts(),\n",
    "                                    'total_counts': error_analysis_df['label'].value_counts()})\n",
    "mis_subset_perc['fraction'] = mis_subset_perc['subset_counts'] / mis_subset_perc['total_counts']\n",
    "\n",
    "mis_subset_perc"
   ]
  },
  {
   "cell_type": "markdown",
   "metadata": {},
   "source": [
    "Looks like the model had high confidence misclassifications for all 4 regimes. "
   ]
  },
  {
   "cell_type": "code",
   "execution_count": null,
   "metadata": {},
   "outputs": [],
   "source": [
    "fig, axes = plt.subplots(5,4, figsize = (16,18))\n",
    "for i, col in enumerate(float_cols):\n",
    "    for df in [mis_subset.loc[:,float_cols], train.loc[:, float_cols]]:\n",
    "        sns.distplot(df[col], \n",
    "                     bins=np.linspace(min(train.loc[:, col]), max(train.loc[:, col]), 15), \n",
    "                     ax=axes[i // 4, i % 4], kde = False, norm_hist= True)"
   ]
  }
 ],
 "metadata": {
  "kernelspec": {
   "display_name": "Python 3",
   "language": "python",
   "name": "python3"
  },
  "language_info": {
   "codemirror_mode": {
    "name": "ipython",
    "version": 3
   },
   "file_extension": ".py",
   "mimetype": "text/x-python",
   "name": "python",
   "nbconvert_exporter": "python",
   "pygments_lexer": "ipython3",
   "version": "3.7.0"
  }
 },
 "nbformat": 4,
 "nbformat_minor": 2
}
