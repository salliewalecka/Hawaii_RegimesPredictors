{
 "cells": [
  {
   "cell_type": "markdown",
   "metadata": {},
   "source": [
    "# SVMs with additional Feature Engineered Columns\n",
    "\n",
    "We add here columns created by the feature engineering notebook and compare the accuracy of the models with before. "
   ]
  },
  {
   "cell_type": "code",
   "execution_count": 1,
   "metadata": {},
   "outputs": [],
   "source": [
    "import numpy as np\n",
    "import pandas as pd\n",
    "import matplotlib.pyplot as plt\n",
    "import seaborn as sns\n",
    "import random\n",
    "from sklearn.model_selection import train_test_split\n",
    "import matplotlib.colors as colors\n",
    "import matplotlib.cm as cmx\n",
    "from statsmodels.stats.outliers_influence import variance_inflation_factor\n",
    "from statsmodels.tools.tools import add_constant\n",
    "from sklearn.linear_model import LogisticRegression\n",
    "from sklearn import metrics\n",
    "from sklearn.preprocessing import StandardScaler\n",
    "from sklearn.svm import SVC \n",
    "from sklearn.ensemble.partial_dependence import partial_dependence, plot_partial_dependence\n",
    "\n",
    "from Notebook_helpers import load_data\n",
    "from Notebook_helpers.modeling_helpers import *\n",
    "\n",
    "%matplotlib inline"
   ]
  },
  {
   "cell_type": "markdown",
   "metadata": {},
   "source": [
    "## Read in the data + Preprocess"
   ]
  },
  {
   "cell_type": "code",
   "execution_count": null,
   "metadata": {},
   "outputs": [],
   "source": [
    "df, train, val, test = load_data.load_coral_data(complete=True, CV=False, convert_to_categorical=True)"
   ]
  },
  {
   "cell_type": "markdown",
   "metadata": {},
   "source": [
    "#### Prepare data with additional engineered features"
   ]
  },
  {
   "cell_type": "code",
   "execution_count": 4,
   "metadata": {},
   "outputs": [],
   "source": [
    "# isolate the predictors and labels for both the training and test set\n",
    "train_X, train_y, pred_names = load_data.get_features_and_response(train, with_feature_eng = False)\n",
    "val_X, val_y, _ = load_data.get_features_and_response(val, with_feature_eng = False)\n",
    "train_plus_val_X, train_plus_val_y, _ = load_data.get_features_and_response(train.append(val), with_feature_eng = False)"
   ]
  },
  {
   "cell_type": "code",
   "execution_count": 5,
   "metadata": {},
   "outputs": [
    {
     "name": "stdout",
     "output_type": "stream",
     "text": [
      "Features Used:  ['Effluent' 'Sedimentation' 'New_Development' 'Habitat_Modification'\n",
      " 'Invasive_Algae' 'Fishing_Comm_Total' 'Fishing_NonComm_Boat_Total'\n",
      " 'Fishing_NonComm_Shore_Line' 'Fishing_NonComm_Shore_Net'\n",
      " 'Fishing_NonComm_Shore_Spear' 'SST_CLIM_M' 'SST_STD' 'CHL_CLIM_M'\n",
      " 'CHL_ANOM_F' 'PAR_CLIM_M' 'PAR_STD' 'WAV_CLIM_M' 'WAV_ANOM_F'\n",
      " 'Complexity' 'Depth']\n"
     ]
    }
   ],
   "source": [
    "print(\"Features Used: \" , pred_names.get_values())"
   ]
  },
  {
   "cell_type": "markdown",
   "metadata": {},
   "source": [
    "#### Standardize the data"
   ]
  },
  {
   "cell_type": "code",
   "execution_count": 6,
   "metadata": {},
   "outputs": [],
   "source": [
    "scaler = StandardScaler()\n",
    "\n",
    "# Fit on training set only.\n",
    "scaler.fit(train_plus_val_X.values)\n",
    "\n",
    "# Apply transform to both the training set and the test set.\n",
    "train_X = scaler.transform(train_X.values)\n",
    "val_X = scaler.transform(val_X.values)\n",
    "train_plus_val_X = scaler.transform(train_plus_val_X.values)"
   ]
  },
  {
   "cell_type": "markdown",
   "metadata": {},
   "source": [
    "## Gaussian Kernel"
   ]
  },
  {
   "cell_type": "code",
   "execution_count": 6,
   "metadata": {},
   "outputs": [
    {
     "data": {
      "text/plain": [
       "SVC(C=1.0, cache_size=200, class_weight=None, coef0=0.0,\n",
       "  decision_function_shape='ovr', degree=3, gamma='auto_deprecated',\n",
       "  kernel='rbf', max_iter=-1, probability=False, random_state=None,\n",
       "  shrinking=True, tol=0.001, verbose=False)"
      ]
     },
     "execution_count": 6,
     "metadata": {},
     "output_type": "execute_result"
    }
   ],
   "source": [
    "# svclassifier_gauss = SVC(kernel='rbf')  \n",
    "# svclassifier_gauss.fit(train_X, train_y)  "
   ]
  },
  {
   "cell_type": "code",
   "execution_count": 11,
   "metadata": {},
   "outputs": [
    {
     "data": {
      "text/plain": [
       "{'mean_fit_time': array([0.00766997]),\n",
       " 'std_fit_time': array([0.00111824]),\n",
       " 'mean_score_time': array([0.00271082]),\n",
       " 'std_score_time': array([0.00078689]),\n",
       " 'params': [{}],\n",
       " 'split0_test_score': array([0.66336634]),\n",
       " 'split1_test_score': array([0.6]),\n",
       " 'split2_test_score': array([0.64646465]),\n",
       " 'split3_test_score': array([0.64285714]),\n",
       " 'split4_test_score': array([0.70408163]),\n",
       " 'mean_test_score': array([0.65135395]),\n",
       " 'std_test_score': array([0.03363877]),\n",
       " 'rank_test_score': array([1], dtype=int32),\n",
       " 'split0_train_score': array([0.79746835]),\n",
       " 'split1_train_score': array([0.80555556]),\n",
       " 'split2_train_score': array([0.78589421]),\n",
       " 'split3_train_score': array([0.79648241]),\n",
       " 'split4_train_score': array([0.77135678]),\n",
       " 'mean_train_score': array([0.79135146]),\n",
       " 'std_train_score': array([0.0117904])}"
      ]
     },
     "execution_count": 11,
     "metadata": {},
     "output_type": "execute_result"
    }
   ],
   "source": [
    "from sklearn.model_selection import GridSearchCV\n",
    "from sklearn.metrics import make_scorer\n",
    "hyperparameters = dict()\n",
    "clf = GridSearchCV(SVC(kernel='rbf', gamma='auto'), \n",
    "                   hyperparameters, cv=5, verbose=0, iid=False,\n",
    "                   scoring=make_scorer(metrics.f1_score, average='micro', greater_is_better=True),\n",
    "                   return_train_score=True)\n",
    "best_model = clf.fit(train_plus_val_X, train_plus_val_y)\n",
    "best_model.cv_results_"
   ]
  },
  {
   "cell_type": "code",
   "execution_count": 10,
   "metadata": {},
   "outputs": [
    {
     "ename": "NameError",
     "evalue": "name 'svclassifier_gauss' is not defined",
     "output_type": "error",
     "traceback": [
      "\u001b[0;31m---------------------------------------------------------------------------\u001b[0m",
      "\u001b[0;31mNameError\u001b[0m                                 Traceback (most recent call last)",
      "\u001b[0;32m<ipython-input-10-d5b87ee75554>\u001b[0m in \u001b[0;36m<module>\u001b[0;34m()\u001b[0m\n\u001b[0;32m----> 1\u001b[0;31m \u001b[0mval_pred_svm_gauss\u001b[0m \u001b[0;34m=\u001b[0m \u001b[0msvclassifier_gauss\u001b[0m\u001b[0;34m.\u001b[0m\u001b[0mpredict\u001b[0m\u001b[0;34m(\u001b[0m\u001b[0mval_X\u001b[0m\u001b[0;34m)\u001b[0m\u001b[0;34m\u001b[0m\u001b[0;34m\u001b[0m\u001b[0m\n\u001b[0m",
      "\u001b[0;31mNameError\u001b[0m: name 'svclassifier_gauss' is not defined"
     ]
    }
   ],
   "source": [
    "val_pred_svm_gauss = svclassifier_gauss.predict(val_X)  "
   ]
  },
  {
   "cell_type": "markdown",
   "metadata": {},
   "source": [
    "#### Evaluate performance"
   ]
  },
  {
   "cell_type": "code",
   "execution_count": 8,
   "metadata": {},
   "outputs": [
    {
     "name": "stdout",
     "output_type": "stream",
     "text": [
      "Misclassified samples: 32\n",
      "Classification Report:\n",
      "              precision    recall  f1-score   support\n",
      "\n",
      "           1       0.73      0.73      0.73        26\n",
      "           2       0.75      0.75      0.75        28\n",
      "           3       0.62      0.72      0.67        25\n",
      "           5       0.59      0.48      0.53        21\n",
      "\n",
      "   micro avg       0.68      0.68      0.68       100\n",
      "   macro avg       0.67      0.67      0.67       100\n",
      "weighted avg       0.68      0.68      0.68       100\n",
      "\n"
     ]
    },
    {
     "data": {
      "image/png": "[encoded data removed]",
      "text/plain": [
       "<Figure size 432x288 with 2 Axes>"
      ]
     },
     "metadata": {
      "needs_background": "light"
     },
     "output_type": "display_data"
    }
   ],
   "source": [
    "evaluate_performance(val_y, val_pred_svm_gauss)"
   ]
  },
  {
   "cell_type": "code",
   "execution_count": null,
   "metadata": {},
   "outputs": [],
   "source": []
  },
  {
   "cell_type": "markdown",
   "metadata": {},
   "source": [
    "## Polynomial Kernel"
   ]
  },
  {
   "cell_type": "code",
   "execution_count": 9,
   "metadata": {},
   "outputs": [
    {
     "data": {
      "text/plain": [
       "SVC(C=1.0, cache_size=200, class_weight=None, coef0=0.0,\n",
       "  decision_function_shape='ovr', degree=3, gamma='auto_deprecated',\n",
       "  kernel='poly', max_iter=-1, probability=False, random_state=None,\n",
       "  shrinking=True, tol=0.001, verbose=False)"
      ]
     },
     "execution_count": 9,
     "metadata": {},
     "output_type": "execute_result"
    }
   ],
   "source": [
    "svclassifier_poly = SVC(kernel='poly')  \n",
    "svclassifier_poly.fit(train_X, train_y)"
   ]
  },
  {
   "cell_type": "code",
   "execution_count": 12,
   "metadata": {},
   "outputs": [
    {
     "data": {
      "text/plain": [
       "{'mean_fit_time': array([0.00678101]),\n",
       " 'std_fit_time': array([0.00131173]),\n",
       " 'mean_score_time': array([0.00196157]),\n",
       " 'std_score_time': array([0.000296]),\n",
       " 'params': [{}],\n",
       " 'split0_test_score': array([0.66336634]),\n",
       " 'split1_test_score': array([0.53]),\n",
       " 'split2_test_score': array([0.62626263]),\n",
       " 'split3_test_score': array([0.62244898]),\n",
       " 'split4_test_score': array([0.62244898]),\n",
       " 'mean_test_score': array([0.61290538]),\n",
       " 'std_test_score': array([0.04422711]),\n",
       " 'rank_test_score': array([1], dtype=int32),\n",
       " 'split0_train_score': array([0.81265823]),\n",
       " 'split1_train_score': array([0.77272727]),\n",
       " 'split2_train_score': array([0.77078086]),\n",
       " 'split3_train_score': array([0.75376884]),\n",
       " 'split4_train_score': array([0.77386935]),\n",
       " 'mean_train_score': array([0.77676091]),\n",
       " 'std_train_score': array([0.01937857])}"
      ]
     },
     "execution_count": 12,
     "metadata": {},
     "output_type": "execute_result"
    }
   ],
   "source": [
    "from sklearn.model_selection import GridSearchCV\n",
    "from sklearn.metrics import make_scorer\n",
    "hyperparameters = dict()\n",
    "clf = GridSearchCV(SVC(kernel='poly', gamma='auto'), \n",
    "                   hyperparameters, cv=5, verbose=0, iid=False,\n",
    "                   scoring=make_scorer(metrics.f1_score, average='micro', greater_is_better=True),\n",
    "                   return_train_score=True)\n",
    "best_model = clf.fit(train_plus_val_X, train_plus_val_y)\n",
    "best_model.cv_results_"
   ]
  },
  {
   "cell_type": "code",
   "execution_count": 10,
   "metadata": {},
   "outputs": [],
   "source": [
    "val_pred_svm_poly = svclassifier_poly.predict(val_X)  "
   ]
  },
  {
   "cell_type": "code",
   "execution_count": 11,
   "metadata": {},
   "outputs": [
    {
     "name": "stdout",
     "output_type": "stream",
     "text": [
      "Misclassified samples: 33\n",
      "Classification Report:\n",
      "              precision    recall  f1-score   support\n",
      "\n",
      "           1       0.78      0.54      0.64        26\n",
      "           2       0.65      0.79      0.71        28\n",
      "           3       0.63      0.76      0.69        25\n",
      "           5       0.67      0.57      0.62        21\n",
      "\n",
      "   micro avg       0.67      0.67      0.67       100\n",
      "   macro avg       0.68      0.66      0.66       100\n",
      "weighted avg       0.68      0.67      0.67       100\n",
      "\n"
     ]
    },
    {
     "data": {
      "image/png": "[encoded data removed]",
      "text/plain": [
       "<Figure size 432x288 with 2 Axes>"
      ]
     },
     "metadata": {
      "needs_background": "light"
     },
     "output_type": "display_data"
    }
   ],
   "source": [
    "evaluate_performance(val_y, val_pred_svm_poly)"
   ]
  },
  {
   "cell_type": "code",
   "execution_count": null,
   "metadata": {},
   "outputs": [],
   "source": []
  },
  {
   "cell_type": "code",
   "execution_count": null,
   "metadata": {},
   "outputs": [],
   "source": []
  },
  {
   "cell_type": "markdown",
   "metadata": {},
   "source": [
    "### Try removing a couple columns. "
   ]
  },
  {
   "cell_type": "code",
   "execution_count": null,
   "metadata": {},
   "outputs": [],
   "source": []
  }
 ],
 "metadata": {
  "kernelspec": {
   "display_name": "Python 3",
   "language": "python",
   "name": "python3"
  },
  "language_info": {
   "codemirror_mode": {
    "name": "ipython",
    "version": 3
   },
   "file_extension": ".py",
   "mimetype": "text/x-python",
   "name": "python",
   "nbconvert_exporter": "python",
   "pygments_lexer": "ipython3",
   "version": "3.6.8"
  }
 },
 "nbformat": 4,
 "nbformat_minor": 2
}
