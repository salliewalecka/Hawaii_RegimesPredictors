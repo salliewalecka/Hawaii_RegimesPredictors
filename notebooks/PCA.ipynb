{
 "cells": [
  {
   "cell_type": "markdown",
   "metadata": {},
   "source": [
    "# Principal Component Analysis\n",
    "\n",
    "Hypothesis: Regimes 3 and 5 are the most similar. Will this show up in a PCA plot?"
   ]
  },
  {
   "cell_type": "code",
   "execution_count": 1,
   "metadata": {},
   "outputs": [],
   "source": [
    "import numpy as np\n",
    "import pandas as pd\n",
    "import matplotlib.pyplot as plt\n",
    "import seaborn as sns\n",
    "import random\n",
    "from sklearn.model_selection import train_test_split\n",
    "import matplotlib.colors as colors\n",
    "import matplotlib.cm as cmx\n",
    "from statsmodels.stats.outliers_influence import variance_inflation_factor\n",
    "from statsmodels.tools.tools import add_constant\n",
    "import sklearn\n",
    "from sklearn import metrics\n",
    "from sklearn.preprocessing import StandardScaler\n",
    "from sklearn.svm import SVC \n",
    "from sklearn.ensemble.partial_dependence import partial_dependence, plot_partial_dependence\n",
    "\n",
    "from Notebook_helpers import load_data\n",
    "from Notebook_helpers.modeling_helpers import *\n",
    "\n",
    "%matplotlib inline"
   ]
  },
  {
   "cell_type": "markdown",
   "metadata": {},
   "source": [
    "# Load Data"
   ]
  },
  {
   "cell_type": "code",
   "execution_count": 2,
   "metadata": {},
   "outputs": [
    {
     "name": "stdout",
     "output_type": "stream",
     "text": [
      "(496, 44)\n"
     ]
    }
   ],
   "source": [
    "df, train, test = load_data.load_coral_data(complete=True, CV=True, convert_to_categorical=True)\n",
    "print(train.shape)"
   ]
  },
  {
   "cell_type": "markdown",
   "metadata": {},
   "source": [
    "# Data Prep"
   ]
  },
  {
   "cell_type": "code",
   "execution_count": 3,
   "metadata": {},
   "outputs": [
    {
     "data": {
      "text/plain": [
       "Index(['Effluent', 'Sedimentation', 'New_Development', 'Habitat_Modification',\n",
       "       'Invasive_Algae', 'Fishing_Comm_Total', 'Fishing_NonComm_Boat_Total',\n",
       "       'Fishing_NonComm_Shore_Line', 'Fishing_NonComm_Shore_Net',\n",
       "       'Fishing_NonComm_Shore_Spear', 'SST_CLIM_M', 'SST_STD', 'CHL_CLIM_M',\n",
       "       'CHL_ANOM_F', 'PAR_CLIM_M', 'PAR_STD', 'WAV_CLIM_M', 'WAV_ANOM_F',\n",
       "       'Complexity', 'Depth'],\n",
       "      dtype='object')"
      ]
     },
     "execution_count": 3,
     "metadata": {},
     "output_type": "execute_result"
    }
   ],
   "source": [
    "train, train_y, pred_names = load_data.get_features_and_response(train)\n",
    "train_X = train.copy()\n",
    "pred_names"
   ]
  },
  {
   "cell_type": "code",
   "execution_count": 4,
   "metadata": {},
   "outputs": [
    {
     "name": "stderr",
     "output_type": "stream",
     "text": [
      "/anaconda3/lib/python3.6/site-packages/sklearn/utils/validation.py:595: DataConversionWarning: Data with input dtype object was converted to float64 by StandardScaler.\n",
      "  warnings.warn(msg, DataConversionWarning)\n",
      "/anaconda3/lib/python3.6/site-packages/sklearn/utils/validation.py:595: DataConversionWarning: Data with input dtype object was converted to float64 by StandardScaler.\n",
      "  warnings.warn(msg, DataConversionWarning)\n"
     ]
    }
   ],
   "source": [
    "scaler = StandardScaler()\n",
    "\n",
    "# Fit on training set only.\n",
    "scaler.fit(train_X.values)\n",
    "\n",
    "# Apply transform to both the training set and the test set.\n",
    "train_X = scaler.transform(train_X.values)"
   ]
  },
  {
   "cell_type": "markdown",
   "metadata": {},
   "source": [
    "# PCA"
   ]
  },
  {
   "cell_type": "code",
   "execution_count": 5,
   "metadata": {},
   "outputs": [],
   "source": [
    "from sklearn.decomposition import PCA\n",
    "pca = PCA(n_components=2)\n",
    "principalComponents = pca.fit_transform(train_X)\n",
    "principalDf = pd.DataFrame(data = principalComponents\n",
    "             , columns = ['principal component 1', 'principal component 2'])"
   ]
  },
  {
   "cell_type": "code",
   "execution_count": 6,
   "metadata": {},
   "outputs": [
    {
     "name": "stdout",
     "output_type": "stream",
     "text": [
      "[3.95685358 2.78381332]\n",
      "[0.1974438  0.13891004]\n",
      "[0.1974438  0.33635384]\n"
     ]
    }
   ],
   "source": [
    "print(pca.explained_variance_)\n",
    "print(pca.explained_variance_ratio_)\n",
    "print(pca.explained_variance_ratio_.cumsum())"
   ]
  },
  {
   "cell_type": "code",
   "execution_count": 7,
   "metadata": {},
   "outputs": [
    {
     "data": {
      "text/html": [
       "<div>\n",
       "<style scoped>\n",
       "    .dataframe tbody tr th:only-of-type {\n",
       "        vertical-align: middle;\n",
       "    }\n",
       "\n",
       "    .dataframe tbody tr th {\n",
       "        vertical-align: top;\n",
       "    }\n",
       "\n",
       "    .dataframe thead th {\n",
       "        text-align: right;\n",
       "    }\n",
       "</style>\n",
       "<table border=\"1\" class=\"dataframe\">\n",
       "  <thead>\n",
       "    <tr style=\"text-align: right;\">\n",
       "      <th></th>\n",
       "      <th>principal component 1</th>\n",
       "      <th>principal component 2</th>\n",
       "      <th>Regime</th>\n",
       "    </tr>\n",
       "  </thead>\n",
       "  <tbody>\n",
       "    <tr>\n",
       "      <th>0</th>\n",
       "      <td>-1.975522</td>\n",
       "      <td>-0.400253</td>\n",
       "      <td>3</td>\n",
       "    </tr>\n",
       "    <tr>\n",
       "      <th>0</th>\n",
       "      <td>-1.975522</td>\n",
       "      <td>-0.400253</td>\n",
       "      <td>2</td>\n",
       "    </tr>\n",
       "    <tr>\n",
       "      <th>1</th>\n",
       "      <td>-1.958048</td>\n",
       "      <td>1.618326</td>\n",
       "      <td>5</td>\n",
       "    </tr>\n",
       "    <tr>\n",
       "      <th>1</th>\n",
       "      <td>-1.958048</td>\n",
       "      <td>1.618326</td>\n",
       "      <td>2</td>\n",
       "    </tr>\n",
       "    <tr>\n",
       "      <th>2</th>\n",
       "      <td>-1.355824</td>\n",
       "      <td>0.987270</td>\n",
       "      <td>5</td>\n",
       "    </tr>\n",
       "  </tbody>\n",
       "</table>\n",
       "</div>"
      ],
      "text/plain": [
       "   principal component 1  principal component 2 Regime\n",
       "0              -1.975522              -0.400253      3\n",
       "0              -1.975522              -0.400253      2\n",
       "1              -1.958048               1.618326      5\n",
       "1              -1.958048               1.618326      2\n",
       "2              -1.355824               0.987270      5"
      ]
     },
     "execution_count": 7,
     "metadata": {},
     "output_type": "execute_result"
    }
   ],
   "source": [
    "finalDf = principalDf.join(train_y)\n",
    "finalDf.head()"
   ]
  },
  {
   "cell_type": "markdown",
   "metadata": {},
   "source": [
    "# Plot 2d PCA"
   ]
  },
  {
   "cell_type": "code",
   "execution_count": 8,
   "metadata": {},
   "outputs": [],
   "source": [
    "pca_means = finalDf.groupby('Regime').mean()"
   ]
  },
  {
   "cell_type": "code",
   "execution_count": 9,
   "metadata": {},
   "outputs": [
    {
     "data": {
      "image/png": "[encoded data removed]",
      "text/plain": [
       "<Figure size 576x576 with 1 Axes>"
      ]
     },
     "metadata": {
      "needs_background": "light"
     },
     "output_type": "display_data"
    }
   ],
   "source": [
    "fig = plt.figure(figsize = (8,8))\n",
    "ax = fig.add_subplot(1,1,1) \n",
    "ax.set_xlabel('Principal Component 1', fontsize = 15)\n",
    "ax.set_ylabel('Principal Component 2', fontsize = 15)\n",
    "ax.set_title('2 component PCA', fontsize = 20)\n",
    "targets = [1, 2, 3, 5]\n",
    "colors = ['r', 'g', 'b', 'y']\n",
    "for target, color in zip(targets,colors):\n",
    "    indicesToKeep = finalDf['Regime'] == target\n",
    "    ax.scatter(finalDf.loc[indicesToKeep, 'principal component 1']\n",
    "               , finalDf.loc[indicesToKeep, 'principal component 2']\n",
    "               , c = color\n",
    "               , s = 50)\n",
    "ax.scatter(pca_means.loc[0, 'principal component 1'], pca_means.loc[0, 'principal component 2'], c='r', s=500, marker='s')\n",
    "ax.scatter(pca_means.loc[1, 'principal component 1'], pca_means.loc[1, 'principal component 2'], c='g', s=500, marker='s')\n",
    "ax.scatter(pca_means.loc[2, 'principal component 1'], pca_means.loc[2, 'principal component 2'], c='b', s=500, marker='s')\n",
    "ax.scatter(pca_means.loc[3, 'principal component 1'], pca_means.loc[3, 'principal component 2'], c='y', s=500, marker='s')\n",
    "ax.legend(targets)\n",
    "ax.grid()"
   ]
  },
  {
   "cell_type": "code",
   "execution_count": 10,
   "metadata": {},
   "outputs": [
    {
     "data": {
      "text/html": [
       "<div>\n",
       "<style scoped>\n",
       "    .dataframe tbody tr th:only-of-type {\n",
       "        vertical-align: middle;\n",
       "    }\n",
       "\n",
       "    .dataframe tbody tr th {\n",
       "        vertical-align: top;\n",
       "    }\n",
       "\n",
       "    .dataframe thead th {\n",
       "        text-align: right;\n",
       "    }\n",
       "</style>\n",
       "<table border=\"1\" class=\"dataframe\">\n",
       "  <thead>\n",
       "    <tr style=\"text-align: right;\">\n",
       "      <th></th>\n",
       "      <th>Effluent</th>\n",
       "      <th>Sedimentation</th>\n",
       "      <th>New_Development</th>\n",
       "      <th>Habitat_Modification</th>\n",
       "      <th>Invasive_Algae</th>\n",
       "      <th>Fishing_Comm_Total</th>\n",
       "      <th>Fishing_NonComm_Boat_Total</th>\n",
       "      <th>Fishing_NonComm_Shore_Line</th>\n",
       "      <th>Fishing_NonComm_Shore_Net</th>\n",
       "      <th>Fishing_NonComm_Shore_Spear</th>\n",
       "      <th>SST_CLIM_M</th>\n",
       "      <th>SST_STD</th>\n",
       "      <th>CHL_CLIM_M</th>\n",
       "      <th>CHL_ANOM_F</th>\n",
       "      <th>PAR_CLIM_M</th>\n",
       "      <th>PAR_STD</th>\n",
       "      <th>WAV_CLIM_M</th>\n",
       "      <th>WAV_ANOM_F</th>\n",
       "      <th>Complexity</th>\n",
       "      <th>Depth</th>\n",
       "    </tr>\n",
       "    <tr>\n",
       "      <th>Regime</th>\n",
       "      <th></th>\n",
       "      <th></th>\n",
       "      <th></th>\n",
       "      <th></th>\n",
       "      <th></th>\n",
       "      <th></th>\n",
       "      <th></th>\n",
       "      <th></th>\n",
       "      <th></th>\n",
       "      <th></th>\n",
       "      <th></th>\n",
       "      <th></th>\n",
       "      <th></th>\n",
       "      <th></th>\n",
       "      <th></th>\n",
       "      <th></th>\n",
       "      <th></th>\n",
       "      <th></th>\n",
       "      <th></th>\n",
       "      <th></th>\n",
       "    </tr>\n",
       "  </thead>\n",
       "  <tbody>\n",
       "    <tr>\n",
       "      <th>1</th>\n",
       "      <td>-0.005596</td>\n",
       "      <td>-0.054691</td>\n",
       "      <td>0.086454</td>\n",
       "      <td>-0.021326</td>\n",
       "      <td>-0.143122</td>\n",
       "      <td>0.060694</td>\n",
       "      <td>-0.003075</td>\n",
       "      <td>0.032372</td>\n",
       "      <td>0.000199</td>\n",
       "      <td>0.008120</td>\n",
       "      <td>0.046175</td>\n",
       "      <td>0.061435</td>\n",
       "      <td>0.036860</td>\n",
       "      <td>0.052303</td>\n",
       "      <td>-0.011916</td>\n",
       "      <td>-0.099579</td>\n",
       "      <td>0.055611</td>\n",
       "      <td>0.010793</td>\n",
       "      <td>0.023421</td>\n",
       "      <td>0.055105</td>\n",
       "    </tr>\n",
       "    <tr>\n",
       "      <th>2</th>\n",
       "      <td>0.148438</td>\n",
       "      <td>0.153184</td>\n",
       "      <td>0.140224</td>\n",
       "      <td>0.121555</td>\n",
       "      <td>0.218510</td>\n",
       "      <td>-0.066402</td>\n",
       "      <td>0.027455</td>\n",
       "      <td>0.010953</td>\n",
       "      <td>0.133504</td>\n",
       "      <td>0.032245</td>\n",
       "      <td>0.133355</td>\n",
       "      <td>0.003977</td>\n",
       "      <td>0.072771</td>\n",
       "      <td>-0.129502</td>\n",
       "      <td>-0.000947</td>\n",
       "      <td>0.025913</td>\n",
       "      <td>-0.116695</td>\n",
       "      <td>-0.059991</td>\n",
       "      <td>-0.034342</td>\n",
       "      <td>-0.209175</td>\n",
       "    </tr>\n",
       "    <tr>\n",
       "      <th>3</th>\n",
       "      <td>0.002083</td>\n",
       "      <td>0.017642</td>\n",
       "      <td>-0.035868</td>\n",
       "      <td>-0.121515</td>\n",
       "      <td>-0.052315</td>\n",
       "      <td>-0.028202</td>\n",
       "      <td>-0.038930</td>\n",
       "      <td>0.017368</td>\n",
       "      <td>-0.099447</td>\n",
       "      <td>-0.005666</td>\n",
       "      <td>0.029705</td>\n",
       "      <td>-0.006758</td>\n",
       "      <td>-0.074468</td>\n",
       "      <td>-0.075343</td>\n",
       "      <td>-0.037954</td>\n",
       "      <td>0.084084</td>\n",
       "      <td>-0.035024</td>\n",
       "      <td>0.022255</td>\n",
       "      <td>0.031080</td>\n",
       "      <td>0.196248</td>\n",
       "    </tr>\n",
       "    <tr>\n",
       "      <th>5</th>\n",
       "      <td>-0.120967</td>\n",
       "      <td>0.051762</td>\n",
       "      <td>-0.007582</td>\n",
       "      <td>0.036459</td>\n",
       "      <td>0.210639</td>\n",
       "      <td>-0.063006</td>\n",
       "      <td>0.010434</td>\n",
       "      <td>-0.006853</td>\n",
       "      <td>0.068452</td>\n",
       "      <td>0.063937</td>\n",
       "      <td>-0.115834</td>\n",
       "      <td>-0.111870</td>\n",
       "      <td>-0.051120</td>\n",
       "      <td>0.060308</td>\n",
       "      <td>0.027238</td>\n",
       "      <td>-0.021537</td>\n",
       "      <td>0.049673</td>\n",
       "      <td>0.010958</td>\n",
       "      <td>0.006600</td>\n",
       "      <td>-0.049942</td>\n",
       "    </tr>\n",
       "  </tbody>\n",
       "</table>\n",
       "</div>"
      ],
      "text/plain": [
       "        Effluent  Sedimentation  New_Development  Habitat_Modification  \\\n",
       "Regime                                                                   \n",
       "1      -0.005596      -0.054691         0.086454             -0.021326   \n",
       "2       0.148438       0.153184         0.140224              0.121555   \n",
       "3       0.002083       0.017642        -0.035868             -0.121515   \n",
       "5      -0.120967       0.051762        -0.007582              0.036459   \n",
       "\n",
       "        Invasive_Algae  Fishing_Comm_Total  Fishing_NonComm_Boat_Total  \\\n",
       "Regime                                                                   \n",
       "1            -0.143122            0.060694                   -0.003075   \n",
       "2             0.218510           -0.066402                    0.027455   \n",
       "3            -0.052315           -0.028202                   -0.038930   \n",
       "5             0.210639           -0.063006                    0.010434   \n",
       "\n",
       "        Fishing_NonComm_Shore_Line  Fishing_NonComm_Shore_Net  \\\n",
       "Regime                                                          \n",
       "1                         0.032372                   0.000199   \n",
       "2                         0.010953                   0.133504   \n",
       "3                         0.017368                  -0.099447   \n",
       "5                        -0.006853                   0.068452   \n",
       "\n",
       "        Fishing_NonComm_Shore_Spear  SST_CLIM_M   SST_STD  CHL_CLIM_M  \\\n",
       "Regime                                                                  \n",
       "1                          0.008120    0.046175  0.061435    0.036860   \n",
       "2                          0.032245    0.133355  0.003977    0.072771   \n",
       "3                         -0.005666    0.029705 -0.006758   -0.074468   \n",
       "5                          0.063937   -0.115834 -0.111870   -0.051120   \n",
       "\n",
       "        CHL_ANOM_F  PAR_CLIM_M   PAR_STD  WAV_CLIM_M  WAV_ANOM_F  Complexity  \\\n",
       "Regime                                                                         \n",
       "1         0.052303   -0.011916 -0.099579    0.055611    0.010793    0.023421   \n",
       "2        -0.129502   -0.000947  0.025913   -0.116695   -0.059991   -0.034342   \n",
       "3        -0.075343   -0.037954  0.084084   -0.035024    0.022255    0.031080   \n",
       "5         0.060308    0.027238 -0.021537    0.049673    0.010958    0.006600   \n",
       "\n",
       "           Depth  \n",
       "Regime            \n",
       "1       0.055105  \n",
       "2      -0.209175  \n",
       "3       0.196248  \n",
       "5      -0.049942  "
      ]
     },
     "execution_count": 10,
     "metadata": {},
     "output_type": "execute_result"
    }
   ],
   "source": [
    "train_X_df = pd.DataFrame(train_X, columns=pred_names)\n",
    "train_X_df = train_X_df.join(train_y)\n",
    "train_means = train_X_df.groupby('Regime').mean()\n",
    "train_means"
   ]
  },
  {
   "cell_type": "code",
   "execution_count": 11,
   "metadata": {},
   "outputs": [],
   "source": [
    "l2_diffs = pd.DataFrame(index=[1, 2, 3, 5],columns=[1, 2, 3, 5])\n",
    "for i in range(4):\n",
    "    for j in range(4):\n",
    "        l2_diffs.iloc[i,j] = np.sum(np.square(train_means.iloc[i,:] - train_means.iloc[j,:]))"
   ]
  },
  {
   "cell_type": "code",
   "execution_count": 12,
   "metadata": {},
   "outputs": [
    {
     "data": {
      "text/html": [
       "<div>\n",
       "<style scoped>\n",
       "    .dataframe tbody tr th:only-of-type {\n",
       "        vertical-align: middle;\n",
       "    }\n",
       "\n",
       "    .dataframe tbody tr th {\n",
       "        vertical-align: top;\n",
       "    }\n",
       "\n",
       "    .dataframe thead th {\n",
       "        text-align: right;\n",
       "    }\n",
       "</style>\n",
       "<table border=\"1\" class=\"dataframe\">\n",
       "  <thead>\n",
       "    <tr style=\"text-align: right;\">\n",
       "      <th></th>\n",
       "      <th>1</th>\n",
       "      <th>2</th>\n",
       "      <th>3</th>\n",
       "      <th>5</th>\n",
       "    </tr>\n",
       "  </thead>\n",
       "  <tbody>\n",
       "    <tr>\n",
       "      <th>1</th>\n",
       "      <td>0</td>\n",
       "      <td>0.425912</td>\n",
       "      <td>0.154415</td>\n",
       "      <td>0.269831</td>\n",
       "    </tr>\n",
       "    <tr>\n",
       "      <th>2</th>\n",
       "      <td>0.425912</td>\n",
       "      <td>0</td>\n",
       "      <td>0.487147</td>\n",
       "      <td>0.307551</td>\n",
       "    </tr>\n",
       "    <tr>\n",
       "      <th>3</th>\n",
       "      <td>0.154415</td>\n",
       "      <td>0.487147</td>\n",
       "      <td>0</td>\n",
       "      <td>0.283568</td>\n",
       "    </tr>\n",
       "    <tr>\n",
       "      <th>5</th>\n",
       "      <td>0.269831</td>\n",
       "      <td>0.307551</td>\n",
       "      <td>0.283568</td>\n",
       "      <td>0</td>\n",
       "    </tr>\n",
       "  </tbody>\n",
       "</table>\n",
       "</div>"
      ],
      "text/plain": [
       "          1         2         3         5\n",
       "1         0  0.425912  0.154415  0.269831\n",
       "2  0.425912         0  0.487147  0.307551\n",
       "3  0.154415  0.487147         0  0.283568\n",
       "5  0.269831  0.307551  0.283568         0"
      ]
     },
     "execution_count": 12,
     "metadata": {},
     "output_type": "execute_result"
    }
   ],
   "source": [
    "l2_diffs"
   ]
  },
  {
   "cell_type": "code",
   "execution_count": null,
   "metadata": {},
   "outputs": [],
   "source": []
  }
 ],
 "metadata": {
  "kernelspec": {
   "display_name": "Python [default]",
   "language": "python",
   "name": "python3"
  },
  "language_info": {
   "codemirror_mode": {
    "name": "ipython",
    "version": 3
   },
   "file_extension": ".py",
   "mimetype": "text/x-python",
   "name": "python",
   "nbconvert_exporter": "python",
   "pygments_lexer": "ipython3",
   "version": "3.6.7"
  }
 },
 "nbformat": 4,
 "nbformat_minor": 2
}
