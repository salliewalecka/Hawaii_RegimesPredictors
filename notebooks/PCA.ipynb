{
 "cells": [
  {
   "cell_type": "markdown",
   "metadata": {},
   "source": [
    "# Principal Component Analysis\n",
    "\n",
    "Hypothesis: Regimes 3 and 5 are the most similar. Will this show up in a PCA plot?"
   ]
  },
  {
   "cell_type": "code",
   "execution_count": 1,
   "metadata": {},
   "outputs": [],
   "source": [
    "import numpy as np\n",
    "import pandas as pd\n",
    "import matplotlib.pyplot as plt\n",
    "import seaborn as sns\n",
    "import random\n",
    "from sklearn.model_selection import train_test_split\n",
    "import matplotlib.colors as colors\n",
    "import matplotlib.cm as cmx\n",
    "from statsmodels.stats.outliers_influence import variance_inflation_factor\n",
    "from statsmodels.tools.tools import add_constant\n",
    "import sklearn\n",
    "from sklearn import metrics\n",
    "from sklearn.preprocessing import StandardScaler\n",
    "from sklearn.svm import SVC \n",
    "from sklearn.ensemble.partial_dependence import partial_dependence, plot_partial_dependence\n",
    "\n",
    "from Notebook_helpers import load_data\n",
    "from Notebook_helpers.modeling_helpers import *\n",
    "\n",
    "%matplotlib inline"
   ]
  },
  {
   "cell_type": "markdown",
   "metadata": {},
   "source": [
    "# Load Data"
   ]
  },
  {
   "cell_type": "code",
   "execution_count": 2,
   "metadata": {},
   "outputs": [
    {
     "name": "stdout",
     "output_type": "stream",
     "text": [
      "(496, 46)\n"
     ]
    }
   ],
   "source": [
    "# df, train, val, test = load_data.load_coral_data(complete=True, CV=False, convert_to_categorical=True)\n",
    "df, train, test = load_data.load_coral_data(complete=True, CV=True, convert_to_categorical=True)\n",
    "print(train.shape)\n",
    "# print(val.shape)"
   ]
  },
  {
   "cell_type": "markdown",
   "metadata": {},
   "source": [
    "# Data Prep"
   ]
  },
  {
   "cell_type": "code",
   "execution_count": 5,
   "metadata": {},
   "outputs": [
    {
     "data": {
      "text/plain": [
       "Index(['Effluent', 'Sedimentation', 'New_Development', 'Habitat_Modification',\n",
       "       'Invasive_Algae', 'Fishing_Comm_Total', 'Fishing_NonComm_Boat_Total',\n",
       "       'Fishing_NonComm_Shore_Line', 'Fishing_NonComm_Shore_Net',\n",
       "       'Fishing_NonComm_Shore_Spear', 'SST_CLIM_M', 'SST_STD', 'CHL_CLIM_M',\n",
       "       'CHL_ANOM_F', 'PAR_CLIM_M', 'PAR_STD', 'WAV_CLIM_M', 'WAV_ANOM_F',\n",
       "       'Complexity', 'Depth'],\n",
       "      dtype='object')"
      ]
     },
     "execution_count": 5,
     "metadata": {},
     "output_type": "execute_result"
    }
   ],
   "source": [
    "# isolate the predictors and labels for both the training and test set\n",
    "train_X = train.iloc[:, 14:34]\n",
    "train_X_orig = train_X.copy()\n",
    "train_y = train['Regime']\n",
    "train_X_orig = train_X_orig.join(train_y)\n",
    "\n",
    "pred_names = train.iloc[:, 14:34].columns\n",
    "pred_names"
   ]
  },
  {
   "cell_type": "code",
   "execution_count": 4,
   "metadata": {},
   "outputs": [
    {
     "data": {
      "text/plain": [
       "Index(['Unnamed: 0', 'Unnamed: 0.1', 'id_spatial', 'Long', 'Lat', 'Island',\n",
       "       'Coral', 'CCA', 'Turf', 'Macro', 'Other', 'Grazers', 'Scrapers',\n",
       "       'Browsers', 'Predators', 'Secondary', 'Effluent', 'Sedimentation',\n",
       "       'New_Development', 'Habitat_Modification', 'Invasive_Algae',\n",
       "       'Fishing_Comm_Total', 'Fishing_NonComm_Boat_Total',\n",
       "       'Fishing_NonComm_Shore_Line', 'Fishing_NonComm_Shore_Net',\n",
       "       'Fishing_NonComm_Shore_Spear', 'SST_CLIM_M', 'SST_STD', 'CHL_CLIM_M',\n",
       "       'CHL_ANOM_F', 'PAR_CLIM_M', 'PAR_STD', 'WAV_CLIM_M', 'WAV_ANOM_F',\n",
       "       'Complexity', 'Depth', 'Regime', 'Regime1', 'Regime2', 'Regime3',\n",
       "       'Regime5', 'sqrt_power_x_compexity', 'log_power_over_depth',\n",
       "       'complexity_over_depth', 'Irradiance_x_inv_algae', 'both_anomolies'],\n",
       "      dtype='object')"
      ]
     },
     "execution_count": 4,
     "metadata": {},
     "output_type": "execute_result"
    }
   ],
   "source": [
    "train.columns"
   ]
  },
  {
   "cell_type": "code",
   "execution_count": 5,
   "metadata": {},
   "outputs": [
    {
     "name": "stderr",
     "output_type": "stream",
     "text": [
      "/anaconda3/lib/python3.6/site-packages/sklearn/utils/validation.py:595: DataConversionWarning: Data with input dtype object was converted to float64 by StandardScaler.\n",
      "  warnings.warn(msg, DataConversionWarning)\n",
      "/anaconda3/lib/python3.6/site-packages/sklearn/utils/validation.py:595: DataConversionWarning: Data with input dtype object was converted to float64 by StandardScaler.\n",
      "  warnings.warn(msg, DataConversionWarning)\n"
     ]
    }
   ],
   "source": [
    "scaler = StandardScaler()\n",
    "\n",
    "# Fit on training set only.\n",
    "scaler.fit(train_X.values)\n",
    "\n",
    "# Apply transform to both the training set and the test set.\n",
    "train_X = scaler.transform(train_X.values)\n",
    "# val_X = scaler.transform(val_X.values)"
   ]
  },
  {
   "cell_type": "markdown",
   "metadata": {},
   "source": [
    "# PCA"
   ]
  },
  {
   "cell_type": "code",
   "execution_count": 6,
   "metadata": {},
   "outputs": [],
   "source": [
    "from sklearn.decomposition import PCA\n",
    "pca = PCA(n_components=2)\n",
    "principalComponents = pca.fit_transform(train_X)\n",
    "principalDf = pd.DataFrame(data = principalComponents\n",
    "             , columns = ['principal component 1', 'principal component 2'])"
   ]
  },
  {
   "cell_type": "code",
   "execution_count": 53,
   "metadata": {},
   "outputs": [
    {
     "name": "stdout",
     "output_type": "stream",
     "text": [
      "[3.85315549 2.56411597]\n",
      "[0.19226935 0.12794732]\n",
      "[0.19226935 0.32021667]\n"
     ]
    }
   ],
   "source": [
    "print(pca.explained_variance_)\n",
    "print(pca.explained_variance_ratio_)\n",
    "print(pca.explained_variance_ratio_.cumsum())"
   ]
  },
  {
   "cell_type": "code",
   "execution_count": 24,
   "metadata": {},
   "outputs": [
    {
     "data": {
      "text/html": [
       "<div>\n",
       "<style scoped>\n",
       "    .dataframe tbody tr th:only-of-type {\n",
       "        vertical-align: middle;\n",
       "    }\n",
       "\n",
       "    .dataframe tbody tr th {\n",
       "        vertical-align: top;\n",
       "    }\n",
       "\n",
       "    .dataframe thead th {\n",
       "        text-align: right;\n",
       "    }\n",
       "</style>\n",
       "<table border=\"1\" class=\"dataframe\">\n",
       "  <thead>\n",
       "    <tr style=\"text-align: right;\">\n",
       "      <th></th>\n",
       "      <th>principal component 1</th>\n",
       "      <th>principal component 2</th>\n",
       "      <th>Regime</th>\n",
       "    </tr>\n",
       "  </thead>\n",
       "  <tbody>\n",
       "    <tr>\n",
       "      <th>0</th>\n",
       "      <td>-2.091218</td>\n",
       "      <td>-0.012480</td>\n",
       "      <td>3</td>\n",
       "    </tr>\n",
       "    <tr>\n",
       "      <th>0</th>\n",
       "      <td>-2.091218</td>\n",
       "      <td>-0.012480</td>\n",
       "      <td>2</td>\n",
       "    </tr>\n",
       "    <tr>\n",
       "      <th>1</th>\n",
       "      <td>-2.321550</td>\n",
       "      <td>-0.663405</td>\n",
       "      <td>5</td>\n",
       "    </tr>\n",
       "    <tr>\n",
       "      <th>1</th>\n",
       "      <td>-2.321550</td>\n",
       "      <td>-0.663405</td>\n",
       "      <td>2</td>\n",
       "    </tr>\n",
       "    <tr>\n",
       "      <th>2</th>\n",
       "      <td>-1.503644</td>\n",
       "      <td>-0.699634</td>\n",
       "      <td>5</td>\n",
       "    </tr>\n",
       "  </tbody>\n",
       "</table>\n",
       "</div>"
      ],
      "text/plain": [
       "   principal component 1  principal component 2 Regime\n",
       "0              -2.091218              -0.012480      3\n",
       "0              -2.091218              -0.012480      2\n",
       "1              -2.321550              -0.663405      5\n",
       "1              -2.321550              -0.663405      2\n",
       "2              -1.503644              -0.699634      5"
      ]
     },
     "execution_count": 24,
     "metadata": {},
     "output_type": "execute_result"
    }
   ],
   "source": [
    "finalDf = principalDf.join(train[['Regime']])\n",
    "finalDf.head()"
   ]
  },
  {
   "cell_type": "markdown",
   "metadata": {},
   "source": [
    "# Plot 2d PCA"
   ]
  },
  {
   "cell_type": "code",
   "execution_count": 54,
   "metadata": {},
   "outputs": [],
   "source": [
    "pca_means = finalDf.groupby('Regime').mean()"
   ]
  },
  {
   "cell_type": "code",
   "execution_count": 55,
   "metadata": {},
   "outputs": [
    {
     "data": {
      "text/html": [
       "<div>\n",
       "<style scoped>\n",
       "    .dataframe tbody tr th:only-of-type {\n",
       "        vertical-align: middle;\n",
       "    }\n",
       "\n",
       "    .dataframe tbody tr th {\n",
       "        vertical-align: top;\n",
       "    }\n",
       "\n",
       "    .dataframe thead th {\n",
       "        text-align: right;\n",
       "    }\n",
       "</style>\n",
       "<table border=\"1\" class=\"dataframe\">\n",
       "  <thead>\n",
       "    <tr style=\"text-align: right;\">\n",
       "      <th></th>\n",
       "      <th>principal component 1</th>\n",
       "      <th>principal component 2</th>\n",
       "    </tr>\n",
       "    <tr>\n",
       "      <th>Regime</th>\n",
       "      <th></th>\n",
       "      <th></th>\n",
       "    </tr>\n",
       "  </thead>\n",
       "  <tbody>\n",
       "    <tr>\n",
       "      <th>1</th>\n",
       "      <td>0.047616</td>\n",
       "      <td>-0.021391</td>\n",
       "    </tr>\n",
       "    <tr>\n",
       "      <th>2</th>\n",
       "      <td>0.154179</td>\n",
       "      <td>-0.246142</td>\n",
       "    </tr>\n",
       "    <tr>\n",
       "      <th>3</th>\n",
       "      <td>-0.028417</td>\n",
       "      <td>0.153574</td>\n",
       "    </tr>\n",
       "    <tr>\n",
       "      <th>5</th>\n",
       "      <td>0.040044</td>\n",
       "      <td>-0.054844</td>\n",
       "    </tr>\n",
       "  </tbody>\n",
       "</table>\n",
       "</div>"
      ],
      "text/plain": [
       "        principal component 1  principal component 2\n",
       "Regime                                              \n",
       "1                    0.047616              -0.021391\n",
       "2                    0.154179              -0.246142\n",
       "3                   -0.028417               0.153574\n",
       "5                    0.040044              -0.054844"
      ]
     },
     "execution_count": 55,
     "metadata": {},
     "output_type": "execute_result"
    }
   ],
   "source": [
    "pca_means"
   ]
  },
  {
   "cell_type": "code",
   "execution_count": 63,
   "metadata": {},
   "outputs": [
    {
     "data": {
      "image/png": "[encoded data removed]",
      "text/plain": [
       "<Figure size 576x576 with 1 Axes>"
      ]
     },
     "metadata": {
      "needs_background": "light"
     },
     "output_type": "display_data"
    }
   ],
   "source": [
    "fig = plt.figure(figsize = (8,8))\n",
    "ax = fig.add_subplot(1,1,1) \n",
    "ax.set_xlabel('Principal Component 1', fontsize = 15)\n",
    "ax.set_ylabel('Principal Component 2', fontsize = 15)\n",
    "ax.set_title('2 component PCA', fontsize = 20)\n",
    "targets = [1, 2, 3, 5]\n",
    "colors = ['r', 'g', 'b', 'y']\n",
    "for target, color in zip(targets,colors):\n",
    "    indicesToKeep = finalDf['Regime'] == target\n",
    "    ax.scatter(finalDf.loc[indicesToKeep, 'principal component 1']\n",
    "               , finalDf.loc[indicesToKeep, 'principal component 2']\n",
    "               , c = color\n",
    "               , s = 50)\n",
    "# addPoint(ax, means.iloc[0,:], 'pink')\n",
    "ax.scatter(pca_means.loc[0, 'principal component 1'], pca_means.loc[0, 'principal component 2'], c='r', s=500, marker='s')\n",
    "ax.scatter(pca_means.loc[1, 'principal component 1'], pca_means.loc[1, 'principal component 2'], c='g', s=500, marker='s')\n",
    "ax.scatter(pca_means.loc[2, 'principal component 1'], pca_means.loc[2, 'principal component 2'], c='b', s=500, marker='s')\n",
    "ax.scatter(pca_means.loc[3, 'principal component 1'], pca_means.loc[3, 'principal component 2'], c='y', s=500, marker='s')\n",
    "# markers = {'.': 'point', ',': 'pixel', 'o': 'circle', 'v': 'triangle_down', '^'\n",
    "ax.legend(targets)\n",
    "ax.grid()"
   ]
  },
  {
   "cell_type": "code",
   "execution_count": null,
   "metadata": {},
   "outputs": [],
   "source": []
  },
  {
   "cell_type": "code",
   "execution_count": 6,
   "metadata": {},
   "outputs": [],
   "source": [
    "train_means = train_X_orig.groupby('Regime').mean()"
   ]
  },
  {
   "cell_type": "code",
   "execution_count": 7,
   "metadata": {},
   "outputs": [
    {
     "data": {
      "text/html": [
       "<div>\n",
       "<style scoped>\n",
       "    .dataframe tbody tr th:only-of-type {\n",
       "        vertical-align: middle;\n",
       "    }\n",
       "\n",
       "    .dataframe tbody tr th {\n",
       "        vertical-align: top;\n",
       "    }\n",
       "\n",
       "    .dataframe thead th {\n",
       "        text-align: right;\n",
       "    }\n",
       "</style>\n",
       "<table border=\"1\" class=\"dataframe\">\n",
       "  <thead>\n",
       "    <tr style=\"text-align: right;\">\n",
       "      <th></th>\n",
       "      <th>Predators</th>\n",
       "      <th>Secondary</th>\n",
       "      <th>Effluent</th>\n",
       "      <th>Sedimentation</th>\n",
       "      <th>New_Development</th>\n",
       "      <th>Fishing_Comm_Total</th>\n",
       "      <th>Fishing_NonComm_Boat_Total</th>\n",
       "      <th>Fishing_NonComm_Shore_Line</th>\n",
       "      <th>Fishing_NonComm_Shore_Net</th>\n",
       "      <th>Fishing_NonComm_Shore_Spear</th>\n",
       "      <th>SST_CLIM_M</th>\n",
       "      <th>SST_STD</th>\n",
       "      <th>CHL_CLIM_M</th>\n",
       "      <th>CHL_ANOM_F</th>\n",
       "      <th>PAR_CLIM_M</th>\n",
       "      <th>PAR_STD</th>\n",
       "      <th>WAV_CLIM_M</th>\n",
       "      <th>WAV_ANOM_F</th>\n",
       "    </tr>\n",
       "    <tr>\n",
       "      <th>Regime</th>\n",
       "      <th></th>\n",
       "      <th></th>\n",
       "      <th></th>\n",
       "      <th></th>\n",
       "      <th></th>\n",
       "      <th></th>\n",
       "      <th></th>\n",
       "      <th></th>\n",
       "      <th></th>\n",
       "      <th></th>\n",
       "      <th></th>\n",
       "      <th></th>\n",
       "      <th></th>\n",
       "      <th></th>\n",
       "      <th></th>\n",
       "      <th></th>\n",
       "      <th></th>\n",
       "      <th></th>\n",
       "    </tr>\n",
       "  </thead>\n",
       "  <tbody>\n",
       "    <tr>\n",
       "      <th>1</th>\n",
       "      <td>1.073063</td>\n",
       "      <td>10.250079</td>\n",
       "      <td>4571.513220</td>\n",
       "      <td>6.194974</td>\n",
       "      <td>0.027846</td>\n",
       "      <td>0.423829</td>\n",
       "      <td>0.982106</td>\n",
       "      <td>4.163765</td>\n",
       "      <td>1.218208</td>\n",
       "      <td>1.874441</td>\n",
       "      <td>27.183159</td>\n",
       "      <td>0.936618</td>\n",
       "      <td>0.109506</td>\n",
       "      <td>0.092798</td>\n",
       "      <td>53.309453</td>\n",
       "      <td>9.148494</td>\n",
       "      <td>18.622387</td>\n",
       "      <td>0.137781</td>\n",
       "    </tr>\n",
       "    <tr>\n",
       "      <th>2</th>\n",
       "      <td>10.771000</td>\n",
       "      <td>26.424179</td>\n",
       "      <td>3364.294419</td>\n",
       "      <td>7.736872</td>\n",
       "      <td>0.016384</td>\n",
       "      <td>0.152193</td>\n",
       "      <td>0.319576</td>\n",
       "      <td>3.790581</td>\n",
       "      <td>0.658160</td>\n",
       "      <td>1.196998</td>\n",
       "      <td>26.961949</td>\n",
       "      <td>0.938607</td>\n",
       "      <td>0.108592</td>\n",
       "      <td>0.081055</td>\n",
       "      <td>52.852056</td>\n",
       "      <td>9.270350</td>\n",
       "      <td>34.237986</td>\n",
       "      <td>0.118418</td>\n",
       "    </tr>\n",
       "    <tr>\n",
       "      <th>3</th>\n",
       "      <td>8.899508</td>\n",
       "      <td>21.861006</td>\n",
       "      <td>2836.768528</td>\n",
       "      <td>2.923559</td>\n",
       "      <td>0.023478</td>\n",
       "      <td>0.119273</td>\n",
       "      <td>0.444028</td>\n",
       "      <td>7.717909</td>\n",
       "      <td>1.138243</td>\n",
       "      <td>3.373072</td>\n",
       "      <td>27.368802</td>\n",
       "      <td>0.899596</td>\n",
       "      <td>0.088448</td>\n",
       "      <td>0.101964</td>\n",
       "      <td>51.795587</td>\n",
       "      <td>8.782166</td>\n",
       "      <td>13.435914</td>\n",
       "      <td>0.106954</td>\n",
       "    </tr>\n",
       "    <tr>\n",
       "      <th>5</th>\n",
       "      <td>5.144826</td>\n",
       "      <td>18.638416</td>\n",
       "      <td>2788.003174</td>\n",
       "      <td>9.469696</td>\n",
       "      <td>0.034567</td>\n",
       "      <td>0.153219</td>\n",
       "      <td>0.366118</td>\n",
       "      <td>9.256014</td>\n",
       "      <td>0.771389</td>\n",
       "      <td>3.293841</td>\n",
       "      <td>27.342925</td>\n",
       "      <td>0.895309</td>\n",
       "      <td>0.093447</td>\n",
       "      <td>0.092671</td>\n",
       "      <td>51.424116</td>\n",
       "      <td>8.592809</td>\n",
       "      <td>13.888860</td>\n",
       "      <td>0.102561</td>\n",
       "    </tr>\n",
       "  </tbody>\n",
       "</table>\n",
       "</div>"
      ],
      "text/plain": [
       "        Predators  Secondary     Effluent  Sedimentation  New_Development  \\\n",
       "Regime                                                                      \n",
       "1        1.073063  10.250079  4571.513220       6.194974         0.027846   \n",
       "2       10.771000  26.424179  3364.294419       7.736872         0.016384   \n",
       "3        8.899508  21.861006  2836.768528       2.923559         0.023478   \n",
       "5        5.144826  18.638416  2788.003174       9.469696         0.034567   \n",
       "\n",
       "        Fishing_Comm_Total  Fishing_NonComm_Boat_Total  \\\n",
       "Regime                                                   \n",
       "1                 0.423829                    0.982106   \n",
       "2                 0.152193                    0.319576   \n",
       "3                 0.119273                    0.444028   \n",
       "5                 0.153219                    0.366118   \n",
       "\n",
       "        Fishing_NonComm_Shore_Line  Fishing_NonComm_Shore_Net  \\\n",
       "Regime                                                          \n",
       "1                         4.163765                   1.218208   \n",
       "2                         3.790581                   0.658160   \n",
       "3                         7.717909                   1.138243   \n",
       "5                         9.256014                   0.771389   \n",
       "\n",
       "        Fishing_NonComm_Shore_Spear  SST_CLIM_M   SST_STD  CHL_CLIM_M  \\\n",
       "Regime                                                                  \n",
       "1                          1.874441   27.183159  0.936618    0.109506   \n",
       "2                          1.196998   26.961949  0.938607    0.108592   \n",
       "3                          3.373072   27.368802  0.899596    0.088448   \n",
       "5                          3.293841   27.342925  0.895309    0.093447   \n",
       "\n",
       "        CHL_ANOM_F  PAR_CLIM_M   PAR_STD  WAV_CLIM_M  WAV_ANOM_F  \n",
       "Regime                                                            \n",
       "1         0.092798   53.309453  9.148494   18.622387    0.137781  \n",
       "2         0.081055   52.852056  9.270350   34.237986    0.118418  \n",
       "3         0.101964   51.795587  8.782166   13.435914    0.106954  \n",
       "5         0.092671   51.424116  8.592809   13.888860    0.102561  "
      ]
     },
     "execution_count": 7,
     "metadata": {},
     "output_type": "execute_result"
    }
   ],
   "source": [
    "train_means"
   ]
  },
  {
   "cell_type": "code",
   "execution_count": null,
   "metadata": {},
   "outputs": [],
   "source": []
  }
 ],
 "metadata": {
  "kernelspec": {
   "display_name": "Python [default]",
   "language": "python",
   "name": "python3"
  },
  "language_info": {
   "codemirror_mode": {
    "name": "ipython",
    "version": 3
   },
   "file_extension": ".py",
   "mimetype": "text/x-python",
   "name": "python",
   "nbconvert_exporter": "python",
   "pygments_lexer": "ipython3",
   "version": "3.6.7"
  }
 },
 "nbformat": 4,
 "nbformat_minor": 2
}
