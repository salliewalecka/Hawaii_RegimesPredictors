{
 "cells": [
  {
   "cell_type": "code",
   "execution_count": 1,
   "metadata": {},
   "outputs": [],
   "source": [
    "import numpy as np\n",
    "import pandas as pd\n",
    "from sklearn.model_selection import train_test_split"
   ]
  },
  {
   "cell_type": "markdown",
   "metadata": {},
   "source": [
    "## Read in the data"
   ]
  },
  {
   "cell_type": "code",
   "execution_count": 2,
   "metadata": {},
   "outputs": [],
   "source": [
    "# read in the data (version with complexity imputed)\n",
    "df = pd.read_csv(\"../Data/Hawaii_RegimesPredictors_complete.txt\", sep=\"\\t\", decimal=\",\")"
   ]
  },
  {
   "cell_type": "markdown",
   "metadata": {},
   "source": [
    "## Split into train and test"
   ]
  },
  {
   "cell_type": "code",
   "execution_count": 7,
   "metadata": {},
   "outputs": [],
   "source": [
    "#Comment out data prep if running VIF\n",
    "def data_prep(df):\n",
    "    df = df.astype({\"id_spatial\": \"category\", \"Island\": \"category\", \"Habitat_Modification\": \"category\", \n",
    "               \"Invasive_Algae\": \"category\", \"Regime\": \"category\", \"Regime1\": \"category\", \n",
    "               \"Regime2\": \"category\", \"Regime3\": \"category\", \"Regime5\": \"category\"})\n",
    "    return df"
   ]
  },
  {
   "cell_type": "code",
   "execution_count": 8,
   "metadata": {},
   "outputs": [],
   "source": [
    "df = data_prep(df)"
   ]
  },
  {
   "cell_type": "code",
   "execution_count": 13,
   "metadata": {},
   "outputs": [],
   "source": [
    "train, test = train_test_split(df, test_size=0.2, random_state = 47)"
   ]
  },
  {
   "cell_type": "code",
   "execution_count": 28,
   "metadata": {},
   "outputs": [
    {
     "name": "stdout",
     "output_type": "stream",
     "text": [
      "original shape:  (620, 39)\n",
      "Train shape:     (496, 39)\n",
      "Test shape:      (124, 39)\n"
     ]
    }
   ],
   "source": [
    "print(\"original shape: \", df.shape)\n",
    "print(\"Train shape:    \", train.shape)\n",
    "print(\"Test shape:     \", test.shape)"
   ]
  },
  {
   "cell_type": "markdown",
   "metadata": {},
   "source": [
    "## Write datasets to file"
   ]
  },
  {
   "cell_type": "code",
   "execution_count": 19,
   "metadata": {},
   "outputs": [],
   "source": [
    "train.to_csv('../Data/Modeling/Predictors_complete_train.txt', sep='\\t', decimal=\",\")\n",
    "test.to_csv('../Data/Modeling/Predictors_complete_test.txt', sep='\\t', decimal=\",\")"
   ]
  },
  {
   "cell_type": "markdown",
   "metadata": {},
   "source": [
    "## Read in the data"
   ]
  },
  {
   "cell_type": "code",
   "execution_count": 20,
   "metadata": {},
   "outputs": [],
   "source": [
    "# read in the data (version with NAs still in Complexity and Depth)\n",
    "df = pd.read_csv(\"../Data/Hawaii_RegimesPredictors.txt\", sep=\"\\t\", decimal=\",\")"
   ]
  },
  {
   "cell_type": "markdown",
   "metadata": {},
   "source": [
    "## Split into train and test"
   ]
  },
  {
   "cell_type": "code",
   "execution_count": 21,
   "metadata": {},
   "outputs": [],
   "source": [
    "#Comment out data prep if running VIF\n",
    "def data_prep(df):\n",
    "    df = df.astype({\"id_spatial\": \"category\", \"Island\": \"category\", \"Habitat_Modification\": \"category\", \n",
    "               \"Invasive_Algae\": \"category\", \"Regime\": \"category\", \"Regime1\": \"category\", \n",
    "               \"Regime2\": \"category\", \"Regime3\": \"category\", \"Regime5\": \"category\"})\n",
    "    return df"
   ]
  },
  {
   "cell_type": "code",
   "execution_count": 22,
   "metadata": {},
   "outputs": [],
   "source": [
    "df = data_prep(df)"
   ]
  },
  {
   "cell_type": "code",
   "execution_count": 23,
   "metadata": {},
   "outputs": [],
   "source": [
    "train, test = train_test_split(df, test_size=0.2, random_state = 47)"
   ]
  },
  {
   "cell_type": "code",
   "execution_count": 27,
   "metadata": {},
   "outputs": [
    {
     "name": "stdout",
     "output_type": "stream",
     "text": [
      "original shape:  (620, 39)\n",
      "Train shape:     (496, 39)\n",
      "Test shape:      (124, 39)\n"
     ]
    }
   ],
   "source": [
    "print(\"original shape: \", df.shape)\n",
    "print(\"Train shape:    \", train.shape)\n",
    "print(\"Test shape:     \", test.shape)"
   ]
  },
  {
   "cell_type": "markdown",
   "metadata": {},
   "source": [
    "## Write datasets to file"
   ]
  },
  {
   "cell_type": "code",
   "execution_count": 29,
   "metadata": {},
   "outputs": [],
   "source": [
    "train.to_csv('../Data/Modeling/Predictors_raw_train.txt', sep='\\t', decimal=\",\")\n",
    "test.to_csv('../Data/Modeling/Predictors_raw_test.txt', sep='\\t', decimal=\",\")"
   ]
  },
  {
   "cell_type": "code",
   "execution_count": null,
   "metadata": {},
   "outputs": [],
   "source": []
  }
 ],
 "metadata": {
  "kernelspec": {
   "display_name": "Python [default]",
   "language": "python",
   "name": "python3"
  },
  "language_info": {
   "codemirror_mode": {
    "name": "ipython",
    "version": 3
   },
   "file_extension": ".py",
   "mimetype": "text/x-python",
   "name": "python",
   "nbconvert_exporter": "python",
   "pygments_lexer": "ipython3",
   "version": "3.6.7"
  }
 },
 "nbformat": 4,
 "nbformat_minor": 2
}
