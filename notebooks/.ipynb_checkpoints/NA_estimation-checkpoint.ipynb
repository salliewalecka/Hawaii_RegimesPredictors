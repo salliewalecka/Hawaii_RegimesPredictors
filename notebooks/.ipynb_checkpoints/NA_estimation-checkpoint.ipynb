{
 "cells": [
  {
   "cell_type": "markdown",
   "metadata": {},
   "source": [
    "# Estimating the NAs in the dataset\n",
    "\n",
    "Our coral dataset has 620 rows and 39 columns. We found 113 missing values in one of our predictor variables, and due to the small dataset size, we work to predict those values here. \n",
    "\n",
    "We use two methods to estimate - lasso regression and k-means clustering - and compare both to using the mean. "
   ]
  },
  {
   "cell_type": "code",
   "execution_count": 1,
   "metadata": {},
   "outputs": [],
   "source": [
    "import numpy as np\n",
    "import pandas as pd\n",
    "import matplotlib.pyplot as plt\n",
    "import seaborn as sns\n",
    "import random\n",
    "from sklearn.model_selection import train_test_split\n",
    "import matplotlib.colors as colors\n",
    "import matplotlib.cm as cmx"
   ]
  },
  {
   "cell_type": "markdown",
   "metadata": {},
   "source": [
    "### Read in the data"
   ]
  },
  {
   "cell_type": "code",
   "execution_count": 2,
   "metadata": {},
   "outputs": [],
   "source": [
    "# read in the data\n",
    "df = pd.read_csv(\"../Data/Hawaii_RegimesPredictors.txt\", sep=\"\\t\", decimal=\",\")"
   ]
  },
  {
   "cell_type": "code",
   "execution_count": 3,
   "metadata": {},
   "outputs": [
    {
     "name": "stdout",
     "output_type": "stream",
     "text": [
      "(620, 39)\n"
     ]
    },
    {
     "data": {
      "text/html": [
       "<div>\n",
       "<style scoped>\n",
       "    .dataframe tbody tr th:only-of-type {\n",
       "        vertical-align: middle;\n",
       "    }\n",
       "\n",
       "    .dataframe tbody tr th {\n",
       "        vertical-align: top;\n",
       "    }\n",
       "\n",
       "    .dataframe thead th {\n",
       "        text-align: right;\n",
       "    }\n",
       "</style>\n",
       "<table border=\"1\" class=\"dataframe\">\n",
       "  <thead>\n",
       "    <tr style=\"text-align: right;\">\n",
       "      <th></th>\n",
       "      <th>id_spatial</th>\n",
       "      <th>Long</th>\n",
       "      <th>Lat</th>\n",
       "      <th>Island</th>\n",
       "      <th>Coral</th>\n",
       "      <th>CCA</th>\n",
       "      <th>Turf</th>\n",
       "      <th>Macro</th>\n",
       "      <th>Other</th>\n",
       "      <th>Grazers</th>\n",
       "      <th>...</th>\n",
       "      <th>PAR_STD</th>\n",
       "      <th>WAV_CLIM_M</th>\n",
       "      <th>WAV_ANOM_F</th>\n",
       "      <th>Complexity</th>\n",
       "      <th>Depth</th>\n",
       "      <th>Regime</th>\n",
       "      <th>Regime1</th>\n",
       "      <th>Regime2</th>\n",
       "      <th>Regime3</th>\n",
       "      <th>Regime5</th>\n",
       "    </tr>\n",
       "  </thead>\n",
       "  <tbody>\n",
       "    <tr>\n",
       "      <th>0</th>\n",
       "      <td>4</td>\n",
       "      <td>-157.307727</td>\n",
       "      <td>21.106717</td>\n",
       "      <td>Molokai</td>\n",
       "      <td>1.023891</td>\n",
       "      <td>1.706485</td>\n",
       "      <td>77.815700</td>\n",
       "      <td>18.088737</td>\n",
       "      <td>1.023891</td>\n",
       "      <td>1.324986</td>\n",
       "      <td>...</td>\n",
       "      <td>8.5628</td>\n",
       "      <td>36.542160</td>\n",
       "      <td>0.083878</td>\n",
       "      <td>4.889608</td>\n",
       "      <td>2.8000</td>\n",
       "      <td>1</td>\n",
       "      <td>1</td>\n",
       "      <td>0</td>\n",
       "      <td>0</td>\n",
       "      <td>0</td>\n",
       "    </tr>\n",
       "    <tr>\n",
       "      <th>1</th>\n",
       "      <td>5</td>\n",
       "      <td>-157.304986</td>\n",
       "      <td>21.113497</td>\n",
       "      <td>Molokai</td>\n",
       "      <td>3.555556</td>\n",
       "      <td>1.333333</td>\n",
       "      <td>83.555556</td>\n",
       "      <td>9.777778</td>\n",
       "      <td>0.888889</td>\n",
       "      <td>0.890407</td>\n",
       "      <td>...</td>\n",
       "      <td>8.5628</td>\n",
       "      <td>36.542160</td>\n",
       "      <td>0.083878</td>\n",
       "      <td>3.793523</td>\n",
       "      <td>7.3152</td>\n",
       "      <td>1</td>\n",
       "      <td>1</td>\n",
       "      <td>0</td>\n",
       "      <td>0</td>\n",
       "      <td>0</td>\n",
       "    </tr>\n",
       "    <tr>\n",
       "      <th>2</th>\n",
       "      <td>6</td>\n",
       "      <td>-157.303306</td>\n",
       "      <td>21.124814</td>\n",
       "      <td>Molokai</td>\n",
       "      <td>17.620555</td>\n",
       "      <td>6.348836</td>\n",
       "      <td>44.875760</td>\n",
       "      <td>25.716525</td>\n",
       "      <td>4.836712</td>\n",
       "      <td>4.628477</td>\n",
       "      <td>...</td>\n",
       "      <td>9.4296</td>\n",
       "      <td>38.007866</td>\n",
       "      <td>0.084089</td>\n",
       "      <td>5.275938</td>\n",
       "      <td>11.5000</td>\n",
       "      <td>2</td>\n",
       "      <td>0</td>\n",
       "      <td>1</td>\n",
       "      <td>0</td>\n",
       "      <td>0</td>\n",
       "    </tr>\n",
       "    <tr>\n",
       "      <th>3</th>\n",
       "      <td>8</td>\n",
       "      <td>-157.299938</td>\n",
       "      <td>21.148297</td>\n",
       "      <td>Molokai</td>\n",
       "      <td>0.675676</td>\n",
       "      <td>1.351351</td>\n",
       "      <td>86.486487</td>\n",
       "      <td>0.337838</td>\n",
       "      <td>5.743243</td>\n",
       "      <td>0.069128</td>\n",
       "      <td>...</td>\n",
       "      <td>9.4296</td>\n",
       "      <td>39.139775</td>\n",
       "      <td>0.087039</td>\n",
       "      <td>2.511288</td>\n",
       "      <td>29.1000</td>\n",
       "      <td>1</td>\n",
       "      <td>1</td>\n",
       "      <td>0</td>\n",
       "      <td>0</td>\n",
       "      <td>0</td>\n",
       "    </tr>\n",
       "    <tr>\n",
       "      <th>4</th>\n",
       "      <td>9</td>\n",
       "      <td>-157.300286</td>\n",
       "      <td>21.128897</td>\n",
       "      <td>Molokai</td>\n",
       "      <td>4.000000</td>\n",
       "      <td>3.111111</td>\n",
       "      <td>53.333333</td>\n",
       "      <td>17.333333</td>\n",
       "      <td>21.777778</td>\n",
       "      <td>11.775000</td>\n",
       "      <td>...</td>\n",
       "      <td>9.4296</td>\n",
       "      <td>40.587803</td>\n",
       "      <td>0.084932</td>\n",
       "      <td>6.865359</td>\n",
       "      <td>10.0584</td>\n",
       "      <td>2</td>\n",
       "      <td>0</td>\n",
       "      <td>1</td>\n",
       "      <td>0</td>\n",
       "      <td>0</td>\n",
       "    </tr>\n",
       "  </tbody>\n",
       "</table>\n",
       "<p>5 rows × 39 columns</p>\n",
       "</div>"
      ],
      "text/plain": [
       "   id_spatial        Long        Lat   Island      Coral       CCA       Turf  \\\n",
       "0           4 -157.307727  21.106717  Molokai   1.023891  1.706485  77.815700   \n",
       "1           5 -157.304986  21.113497  Molokai   3.555556  1.333333  83.555556   \n",
       "2           6 -157.303306  21.124814  Molokai  17.620555  6.348836  44.875760   \n",
       "3           8 -157.299938  21.148297  Molokai   0.675676  1.351351  86.486487   \n",
       "4           9 -157.300286  21.128897  Molokai   4.000000  3.111111  53.333333   \n",
       "\n",
       "       Macro      Other    Grazers   ...     PAR_STD  WAV_CLIM_M  WAV_ANOM_F  \\\n",
       "0  18.088737   1.023891   1.324986   ...      8.5628   36.542160    0.083878   \n",
       "1   9.777778   0.888889   0.890407   ...      8.5628   36.542160    0.083878   \n",
       "2  25.716525   4.836712   4.628477   ...      9.4296   38.007866    0.084089   \n",
       "3   0.337838   5.743243   0.069128   ...      9.4296   39.139775    0.087039   \n",
       "4  17.333333  21.777778  11.775000   ...      9.4296   40.587803    0.084932   \n",
       "\n",
       "   Complexity    Depth  Regime  Regime1  Regime2  Regime3  Regime5  \n",
       "0    4.889608   2.8000       1        1        0        0        0  \n",
       "1    3.793523   7.3152       1        1        0        0        0  \n",
       "2    5.275938  11.5000       2        0        1        0        0  \n",
       "3    2.511288  29.1000       1        1        0        0        0  \n",
       "4    6.865359  10.0584       2        0        1        0        0  \n",
       "\n",
       "[5 rows x 39 columns]"
      ]
     },
     "execution_count": 3,
     "metadata": {},
     "output_type": "execute_result"
    }
   ],
   "source": [
    "print(df.shape)\n",
    "df.head()"
   ]
  },
  {
   "cell_type": "markdown",
   "metadata": {},
   "source": [
    "## Data prep"
   ]
  },
  {
   "cell_type": "code",
   "execution_count": 4,
   "metadata": {},
   "outputs": [],
   "source": [
    "def data_prep(df):\n",
    "    df = df.astype({\"id_spatial\": \"category\", \"Island\": \"category\", \"Habitat_Modification\": \"category\", \n",
    "               \"Invasive_Algae\": \"category\", \"Regime\": \"category\", \"Regime1\": \"category\", \n",
    "               \"Regime2\": \"category\", \"Regime3\": \"category\", \"Regime5\": \"category\"})\n",
    "    return df\n",
    "random.seed(47)\n",
    "df = data_prep(df)"
   ]
  },
  {
   "cell_type": "markdown",
   "metadata": {},
   "source": [
    "# Explore the data set"
   ]
  },
  {
   "cell_type": "code",
   "execution_count": 5,
   "metadata": {
    "scrolled": false
   },
   "outputs": [],
   "source": [
    "# fig = plt.figure(figsize=(15,50))\n",
    "# for i in range(df.shape[1]):\n",
    "#     if type(df.loc[0,df.columns[i]]) == type(df.loc[0,df.columns[1]]):\n",
    "#         ax = fig.add_subplot(18,3,i+1)\n",
    "#         ax.hist(df.loc[:,df.columns[i]])\n",
    "#         plt.title(\"{}\".format(df.columns[i]))\n",
    "#         plt.tight_layout()"
   ]
  },
  {
   "cell_type": "markdown",
   "metadata": {},
   "source": [
    "#### Which columns have NA's?"
   ]
  },
  {
   "cell_type": "code",
   "execution_count": 6,
   "metadata": {
    "scrolled": false
   },
   "outputs": [
    {
     "data": {
      "text/plain": [
       "Complexity    113\n",
       "Depth          12\n",
       "dtype: int64"
      ]
     },
     "execution_count": 6,
     "metadata": {},
     "output_type": "execute_result"
    }
   ],
   "source": [
    "na_cols = df.apply(lambda x : x.isna().sum())\n",
    "na_cols[na_cols>0]"
   ]
  },
  {
   "cell_type": "markdown",
   "metadata": {},
   "source": [
    "### Depth"
   ]
  },
  {
   "cell_type": "code",
   "execution_count": 7,
   "metadata": {},
   "outputs": [
    {
     "data": {
      "image/png": "[encoded data removed]",
      "text/plain": [
       "<Figure size 432x288 with 1 Axes>"
      ]
     },
     "metadata": {
      "needs_background": "light"
     },
     "output_type": "display_data"
    }
   ],
   "source": [
    "plt.hist(df.Depth[df.Depth.notna()])\n",
    "plt.title(\"Histogram of Depth Variable\")\n",
    "plt.xlabel(\"Depth\")\n",
    "plt.grid()"
   ]
  },
  {
   "cell_type": "markdown",
   "metadata": {},
   "source": [
    "We'll just replace the 12 missing values of Depth with the median value of Depth"
   ]
  },
  {
   "cell_type": "code",
   "execution_count": 8,
   "metadata": {},
   "outputs": [
    {
     "data": {
      "text/plain": [
       "Complexity    113\n",
       "dtype: int64"
      ]
     },
     "execution_count": 8,
     "metadata": {},
     "output_type": "execute_result"
    }
   ],
   "source": [
    "df.loc[df.Depth.isna(), 'Depth'] = df.Depth[df.Depth.notna()].median()\n",
    "\n",
    "# Check if the NAs are gone:\n",
    "na_cols = df.apply(lambda x : x.isna().sum())\n",
    "na_cols[na_cols>0]"
   ]
  },
  {
   "cell_type": "markdown",
   "metadata": {},
   "source": [
    "## Estimate the missing complexity values\n",
    "\n",
    "#### Plot distribution of complexity variable"
   ]
  },
  {
   "cell_type": "code",
   "execution_count": 9,
   "metadata": {},
   "outputs": [
    {
     "data": {
      "image/png": "[encoded data removed]",
      "text/plain": [
       "<Figure size 432x288 with 1 Axes>"
      ]
     },
     "metadata": {
      "needs_background": "light"
     },
     "output_type": "display_data"
    }
   ],
   "source": [
    "plt.hist(df.Complexity[df.Complexity.notna()])\n",
    "plt.title(\"Hist of Complexity\")\n",
    "plt.grid()\n",
    "plt.show()"
   ]
  },
  {
   "cell_type": "markdown",
   "metadata": {},
   "source": [
    "#### Data prep"
   ]
  },
  {
   "cell_type": "code",
   "execution_count": 10,
   "metadata": {},
   "outputs": [
    {
     "name": "stdout",
     "output_type": "stream",
     "text": [
      "df_complex.shape (620, 39)\n"
     ]
    },
    {
     "name": "stderr",
     "output_type": "stream",
     "text": [
      "/anaconda3/lib/python3.6/site-packages/sklearn/utils/validation.py:595: DataConversionWarning: Data with input dtype object was converted to float64 by the scale function.\n",
      "  warnings.warn(msg, DataConversionWarning)\n"
     ]
    }
   ],
   "source": [
    "from sklearn.linear_model import Lasso\n",
    "from sklearn.preprocessing import LabelEncoder\n",
    "from sklearn.preprocessing import scale\n",
    "\n",
    "# Create dataset of only rows that are not NA. \n",
    "# df_complex = df[df.Complexity.notna()]\n",
    "df_complex = df.copy()\n",
    "print(\"df_complex.shape\", df_complex.shape)\n",
    "\n",
    "# correlations\n",
    "#print (df[cols].corrwith(pd.Series(v, index=df.columns), axis=1))\n",
    "\n",
    "response = df_complex['Complexity']\n",
    "predictors = df_complex.columns[:-7]\n",
    "predictors = predictors[1:]\n",
    "df_complex = df_complex[predictors]\n",
    "df_complex = df_complex.drop('Effluent', axis=1)\n",
    "# print(df_complex.columns)\n",
    "\n",
    "# change Island variable to numeric encoding. \n",
    "lb = LabelEncoder()\n",
    "island_dummy = lb.fit_transform(df_complex.Island)\n",
    "island_dummy\n",
    "lb.inverse_transform(island_dummy)\n",
    "df_complex.Island = island_dummy \n",
    "\n",
    "# Scale data \n",
    "cols = df_complex.columns\n",
    "df_complex_means = np.mean(df_complex, axis=0)\n",
    "df_complex_stds  = np.std(df_complex, axis=0)\n",
    "df_complex_scaled = scale(df_complex.values)\n",
    "\n",
    "df_complex_scaled = pd.DataFrame(data=df_complex_scaled, columns=cols)\n",
    "\n",
    "df_complex_scaled\n",
    "\n",
    "df_complex_scaled = df_complex_scaled[response.notna()]\n",
    "response_notna = response[response.notna()]\n",
    "\n",
    "# Split into train, validation\n",
    "complex_train, complex_test, complex_train_y, complex_test_y = train_test_split(df_complex_scaled, response_notna, test_size=0.15)\n",
    "\n",
    "complex_train, complex_valid, complex_train_y, complex_valid_y = train_test_split(complex_train, complex_train_y, test_size=0.2)\n",
    "\n",
    "assert(complex_train.shape[0] + complex_valid.shape[0] + complex_test.shape[0] == df_complex_scaled.shape[0])"
   ]
  },
  {
   "cell_type": "code",
   "execution_count": 11,
   "metadata": {},
   "outputs": [
    {
     "data": {
      "text/plain": [
       "Series([], dtype: int64)"
      ]
     },
     "execution_count": 11,
     "metadata": {},
     "output_type": "execute_result"
    }
   ],
   "source": [
    "na_cols = complex_valid.apply(lambda x : x.isna().sum())\n",
    "na_cols[na_cols>0]"
   ]
  },
  {
   "cell_type": "markdown",
   "metadata": {},
   "source": [
    "##### RMSE & lasso helper"
   ]
  },
  {
   "cell_type": "code",
   "execution_count": 12,
   "metadata": {},
   "outputs": [],
   "source": [
    "def calc_rmse(predictions, true_values, n):\n",
    "    return np.sqrt(1/n*sum((predictions - true_values)**2))\n",
    "\n",
    "def run_lasso(train, train_response, valid, valid_response, lamb):\n",
    "    lassoreg = Lasso(alpha = lamb, normalize=True, max_iter=1e5)\n",
    "    lassoreg.fit(train, train_response)\n",
    "    y_pred = lassoreg.predict(valid)\n",
    "    rss = calc_rmse(y_pred, valid_response, valid.shape[0])\n",
    "    return rss, y_pred, lassoreg"
   ]
  },
  {
   "cell_type": "markdown",
   "metadata": {},
   "source": [
    "##### Run Lasso simulations"
   ]
  },
  {
   "cell_type": "code",
   "execution_count": 13,
   "metadata": {
    "scrolled": true
   },
   "outputs": [
    {
     "name": "stdout",
     "output_type": "stream",
     "text": [
      "1e-06\n",
      "6.07668701035269\n",
      "[ 5.25093511  7.03804356  7.11488131 11.29432214 11.79018384  7.78605454\n",
      "  7.72099162 13.40453004 13.19721598 16.97081465  4.35797592 15.17523014\n",
      "  2.28408453 10.09376263  9.05937141 15.73521326 10.15707921 14.45408429\n",
      " 11.74899372 11.25154677  9.44400035  7.71826001  9.42965825 16.63541458\n",
      "  9.33091258  7.07579717 12.65125607 12.86565038 15.89112582 11.71462843\n",
      "  9.01589117 12.99958787  9.94377451 10.12286136  8.0421094   6.56943624\n",
      "  6.9083517   4.24355915  8.73054004 12.02105792 12.0195557   7.74259164\n",
      " 15.68995327 10.86006023 24.27389128  8.44430192  8.9397783  13.15631299\n",
      " 10.01512138  1.74801884  5.81406274 11.25775147 13.96223154  5.2269796\n",
      "  7.62669253  7.60840654 11.94207792 17.18174926 11.90717358 11.32702509\n",
      "  9.21140445  5.42955532 21.12122264  6.22176538  9.30135708  7.12851583\n",
      " 18.92694475 10.67286097  0.54657061 13.31220486  6.46599605 19.92290027\n",
      " 10.65956859 13.95876508  5.5174617  16.2914344   7.7820103   3.56772335\n",
      " 15.88757225 16.0864501  18.31324517 12.85907414 16.78568387  9.96925261\n",
      "  7.1858375  18.65117589]\n"
     ]
    }
   ],
   "source": [
    "lambdas = [10, 1, 0.1, 1e-2, 1e-3, 1e-4, 1e-5, 1e-6]\n",
    "RMSE = np.zeros(len(lambdas))\n",
    "best_rmse_lasso = 100000 \n",
    "best_lambda = 0\n",
    "best_predictions = None\n",
    "best_model = None\n",
    "i = 0\n",
    "for lamb in lambdas:\n",
    "    current_rmse, y_pred, lasso_model = run_lasso(complex_train, complex_train_y, complex_valid, complex_valid_y, lamb)\n",
    "    RMSE[i] = current_rmse\n",
    "    if current_rmse < best_rmse_lasso:\n",
    "        best_rmse_lasso = current_rmse\n",
    "        best_lambda = lamb\n",
    "        best_predictions = y_pred\n",
    "        best_model = lasso_model\n",
    "    i += 1\n",
    "\n",
    "print(best_lambda)\n",
    "print(best_rmse_lasso)\n",
    "print(best_predictions)"
   ]
  },
  {
   "cell_type": "code",
   "execution_count": 14,
   "metadata": {},
   "outputs": [
    {
     "data": {
      "image/png": "[encoded data removed]",
      "text/plain": [
       "<Figure size 432x288 with 1 Axes>"
      ]
     },
     "metadata": {
      "needs_background": "light"
     },
     "output_type": "display_data"
    }
   ],
   "source": [
    "plt.scatter(complex_valid_y, y_pred)\n",
    "plt.xlabel(\"True values\")\n",
    "plt.ylabel(\"Predicted Values\")\n",
    "plt.title(\"Predicted Complexity Values vs True Complexity Values\")\n",
    "plt.show()"
   ]
  },
  {
   "cell_type": "code",
   "execution_count": 15,
   "metadata": {},
   "outputs": [
    {
     "data": {
      "text/plain": [
       "Text(0.5, 1.0, 'RMSE of Lasso Regression by Lambda Values')"
      ]
     },
     "execution_count": 15,
     "metadata": {},
     "output_type": "execute_result"
    },
    {
     "data": {
      "image/png": "[encoded data removed]",
      "text/plain": [
       "<Figure size 432x288 with 1 Axes>"
      ]
     },
     "metadata": {
      "needs_background": "light"
     },
     "output_type": "display_data"
    }
   ],
   "source": [
    "plt.plot(RMSE)\n",
    "plt.hlines(min(RMSE), xmin=0, xmax=7, colors='aqua', linestyles='dashed')\n",
    "plt.xticks(range(len(lambdas)), lambdas)\n",
    "plt.title(\"RMSE of Lasso Regression by Lambda Values\")"
   ]
  },
  {
   "cell_type": "markdown",
   "metadata": {},
   "source": [
    "### How does it compare to estimating the mean? Slightly better... roughly 1 on average"
   ]
  },
  {
   "cell_type": "code",
   "execution_count": 29,
   "metadata": {},
   "outputs": [
    {
     "name": "stdout",
     "output_type": "stream",
     "text": [
      "RMSE using lasso with lambda 1e-06:  6.07668701035269\n",
      "RMSE using mean:                    7.039585884216736\n"
     ]
    }
   ],
   "source": [
    "mean_y_pred = complex_train_y.mean()\n",
    "using_mean = calc_rmse(mean_y_pred, complex_test_y, complex_test.shape[0])\n",
    "print(\"RMSE using lasso with lambda {}: \".format(best_lambda), best_rmse_lasso)\n",
    "print(\"RMSE using mean:                   \", using_mean)"
   ]
  },
  {
   "cell_type": "markdown",
   "metadata": {},
   "source": [
    "## K-means using Long and Lat"
   ]
  },
  {
   "cell_type": "code",
   "execution_count": 31,
   "metadata": {},
   "outputs": [],
   "source": [
    "from sklearn import metrics\n",
    "from sklearn.cluster import KMeans\n",
    "from sklearn.decomposition import PCA\n",
    "from sklearn.preprocessing import scale\n",
    "from sklearn.preprocessing import LabelEncoder"
   ]
  },
  {
   "cell_type": "code",
   "execution_count": 32,
   "metadata": {},
   "outputs": [],
   "source": [
    "# complex_train, complex_test, complex_train_y, complex_test_y\n",
    "# complex_valid, complex_valid_y\n",
    "\n",
    "# Takes as input: normalized train and validation data. \n",
    "# unnormalized y validation values\n",
    "\n",
    "def compute_k_means(train, valid, valid_y, n_clusters, n_init):\n",
    "    kmeans = KMeans(init='k-means++', n_clusters=n_clusters, n_init=n_init)\n",
    "\n",
    "    kmeans.fit(train)\n",
    "    # kmeans.cluster_centers_\n",
    "\n",
    "    cluster_predictions = kmeans.predict(valid)\n",
    "    cluster_complexity_means = valid_y.groupby(cluster_predictions).mean()\n",
    "    cluster_complexity_means\n",
    "\n",
    "    predictions = np.zeros(len(valid))\n",
    "    for i in range(len(valid)):\n",
    "        if cluster_predictions[i] >= len(cluster_complexity_means):\n",
    "            predictions[i] = cluster_predictions.mean()\n",
    "        else:\n",
    "            predictions[i] = cluster_complexity_means[cluster_predictions[i]]\n",
    "            \n",
    "    return predictions\n",
    "\n",
    "# E.g.,\n",
    "#   compute_k_means(complex_train, complex_valid, complex_valid_y, 10, 10)"
   ]
  },
  {
   "cell_type": "markdown",
   "metadata": {},
   "source": [
    "### Run simulation to find best num_clusters"
   ]
  },
  {
   "cell_type": "code",
   "execution_count": 33,
   "metadata": {},
   "outputs": [
    {
     "name": "stdout",
     "output_type": "stream",
     "text": [
      "RMSE:  [7.4358588  7.12752549 6.89078267 6.42871299 6.78877541 6.78059169\n",
      " 6.28440364 6.60791264 6.16630591 6.38247438 6.14296373 5.88337147\n",
      " 6.8505979  6.02227561 5.6457947  5.18596059 5.87789485 6.37830361\n",
      " 6.24081412 5.82250621 5.65789203 5.85296846 6.66531297 6.02731921\n",
      " 5.88116204 5.60647312 6.16196186 6.65902535 5.87882698 5.74112891]\n",
      "best RMSE:  5.18596059286605\n",
      "best num clusters:  17\n"
     ]
    }
   ],
   "source": [
    "num_clusters = np.arange(30) + 2\n",
    "RMSE = np.zeros(len(num_clusters))\n",
    "count=0\n",
    "best_RMSE = 10000\n",
    "best_num_cluster = 0\n",
    "best_predictions = None\n",
    "for nc in num_clusters:\n",
    "    predictions = compute_k_means(complex_train, complex_valid, complex_valid_y, nc, 10)\n",
    "    RMSE[count] = calc_rmse(predictions, complex_valid_y, len(complex_valid))\n",
    "    if RMSE[count] < best_RMSE:\n",
    "        best_RMSE = RMSE[count]\n",
    "        best_num_clusters = nc\n",
    "        best_predictions = predictions\n",
    "    count += 1\n",
    "print(\"RMSE: \", RMSE)\n",
    "print(\"best RMSE: \", best_RMSE)\n",
    "print(\"best num clusters: \", best_num_clusters)"
   ]
  },
  {
   "cell_type": "code",
   "execution_count": 34,
   "metadata": {},
   "outputs": [
    {
     "data": {
      "text/plain": [
       "Text(0.5, 1.0, 'RMSE of k-means by Num Clusters')"
      ]
     },
     "execution_count": 34,
     "metadata": {},
     "output_type": "execute_result"
    },
    {
     "data": {
      "image/png": "[encoded data removed]",
      "text/plain": [
       "<Figure size 432x288 with 1 Axes>"
      ]
     },
     "metadata": {
      "needs_background": "light"
     },
     "output_type": "display_data"
    }
   ],
   "source": [
    "plt.plot(RMSE)\n",
    "plt.hlines(min(RMSE), xmin=0, xmax=30, colors='aqua', linestyles='dashed')\n",
    "plt.title(\"RMSE of k-means by Num Clusters\")"
   ]
  },
  {
   "cell_type": "markdown",
   "metadata": {},
   "source": [
    "### How does k-means compare to the mean?\n",
    "\n",
    "##### Pretty high variance in the RMSE"
   ]
  },
  {
   "cell_type": "code",
   "execution_count": 35,
   "metadata": {},
   "outputs": [
    {
     "name": "stdout",
     "output_type": "stream",
     "text": [
      "RMSE using k-means with 17 clusters:  5.18596059286605\n",
      "RMSE using mean:                      7.039585884216736\n"
     ]
    }
   ],
   "source": [
    "mean_y_pred = complex_train_y.mean()\n",
    "using_mean = calc_rmse(mean_y_pred, complex_test_y, complex_test.shape[0])\n",
    "print(\"RMSE using k-means with {} clusters: \".format(best_num_clusters), best_RMSE)\n",
    "print(\"RMSE using mean:                     \", using_mean)"
   ]
  },
  {
   "cell_type": "markdown",
   "metadata": {},
   "source": [
    "## Replace missing NA values with k-mean estimations"
   ]
  },
  {
   "cell_type": "code",
   "execution_count": 17,
   "metadata": {},
   "outputs": [],
   "source": [
    "complexity_NA = df[df.Complexity.isna()]\n",
    "predictors = complexity_NA.columns[:-7]\n",
    "predictors = predictors[1:]\n",
    "complexity_NA = complexity_NA[predictors]\n",
    "complexity_NA.columns\n",
    "\n",
    "# change Island variable to numeric encoding. \n",
    "lb = LabelEncoder()\n",
    "island_dummy = lb.fit_transform(complexity_NA.Island)\n",
    "complexity_NA.Island = island_dummy \n",
    "complexity_NA = complexity_NA.drop('Effluent', axis=1)"
   ]
  },
  {
   "cell_type": "code",
   "execution_count": 19,
   "metadata": {},
   "outputs": [
    {
     "data": {
      "text/plain": [
       "Long                           -0.041684\n",
       "Lat                             0.015982\n",
       "Island                          0.968299\n",
       "Coral                           1.220487\n",
       "CCA                             0.175865\n",
       "Turf                           -1.348089\n",
       "Macro                          -0.852534\n",
       "Other                           0.548724\n",
       "Grazers                       -11.368311\n",
       "Scrapers                       -6.298180\n",
       "Browsers                       -9.847985\n",
       "Predators                      -8.652178\n",
       "Secondary                      -4.655676\n",
       "Sedimentation                  -2.357614\n",
       "New_Development                 0.006219\n",
       "Habitat_Modification            0.057322\n",
       "Invasive_Algae                  0.035912\n",
       "Fishing_Comm_Total              0.167775\n",
       "Fishing_NonComm_Boat_Total      0.264726\n",
       "Fishing_NonComm_Shore_Line      3.801915\n",
       "Fishing_NonComm_Shore_Net       0.515235\n",
       "Fishing_NonComm_Shore_Spear     1.326633\n",
       "SST_CLIM_M                      0.102300\n",
       "SST_STD                        -0.006184\n",
       "CHL_CLIM_M                      0.007242\n",
       "CHL_ANOM_F                      0.000417\n",
       "PAR_CLIM_M                     -0.291164\n",
       "PAR_STD                        -0.010026\n",
       "WAV_CLIM_M                      0.831253\n",
       "WAV_ANOM_F                     -0.035018\n",
       "dtype: float64"
      ]
     },
     "execution_count": 19,
     "metadata": {},
     "output_type": "execute_result"
    }
   ],
   "source": [
    "np.mean(df_complex) - np.mean(complexity_NA)"
   ]
  },
  {
   "cell_type": "code",
   "execution_count": 20,
   "metadata": {},
   "outputs": [],
   "source": [
    "# Convert to nd array\n",
    "if type(df_complex_means) == type(pd.Series([1,2])):\n",
    "    df_complex_means = np.array(df_complex_means.values, dtype=np.float64)\n",
    "if type(df_complex_stds) == type(pd.Series([1,2])):\n",
    "    df_complex_stds = np.array(df_complex_stds.values, dtype=np.float64)"
   ]
  },
  {
   "cell_type": "code",
   "execution_count": 21,
   "metadata": {},
   "outputs": [
    {
     "name": "stderr",
     "output_type": "stream",
     "text": [
      "/anaconda3/lib/python3.6/site-packages/sklearn/utils/validation.py:595: DataConversionWarning: Data with input dtype object was converted to float64 by the scale function.\n",
      "  warnings.warn(msg, DataConversionWarning)\n"
     ]
    }
   ],
   "source": [
    "# Normalize with scale function\n",
    "normalized_preds_scale = scale(complexity_NA.values)"
   ]
  },
  {
   "cell_type": "markdown",
   "metadata": {},
   "source": [
    "### use the lasso regression to estimate the missing values"
   ]
  },
  {
   "cell_type": "code",
   "execution_count": 23,
   "metadata": {},
   "outputs": [
    {
     "data": {
      "text/plain": [
       "array([ 6.381398  ,  9.72533718,  9.60264555,  3.48157412, 10.91622605,\n",
       "        9.71809397,  8.70897349, 13.22849318, 23.17222507, 20.28876687,\n",
       "        9.46333003, 16.60956999,  6.36719361,  9.24365409,  9.0860404 ,\n",
       "       12.83364044, 10.43444394, 10.33741348, 13.32037335, 17.53357164,\n",
       "        6.83873584,  8.31904156, 12.0669673 ,  8.10570595,  3.22517438,\n",
       "        6.2648425 , 11.05594194,  6.26135102, 13.90120807,  3.90884614,\n",
       "        5.73402955, 12.63936493,  5.42991554,  9.80129975, 12.77229132,\n",
       "       12.41083472, 11.80491723,  6.62146198, 12.10527605, 12.0758077 ,\n",
       "       12.65723062, 13.7731165 , 11.38010792, 13.00054535, 11.32157454,\n",
       "       11.54255117, 13.47464637, 11.36519785,  7.19947784,  6.66635051,\n",
       "       19.1318603 , 19.54430312, 13.74577197, 12.42174814,  8.40322168,\n",
       "       11.24616843, 15.69129326,  8.08046999, 17.62730771, 13.55609295,\n",
       "       15.8023509 , 15.03265017, 17.56760071, 13.65014579, 12.76339284,\n",
       "        5.84117651,  7.83773414,  5.89279789, 14.69486583, 11.44381767,\n",
       "        7.36957996,  6.52162172,  6.64167595,  6.57685505, 11.99580174,\n",
       "        7.54307208, 17.52526755, 12.51718627, 10.48711528, 15.99958365,\n",
       "       13.29523688, 13.30718158, 11.96586359, 11.10076076, 10.89188661,\n",
       "       11.74605439, 13.92041532,  5.70446396, 10.59629338, 14.06494359,\n",
       "       16.07940258, 11.32768053, 11.32701177, 11.20446975, 13.33978648,\n",
       "       11.39527652, 14.15067838,  8.90635215, 13.9391751 , 13.3408268 ,\n",
       "       12.99789928,  3.83733453,  7.06710848, 12.14599862,  9.05896577,\n",
       "        6.90146689, 12.20920898, 13.80788113, 12.51678188, 13.03465464,\n",
       "       10.90916135, -1.30936651,  7.97359879])"
      ]
     },
     "execution_count": 23,
     "metadata": {},
     "output_type": "execute_result"
    }
   ],
   "source": [
    "missing_complexity_predictions = lasso_model.predict(normalized_preds_scale)\n",
    "missing_complexity_predictions"
   ]
  },
  {
   "cell_type": "code",
   "execution_count": 24,
   "metadata": {},
   "outputs": [],
   "source": [
    "df.loc[df.Complexity.isna(), 'Complexity'] = missing_complexity_predictions"
   ]
  },
  {
   "cell_type": "markdown",
   "metadata": {},
   "source": [
    "### Check"
   ]
  },
  {
   "cell_type": "code",
   "execution_count": 25,
   "metadata": {},
   "outputs": [
    {
     "data": {
      "text/plain": [
       "0"
      ]
     },
     "execution_count": 25,
     "metadata": {},
     "output_type": "execute_result"
    }
   ],
   "source": [
    "# Check if they are filled in? \n",
    "na_cols = df.apply(lambda x : x.isna().sum())\n",
    "na_cols[na_cols>0].count()"
   ]
  },
  {
   "cell_type": "code",
   "execution_count": 26,
   "metadata": {},
   "outputs": [
    {
     "data": {
      "image/png": "[encoded data removed]",
      "text/plain": [
       "<Figure size 432x288 with 1 Axes>"
      ]
     },
     "metadata": {
      "needs_background": "light"
     },
     "output_type": "display_data"
    }
   ],
   "source": [
    "plt.hist(df.Depth[df.Depth.notna()])\n",
    "plt.title(\"Histogram of Depth Variable\")\n",
    "plt.xlabel(\"Depth\")\n",
    "plt.grid()"
   ]
  },
  {
   "cell_type": "code",
   "execution_count": 27,
   "metadata": {},
   "outputs": [
    {
     "data": {
      "image/png": "[encoded data removed]",
      "text/plain": [
       "<Figure size 432x288 with 1 Axes>"
      ]
     },
     "metadata": {
      "needs_background": "light"
     },
     "output_type": "display_data"
    }
   ],
   "source": [
    "plt.hist(df.Complexity[df.Complexity.notna()])\n",
    "plt.title(\"Hist of Complexity\")\n",
    "plt.grid()\n",
    "plt.show()"
   ]
  },
  {
   "cell_type": "code",
   "execution_count": 41,
   "metadata": {},
   "outputs": [],
   "source": [
    "df.to_csv(\"../Data/Hawaii_RegimesPredictors_complete.txt\", sep='\\t', decimal=',', index=False)"
   ]
  },
  {
   "cell_type": "code",
   "execution_count": 42,
   "metadata": {},
   "outputs": [],
   "source": [
    "df2 = pd.read_csv(\"../Data/Hawaii_RegimesPredictors_complete.txt\", sep=\"\\t\", decimal=\",\")"
   ]
  },
  {
   "cell_type": "code",
   "execution_count": null,
   "metadata": {},
   "outputs": [],
   "source": []
  }
 ],
 "metadata": {
  "kernelspec": {
   "display_name": "Python [default]",
   "language": "python",
   "name": "python3"
  },
  "language_info": {
   "codemirror_mode": {
    "name": "ipython",
    "version": 3
   },
   "file_extension": ".py",
   "mimetype": "text/x-python",
   "name": "python",
   "nbconvert_exporter": "python",
   "pygments_lexer": "ipython3",
   "version": "3.6.7"
  }
 },
 "nbformat": 4,
 "nbformat_minor": 2
}
