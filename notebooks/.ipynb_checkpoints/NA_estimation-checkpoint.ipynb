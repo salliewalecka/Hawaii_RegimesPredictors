{
 "cells": [
  {
   "cell_type": "markdown",
   "metadata": {},
   "source": [
    "# Estimating the NAs in the dataset\n",
    "\n",
    "Our coral dataset has 620 rows and 39 columns. We found 113 missing values in one of our predictor variables, and due to the small dataset size, we work to predict those values here. \n",
    "\n",
    "We use two methods to estimate - lasso regression and k-means clustering - and compare both to using the mean. "
   ]
  },
  {
   "cell_type": "code",
   "execution_count": 235,
   "metadata": {},
   "outputs": [],
   "source": [
    "import numpy as np\n",
    "import pandas as pd\n",
    "import matplotlib.pyplot as plt\n",
    "import seaborn as sns\n",
    "import random\n",
    "from sklearn.model_selection import train_test_split\n",
    "import matplotlib.colors as colors\n",
    "import matplotlib.cm as cmx\n",
    "\n",
    "%matplotlib inline"
   ]
  },
  {
   "cell_type": "markdown",
   "metadata": {},
   "source": [
    "### Read in the data"
   ]
  },
  {
   "cell_type": "code",
   "execution_count": 236,
   "metadata": {},
   "outputs": [],
   "source": [
    "# read in the data\n",
    "df = pd.read_csv(\"../Data/Hawaii_RegimesPredictors.txt\", sep=\"\\t\", decimal=\",\")"
   ]
  },
  {
   "cell_type": "code",
   "execution_count": 237,
   "metadata": {},
   "outputs": [
    {
     "name": "stdout",
     "output_type": "stream",
     "text": [
      "(620, 39)\n"
     ]
    },
    {
     "data": {
      "text/html": [
       "<div>\n",
       "<style scoped>\n",
       "    .dataframe tbody tr th:only-of-type {\n",
       "        vertical-align: middle;\n",
       "    }\n",
       "\n",
       "    .dataframe tbody tr th {\n",
       "        vertical-align: top;\n",
       "    }\n",
       "\n",
       "    .dataframe thead th {\n",
       "        text-align: right;\n",
       "    }\n",
       "</style>\n",
       "<table border=\"1\" class=\"dataframe\">\n",
       "  <thead>\n",
       "    <tr style=\"text-align: right;\">\n",
       "      <th></th>\n",
       "      <th>id_spatial</th>\n",
       "      <th>Long</th>\n",
       "      <th>Lat</th>\n",
       "      <th>Island</th>\n",
       "      <th>Coral</th>\n",
       "      <th>CCA</th>\n",
       "      <th>Turf</th>\n",
       "      <th>Macro</th>\n",
       "      <th>Other</th>\n",
       "      <th>Grazers</th>\n",
       "      <th>...</th>\n",
       "      <th>PAR_STD</th>\n",
       "      <th>WAV_CLIM_M</th>\n",
       "      <th>WAV_ANOM_F</th>\n",
       "      <th>Complexity</th>\n",
       "      <th>Depth</th>\n",
       "      <th>Regime</th>\n",
       "      <th>Regime1</th>\n",
       "      <th>Regime2</th>\n",
       "      <th>Regime3</th>\n",
       "      <th>Regime5</th>\n",
       "    </tr>\n",
       "  </thead>\n",
       "  <tbody>\n",
       "    <tr>\n",
       "      <th>0</th>\n",
       "      <td>4</td>\n",
       "      <td>-157.307727</td>\n",
       "      <td>21.106717</td>\n",
       "      <td>Molokai</td>\n",
       "      <td>1.023891</td>\n",
       "      <td>1.706485</td>\n",
       "      <td>77.815700</td>\n",
       "      <td>18.088737</td>\n",
       "      <td>1.023891</td>\n",
       "      <td>1.324986</td>\n",
       "      <td>...</td>\n",
       "      <td>8.5628</td>\n",
       "      <td>36.542160</td>\n",
       "      <td>0.083878</td>\n",
       "      <td>4.889608</td>\n",
       "      <td>2.8000</td>\n",
       "      <td>1</td>\n",
       "      <td>1</td>\n",
       "      <td>0</td>\n",
       "      <td>0</td>\n",
       "      <td>0</td>\n",
       "    </tr>\n",
       "    <tr>\n",
       "      <th>1</th>\n",
       "      <td>5</td>\n",
       "      <td>-157.304986</td>\n",
       "      <td>21.113497</td>\n",
       "      <td>Molokai</td>\n",
       "      <td>3.555556</td>\n",
       "      <td>1.333333</td>\n",
       "      <td>83.555556</td>\n",
       "      <td>9.777778</td>\n",
       "      <td>0.888889</td>\n",
       "      <td>0.890407</td>\n",
       "      <td>...</td>\n",
       "      <td>8.5628</td>\n",
       "      <td>36.542160</td>\n",
       "      <td>0.083878</td>\n",
       "      <td>3.793523</td>\n",
       "      <td>7.3152</td>\n",
       "      <td>1</td>\n",
       "      <td>1</td>\n",
       "      <td>0</td>\n",
       "      <td>0</td>\n",
       "      <td>0</td>\n",
       "    </tr>\n",
       "    <tr>\n",
       "      <th>2</th>\n",
       "      <td>6</td>\n",
       "      <td>-157.303306</td>\n",
       "      <td>21.124814</td>\n",
       "      <td>Molokai</td>\n",
       "      <td>17.620555</td>\n",
       "      <td>6.348836</td>\n",
       "      <td>44.875760</td>\n",
       "      <td>25.716525</td>\n",
       "      <td>4.836712</td>\n",
       "      <td>4.628477</td>\n",
       "      <td>...</td>\n",
       "      <td>9.4296</td>\n",
       "      <td>38.007866</td>\n",
       "      <td>0.084089</td>\n",
       "      <td>5.275938</td>\n",
       "      <td>11.5000</td>\n",
       "      <td>2</td>\n",
       "      <td>0</td>\n",
       "      <td>1</td>\n",
       "      <td>0</td>\n",
       "      <td>0</td>\n",
       "    </tr>\n",
       "    <tr>\n",
       "      <th>3</th>\n",
       "      <td>8</td>\n",
       "      <td>-157.299938</td>\n",
       "      <td>21.148297</td>\n",
       "      <td>Molokai</td>\n",
       "      <td>0.675676</td>\n",
       "      <td>1.351351</td>\n",
       "      <td>86.486487</td>\n",
       "      <td>0.337838</td>\n",
       "      <td>5.743243</td>\n",
       "      <td>0.069128</td>\n",
       "      <td>...</td>\n",
       "      <td>9.4296</td>\n",
       "      <td>39.139775</td>\n",
       "      <td>0.087039</td>\n",
       "      <td>2.511288</td>\n",
       "      <td>29.1000</td>\n",
       "      <td>1</td>\n",
       "      <td>1</td>\n",
       "      <td>0</td>\n",
       "      <td>0</td>\n",
       "      <td>0</td>\n",
       "    </tr>\n",
       "    <tr>\n",
       "      <th>4</th>\n",
       "      <td>9</td>\n",
       "      <td>-157.300286</td>\n",
       "      <td>21.128897</td>\n",
       "      <td>Molokai</td>\n",
       "      <td>4.000000</td>\n",
       "      <td>3.111111</td>\n",
       "      <td>53.333333</td>\n",
       "      <td>17.333333</td>\n",
       "      <td>21.777778</td>\n",
       "      <td>11.775000</td>\n",
       "      <td>...</td>\n",
       "      <td>9.4296</td>\n",
       "      <td>40.587803</td>\n",
       "      <td>0.084932</td>\n",
       "      <td>6.865359</td>\n",
       "      <td>10.0584</td>\n",
       "      <td>2</td>\n",
       "      <td>0</td>\n",
       "      <td>1</td>\n",
       "      <td>0</td>\n",
       "      <td>0</td>\n",
       "    </tr>\n",
       "  </tbody>\n",
       "</table>\n",
       "<p>5 rows × 39 columns</p>\n",
       "</div>"
      ],
      "text/plain": [
       "   id_spatial        Long        Lat   Island      Coral       CCA       Turf  \\\n",
       "0           4 -157.307727  21.106717  Molokai   1.023891  1.706485  77.815700   \n",
       "1           5 -157.304986  21.113497  Molokai   3.555556  1.333333  83.555556   \n",
       "2           6 -157.303306  21.124814  Molokai  17.620555  6.348836  44.875760   \n",
       "3           8 -157.299938  21.148297  Molokai   0.675676  1.351351  86.486487   \n",
       "4           9 -157.300286  21.128897  Molokai   4.000000  3.111111  53.333333   \n",
       "\n",
       "       Macro      Other    Grazers   ...     PAR_STD  WAV_CLIM_M  WAV_ANOM_F  \\\n",
       "0  18.088737   1.023891   1.324986   ...      8.5628   36.542160    0.083878   \n",
       "1   9.777778   0.888889   0.890407   ...      8.5628   36.542160    0.083878   \n",
       "2  25.716525   4.836712   4.628477   ...      9.4296   38.007866    0.084089   \n",
       "3   0.337838   5.743243   0.069128   ...      9.4296   39.139775    0.087039   \n",
       "4  17.333333  21.777778  11.775000   ...      9.4296   40.587803    0.084932   \n",
       "\n",
       "   Complexity    Depth  Regime  Regime1  Regime2  Regime3  Regime5  \n",
       "0    4.889608   2.8000       1        1        0        0        0  \n",
       "1    3.793523   7.3152       1        1        0        0        0  \n",
       "2    5.275938  11.5000       2        0        1        0        0  \n",
       "3    2.511288  29.1000       1        1        0        0        0  \n",
       "4    6.865359  10.0584       2        0        1        0        0  \n",
       "\n",
       "[5 rows x 39 columns]"
      ]
     },
     "execution_count": 237,
     "metadata": {},
     "output_type": "execute_result"
    }
   ],
   "source": [
    "print(df.shape)\n",
    "df.head()"
   ]
  },
  {
   "cell_type": "markdown",
   "metadata": {},
   "source": [
    "## Data prep"
   ]
  },
  {
   "cell_type": "code",
   "execution_count": 238,
   "metadata": {},
   "outputs": [],
   "source": [
    "def data_prep(df):\n",
    "    df = df.astype({\"id_spatial\": \"category\", \"Island\": \"category\", \"Habitat_Modification\": \"category\", \n",
    "               \"Invasive_Algae\": \"category\", \"Regime\": \"category\", \"Regime1\": \"category\", \n",
    "               \"Regime2\": \"category\", \"Regime3\": \"category\", \"Regime5\": \"category\"})\n",
    "    return df"
   ]
  },
  {
   "cell_type": "code",
   "execution_count": 239,
   "metadata": {},
   "outputs": [],
   "source": [
    "random.seed(47)\n",
    "df = data_prep(df)"
   ]
  },
  {
   "cell_type": "markdown",
   "metadata": {},
   "source": [
    "# Explore the data set\n",
    "\n",
    "#### Which columns have NA's?"
   ]
  },
  {
   "cell_type": "code",
   "execution_count": 240,
   "metadata": {
    "scrolled": false
   },
   "outputs": [
    {
     "data": {
      "text/plain": [
       "Complexity    113\n",
       "Depth          12\n",
       "dtype: int64"
      ]
     },
     "execution_count": 240,
     "metadata": {},
     "output_type": "execute_result"
    }
   ],
   "source": [
    "na_cols = df.apply(lambda x : x.isna().sum())\n",
    "na_cols[na_cols>0]"
   ]
  },
  {
   "cell_type": "markdown",
   "metadata": {},
   "source": [
    "### Depth"
   ]
  },
  {
   "cell_type": "code",
   "execution_count": 241,
   "metadata": {},
   "outputs": [
    {
     "data": {
      "image/png": "[encoded data removed]",
      "text/plain": [
       "<Figure size 432x288 with 1 Axes>"
      ]
     },
     "metadata": {
      "needs_background": "light"
     },
     "output_type": "display_data"
    }
   ],
   "source": [
    "plt.hist(df.Depth[df.Depth.notna()])\n",
    "plt.title(\"Histogram of Depth Variable\")\n",
    "plt.xlabel(\"Depth\")\n",
    "plt.grid()"
   ]
  },
  {
   "cell_type": "markdown",
   "metadata": {},
   "source": [
    "We'll just replace the 12 missing values of Depth with the median value of Depth"
   ]
  },
  {
   "cell_type": "code",
   "execution_count": 242,
   "metadata": {},
   "outputs": [],
   "source": [
    "df.loc[df.Depth.isna(), 'Depth'] = df.Depth[df.Depth.notna()].median()"
   ]
  },
  {
   "cell_type": "code",
   "execution_count": 243,
   "metadata": {},
   "outputs": [
    {
     "data": {
      "text/plain": [
       "Complexity    113\n",
       "dtype: int64"
      ]
     },
     "execution_count": 243,
     "metadata": {},
     "output_type": "execute_result"
    }
   ],
   "source": [
    "# Check if the NAs are gone:\n",
    "na_cols = df.apply(lambda x : x.isna().sum())\n",
    "na_cols[na_cols>0]"
   ]
  },
  {
   "cell_type": "markdown",
   "metadata": {},
   "source": [
    "## Estimate the missing complexity values\n",
    "\n",
    "#### Plot distribution of complexity variable"
   ]
  },
  {
   "cell_type": "code",
   "execution_count": 244,
   "metadata": {},
   "outputs": [
    {
     "data": {
      "image/png": "[encoded data removed]",
      "text/plain": [
       "<Figure size 432x288 with 1 Axes>"
      ]
     },
     "metadata": {
      "needs_background": "light"
     },
     "output_type": "display_data"
    }
   ],
   "source": [
    "plt.hist(df.Complexity[df.Complexity.notna()])\n",
    "plt.title(\"Hist of Complexity\")\n",
    "plt.grid()\n",
    "plt.show()"
   ]
  },
  {
   "cell_type": "markdown",
   "metadata": {},
   "source": [
    "#### Data prep"
   ]
  },
  {
   "cell_type": "code",
   "execution_count": 245,
   "metadata": {},
   "outputs": [
    {
     "name": "stdout",
     "output_type": "stream",
     "text": [
      "df_complex.shape (507, 39)\n"
     ]
    },
    {
     "name": "stderr",
     "output_type": "stream",
     "text": [
      "/anaconda3/lib/python3.6/site-packages/sklearn/utils/validation.py:595: DataConversionWarning: Data with input dtype object was converted to float64 by the scale function.\n",
      "  warnings.warn(msg, DataConversionWarning)\n"
     ]
    }
   ],
   "source": [
    "from sklearn.linear_model import Lasso\n",
    "from sklearn.preprocessing import LabelEncoder\n",
    "from sklearn.preprocessing import scale\n",
    "\n",
    "# Create dataset of only rows that are not NA. \n",
    "df_complex = df[df.Complexity.notna()]\n",
    "print(\"df_complex.shape\", df_complex.shape)\n",
    "\n",
    "# correlations\n",
    "#print (df[cols].corrwith(pd.Series(v, index=df.columns), axis=1))\n",
    "\n",
    "response = df_complex['Complexity']\n",
    "predictors = df_complex.columns[:-7]\n",
    "predictors = predictors[1:]\n",
    "df_complex = df_complex[predictors]\n",
    "# print(df_complex.columns)\n",
    "\n",
    "# change Island variable to numeric encoding. \n",
    "lb = LabelEncoder()\n",
    "island_dummy = lb.fit_transform(df_complex.Island)\n",
    "island_dummy\n",
    "lb.inverse_transform(island_dummy)\n",
    "df_complex.Island = island_dummy \n",
    "\n",
    "# Scale data \n",
    "df_complex_means = np.mean(df_complex, axis=0)\n",
    "df_complex_stds  = np.std(df_complex, axis=0)\n",
    "df_complex_scaled = scale(df_complex.values)\n",
    "\n",
    "# Split into train, validation\n",
    "complex_train, complex_test, complex_train_y, complex_test_y = train_test_split(df_complex, response, test_size=0.15)\n",
    "\n",
    "complex_train, complex_valid, complex_train_y, complex_valid_y = train_test_split(complex_train, complex_train_y, test_size=0.2)\n",
    "\n",
    "assert(complex_train.shape[0] + complex_valid.shape[0] + complex_test.shape[0] == df_complex.shape[0])"
   ]
  },
  {
   "cell_type": "markdown",
   "metadata": {},
   "source": [
    "##### RMSE & lasso helper"
   ]
  },
  {
   "cell_type": "code",
   "execution_count": 246,
   "metadata": {},
   "outputs": [],
   "source": [
    "def calc_rmse(predictions, true_values, n):\n",
    "    return np.sqrt(1/n*sum((predictions - true_values)**2))\n",
    "\n",
    "def run_lasso(train, train_response, valid, valid_response, lamb):\n",
    "    lassoreg = Lasso(alpha = lamb, normalize=True, max_iter=1e5)\n",
    "    lassoreg.fit(train, train_response)\n",
    "    y_pred = lassoreg.predict(valid)\n",
    "    rss = calc_rmse(y_pred, valid_response, valid.shape[0])\n",
    "    return rss, y_pred, lassoreg"
   ]
  },
  {
   "cell_type": "markdown",
   "metadata": {},
   "source": [
    "##### Run Lasso simulations"
   ]
  },
  {
   "cell_type": "code",
   "execution_count": 247,
   "metadata": {
    "scrolled": true
   },
   "outputs": [
    {
     "name": "stdout",
     "output_type": "stream",
     "text": [
      "0.01\n",
      "5.188917900540693\n",
      "[14.44065265 11.61161447  5.713117   16.0106488   8.4597437   9.22715599\n",
      " 11.43254256 16.8682625  14.67810859  8.4019336   8.37122313  8.54965949\n",
      " 12.89530473  4.56294261 13.90068143  5.40361915 14.94913439 12.97562107\n",
      " 19.44552202  9.31622759  9.06909842 10.33640968 14.66815227  8.15386888\n",
      "  9.93724522  7.4903096   8.72864833 13.23699985 13.90279894  9.33584863\n",
      " 14.82472888 11.70740088 11.1295654  12.20528605  4.96086642 11.11539418\n",
      " 12.54019204  9.98899717 10.36974561 13.97789967 11.40552214 18.84000533\n",
      "  6.61557424  9.2652619   9.90264446 11.05560177 10.91641616  5.51314909\n",
      " 15.03096003  9.18511506  4.31313019 10.32870304  3.87545962 16.55254782\n",
      " 11.96692321  1.61867182 10.14781398 13.08368585 11.02089355 16.77909585\n",
      " 16.33876961 15.62314648  3.87459841 11.02077627  4.50061624 11.90851008\n",
      " 13.67560513 19.96206664  9.43090409  9.33316011 10.53059584 11.46976822\n",
      " 12.36177411 12.14503736  7.73507318  9.31617856 10.46500467 19.41551081\n",
      " 11.70001292  9.42492896 13.37907898  9.69136451 17.55262608 10.39098862\n",
      "  7.68888561  4.03388899]\n"
     ]
    }
   ],
   "source": [
    "lambdas = [10, 1, 0.1, 1e-2, 1e-3, 1e-4, 1e-5, 1e-6]\n",
    "RMSE = np.zeros(len(lambdas))\n",
    "best_rmse_lasso = 100000 \n",
    "best_lambda = 0\n",
    "best_predictions = None\n",
    "best_model = None\n",
    "i = 0\n",
    "for lamb in lambdas:\n",
    "    current_rmse, y_pred, lasso_model = run_lasso(complex_train, complex_train_y, complex_valid, complex_valid_y, lamb)\n",
    "    RMSE[i] = current_rmse\n",
    "    if current_rmse < best_rmse_lasso:\n",
    "        best_rmse_lasso = current_rmse\n",
    "        best_lambda = lamb\n",
    "        best_predictions = y_pred\n",
    "        best_model = lasso_model\n",
    "    i += 1\n",
    "\n",
    "print(best_lambda)\n",
    "print(best_rmse_lasso)\n",
    "print(best_predictions)"
   ]
  },
  {
   "cell_type": "code",
   "execution_count": 248,
   "metadata": {},
   "outputs": [
    {
     "data": {
      "image/png": "[encoded data removed]",
      "text/plain": [
       "<Figure size 432x288 with 1 Axes>"
      ]
     },
     "metadata": {
      "needs_background": "light"
     },
     "output_type": "display_data"
    }
   ],
   "source": [
    "plt.scatter(complex_valid_y, y_pred)\n",
    "plt.xlabel(\"True values\")\n",
    "plt.ylabel(\"Predicted Values\")\n",
    "plt.title(\"Predicted Complexity Values vs True Complexity Values\")\n",
    "plt.show()"
   ]
  },
  {
   "cell_type": "code",
   "execution_count": 249,
   "metadata": {},
   "outputs": [
    {
     "data": {
      "text/plain": [
       "Text(0.5, 1.0, 'RMSE of Lasso Regression by Lambda Values')"
      ]
     },
     "execution_count": 249,
     "metadata": {},
     "output_type": "execute_result"
    },
    {
     "data": {
      "image/png": "[encoded data removed]",
      "text/plain": [
       "<Figure size 432x288 with 1 Axes>"
      ]
     },
     "metadata": {
      "needs_background": "light"
     },
     "output_type": "display_data"
    }
   ],
   "source": [
    "plt.plot(RMSE)\n",
    "plt.hlines(min(RMSE), xmin=0, xmax=7, colors='aqua', linestyles='dashed')\n",
    "plt.xticks(range(len(lambdas)), lambdas)\n",
    "plt.title(\"RMSE of Lasso Regression by Lambda Values\")"
   ]
  },
  {
   "cell_type": "markdown",
   "metadata": {},
   "source": [
    "### How does it compare to estimating the mean? Slightly better... roughly 1 on average"
   ]
  },
  {
   "cell_type": "code",
   "execution_count": 250,
   "metadata": {},
   "outputs": [
    {
     "name": "stdout",
     "output_type": "stream",
     "text": [
      "RMSE using lasso with lambda 0.01:  5.188917900540693\n",
      "RMSE using mean:                    7.737871992169536\n"
     ]
    }
   ],
   "source": [
    "mean_y_pred = complex_test_y.mean()\n",
    "using_mean = calc_rmse(mean_y_pred, complex_test_y, complex_test.shape[0])\n",
    "print(\"RMSE using lasso with lambda {}: \".format(best_lambda), best_rmse_lasso)\n",
    "print(\"RMSE using mean:                   \", using_mean)"
   ]
  },
  {
   "cell_type": "markdown",
   "metadata": {},
   "source": [
    "## K-means using Long and Lat"
   ]
  },
  {
   "cell_type": "code",
   "execution_count": 191,
   "metadata": {},
   "outputs": [],
   "source": [
    "from sklearn import metrics\n",
    "from sklearn.cluster import KMeans\n",
    "from sklearn.decomposition import PCA\n",
    "from sklearn.preprocessing import scale\n",
    "from sklearn.preprocessing import LabelEncoder"
   ]
  },
  {
   "cell_type": "code",
   "execution_count": 192,
   "metadata": {},
   "outputs": [],
   "source": [
    "# complex_train, complex_test, complex_train_y, complex_test_y\n",
    "# complex_valid, complex_valid_y\n",
    "\n",
    "# Takes as input: normalized train and validation data. \n",
    "# unnormalized y validation values\n",
    "\n",
    "def compute_k_means(train, valid, valid_y, n_clusters, n_init):\n",
    "    kmeans = KMeans(init='k-means++', n_clusters=n_clusters, n_init=n_init)\n",
    "\n",
    "    kmeans.fit(train)\n",
    "    # kmeans.cluster_centers_\n",
    "\n",
    "    cluster_predictions = kmeans.predict(valid)\n",
    "    cluster_complexity_means = valid_y.groupby(cluster_predictions).mean()\n",
    "    cluster_complexity_means\n",
    "\n",
    "    predictions = np.zeros(len(valid))\n",
    "    for i in range(len(valid)):\n",
    "        if cluster_predictions[i] >= len(cluster_complexity_means):\n",
    "            predictions[i] = cluster_predictions.mean()\n",
    "        else:\n",
    "            predictions[i] = cluster_complexity_means[cluster_predictions[i]]\n",
    "            \n",
    "    return predictions\n",
    "\n",
    "# E.g.,\n",
    "#   compute_k_means(complex_train, complex_valid, complex_valid_y, 10, 10)"
   ]
  },
  {
   "cell_type": "markdown",
   "metadata": {},
   "source": [
    "### Run simulation to find best num_clusters"
   ]
  },
  {
   "cell_type": "code",
   "execution_count": 193,
   "metadata": {},
   "outputs": [
    {
     "name": "stdout",
     "output_type": "stream",
     "text": [
      "RMSE:  [6.12137019 6.14573321 6.72169397 6.44051462 5.84254808 6.48998671\n",
      " 6.14499786 6.76062881 6.33098075 6.12454453 6.37066136 6.22368336\n",
      " 6.03898596 6.71696263 5.84550517 5.68485964 5.75996123 5.84987072\n",
      " 5.7627293  5.87666644 5.98974795 6.01537986 5.70488799 5.66761949\n",
      " 5.70878988 6.29897311 7.10511592 6.4204275  5.9407612  6.64804828]\n",
      "best RMSE:  5.667619494194024\n",
      "best num clusters:  25\n"
     ]
    }
   ],
   "source": [
    "num_clusters = np.arange(30) + 2\n",
    "RMSE = np.zeros(len(num_clusters))\n",
    "count=0\n",
    "best_RMSE = 10000\n",
    "best_num_cluster = 0\n",
    "best_predictions = None\n",
    "for nc in num_clusters:\n",
    "    predictions = compute_k_means(complex_train, complex_valid, complex_valid_y, nc, 10)\n",
    "    RMSE[count] = calc_rmse(predictions, complex_valid_y, len(complex_valid))\n",
    "    if RMSE[count] < best_RMSE:\n",
    "        best_RMSE = RMSE[count]\n",
    "        best_num_clusters = nc\n",
    "        best_predictions = predictions\n",
    "    count += 1\n",
    "print(\"RMSE: \", RMSE)\n",
    "print(\"best RMSE: \", best_RMSE)\n",
    "print(\"best num clusters: \", best_num_clusters)"
   ]
  },
  {
   "cell_type": "code",
   "execution_count": 194,
   "metadata": {},
   "outputs": [
    {
     "data": {
      "text/plain": [
       "Text(0.5, 1.0, 'RMSE of k-means by Num Clusters')"
      ]
     },
     "execution_count": 194,
     "metadata": {},
     "output_type": "execute_result"
    },
    {
     "data": {
      "image/png": "[encoded data removed]",
      "text/plain": [
       "<Figure size 432x288 with 1 Axes>"
      ]
     },
     "metadata": {
      "needs_background": "light"
     },
     "output_type": "display_data"
    }
   ],
   "source": [
    "plt.plot(RMSE)\n",
    "plt.hlines(min(RMSE), xmin=0, xmax=30, colors='aqua', linestyles='dashed')\n",
    "plt.title(\"RMSE of k-means by Num Clusters\")"
   ]
  },
  {
   "cell_type": "markdown",
   "metadata": {},
   "source": [
    "### How does k-means compare to the mean?\n",
    "\n",
    "##### What is going on"
   ]
  },
  {
   "cell_type": "code",
   "execution_count": 196,
   "metadata": {},
   "outputs": [
    {
     "name": "stdout",
     "output_type": "stream",
     "text": [
      "RMSE using k-means with 25 clusters:  5.667619494194024\n",
      "RMSE using mean:                      8.62599052163342\n"
     ]
    }
   ],
   "source": [
    "mean_y_pred = complex_test_y.mean()\n",
    "using_mean = calc_rmse(mean_y_pred, complex_test_y, complex_test.shape[0])\n",
    "print(\"RMSE using k-means with {} clusters: \".format(best_num_clusters), best_RMSE)\n",
    "print(\"RMSE using mean:                     \", using_mean)"
   ]
  },
  {
   "cell_type": "markdown",
   "metadata": {},
   "source": [
    "## Replace missing NA values with k-mean estimations"
   ]
  },
  {
   "cell_type": "code",
   "execution_count": 251,
   "metadata": {},
   "outputs": [],
   "source": [
    "complexity_NA = df[df.Complexity.isna()]"
   ]
  },
  {
   "cell_type": "code",
   "execution_count": 252,
   "metadata": {},
   "outputs": [],
   "source": [
    "# Convert to nd array\n",
    "if type(df_complex_means) == type(pd.Series([1,2])):\n",
    "    df_complex_means = np.array(df_complex_means.values, dtype=np.float64)\n",
    "if type(df_complex_stds) == type(pd.Series([1,2])):\n",
    "    df_complex_stds = np.array(df_complex_stds.values, dtype=np.float64)"
   ]
  },
  {
   "cell_type": "code",
   "execution_count": 253,
   "metadata": {},
   "outputs": [],
   "source": [
    "predictors = complexity_NA.columns[:-7]\n",
    "predictors = predictors[1:]\n",
    "complexity_NA = complexity_NA[predictors]\n",
    "complexity_NA.columns\n",
    "\n",
    "# change Island variable to numeric encoding. \n",
    "lb = LabelEncoder()\n",
    "island_dummy = lb.fit_transform(complexity_NA.Island)\n",
    "complexity_NA.Island = island_dummy "
   ]
  },
  {
   "cell_type": "code",
   "execution_count": 254,
   "metadata": {},
   "outputs": [
    {
     "name": "stderr",
     "output_type": "stream",
     "text": [
      "/anaconda3/lib/python3.6/site-packages/sklearn/utils/validation.py:595: DataConversionWarning: Data with input dtype object was converted to float64 by the scale function.\n",
      "  warnings.warn(msg, DataConversionWarning)\n"
     ]
    }
   ],
   "source": [
    "# Normalize with scale function\n",
    "normalized_preds_scale = scale(complexity_NA.values)"
   ]
  },
  {
   "cell_type": "code",
   "execution_count": 255,
   "metadata": {},
   "outputs": [
    {
     "name": "stdout",
     "output_type": "stream",
     "text": [
      "Should be close to 0:\n",
      " [ 0.04412891 -0.02347235 -0.1652385  -0.08785319 -0.03538951  0.08353132\n",
      "  0.10870109 -0.06104132  0.67517521  0.46764583  0.5022411   0.97039203\n",
      "  0.29536862 -0.31976062  0.14949922 -0.18646155 -0.23723812 -0.10585823\n",
      " -0.43493883 -0.40423653 -0.47463247 -0.4092645  -0.62307988 -0.3047131\n",
      "  0.12022186 -0.23751238 -0.00948876  0.08104052  0.01507136 -0.04493635\n",
      "  0.68129516]\n",
      "Should be close to 1:\n",
      " [1.19051684 0.86204    0.74679277 1.03103217 0.99858995 1.09216093\n",
      " 1.09934712 0.97959487 1.9510874  1.28228258 2.75367999 3.11729437\n",
      " 1.24727376 0.52974212 0.81837784 0.92578621 0.54407116 0.91998009\n",
      " 0.18446463 0.39690134 0.66950149 0.58109344 0.81516643 0.94003582\n",
      " 1.21553292 0.5799352  0.87796876 0.83784709 0.99899243 0.91265203\n",
      " 1.10210157]\n"
     ]
    }
   ],
   "source": [
    "# Normalize with means and stds from other data:\n",
    "temp = np.array(complexity_NA.values, dtype=np.float64)\n",
    "normalized_preds = (temp - df_complex_means.reshape(1,-1)) / df_complex_stds.reshape(1,-1)\n",
    "\n",
    "print(\"Should be close to 0:\\n\", np.mean(normalized_preds, axis=0))\n",
    "print(\"Should be close to 1:\\n\", np.std(normalized_preds, axis=0))"
   ]
  },
  {
   "cell_type": "markdown",
   "metadata": {},
   "source": [
    "### use the lasso regression to estimate the missing values"
   ]
  },
  {
   "cell_type": "code",
   "execution_count": 256,
   "metadata": {},
   "outputs": [
    {
     "data": {
      "text/plain": [
       "array([288.44306214, 289.86834613, 290.33946909, 288.33063698,\n",
       "       290.95326971, 290.91107492, 273.61449753, 281.16293277,\n",
       "       289.92700236, 289.96603701, 277.0314981 , 287.38023282,\n",
       "       279.13833692, 279.30353765, 286.54777767, 286.80667653,\n",
       "       282.92242585, 286.58226133, 286.56279656, 286.71359138,\n",
       "       283.7678093 , 283.97836711, 286.37303137, 283.96372095,\n",
       "       276.42104125, 284.14817884, 284.07853457, 282.74501755,\n",
       "       281.95031764, 292.50316729, 292.7780463 , 295.1925141 ,\n",
       "       293.36711741, 294.10537832, 295.31927198, 294.44986639,\n",
       "       294.94869983, 295.70513602, 294.42850662, 294.93047533,\n",
       "       281.35001641, 299.61005346, 299.30708821, 299.56519219,\n",
       "       299.36792035, 292.51686462, 286.51987078, 293.739259  ,\n",
       "       297.34118901, 297.35275615, 291.63222958, 299.92246368,\n",
       "       267.11349066, 270.43995508, 286.10795853, 269.0200401 ,\n",
       "       269.30747916, 285.30557584, 288.71758059, 274.73206322,\n",
       "       287.03510823, 287.70345499, 288.85902414, 269.91888211,\n",
       "       269.83592691, 264.96556531, 265.25255397, 264.28845278,\n",
       "       229.1519448 , 225.82255878, 225.35231141, 225.32513003,\n",
       "       225.44190134, 225.38283047, 227.22352844, 256.80037525,\n",
       "       242.76727488, 265.5477789 , 265.97734292, 243.04018247,\n",
       "       244.09948533, 260.34361517, 252.57945549, 252.47037153,\n",
       "       250.8183822 , 263.54324341, 269.63670532, 263.53963049,\n",
       "       265.5241227 , 266.06870794, 266.90155576, 273.65228378,\n",
       "       273.73443004, 275.5172303 , 262.63895135, 264.5369903 ,\n",
       "       278.89144505, 317.82839469, 322.34571603, 334.17802686,\n",
       "       327.58624478, 315.10933435, 315.98648875, 327.64248222,\n",
       "       316.03665566, 327.87401541, 339.78860143, 339.92415693,\n",
       "       339.65937926, 340.14946967, 339.21820473, 294.80323391,\n",
       "       310.22723448])"
      ]
     },
     "execution_count": 256,
     "metadata": {},
     "output_type": "execute_result"
    }
   ],
   "source": [
    "missing_complexity_predictions = lasso_model.predict(normalized_preds_scale)\n",
    "missing_complexity_predictions"
   ]
  },
  {
   "cell_type": "code",
   "execution_count": 213,
   "metadata": {},
   "outputs": [
    {
     "ename": "ValueError",
     "evalue": "Must have equal len keys and value when setting with an iterable",
     "output_type": "error",
     "traceback": [
      "\u001b[0;31m---------------------------------------------------------------------------\u001b[0m",
      "\u001b[0;31mValueError\u001b[0m                                Traceback (most recent call last)",
      "\u001b[0;32m<ipython-input-213-b14e0f4ad3af>\u001b[0m in \u001b[0;36m<module>\u001b[0;34m\u001b[0m\n\u001b[0;32m----> 1\u001b[0;31m \u001b[0mdf\u001b[0m\u001b[0;34m.\u001b[0m\u001b[0mloc\u001b[0m\u001b[0;34m[\u001b[0m\u001b[0mdf\u001b[0m\u001b[0;34m.\u001b[0m\u001b[0mComplexity\u001b[0m\u001b[0;34m.\u001b[0m\u001b[0misna\u001b[0m\u001b[0;34m(\u001b[0m\u001b[0;34m)\u001b[0m\u001b[0;34m,\u001b[0m \u001b[0;34m'Complexity'\u001b[0m\u001b[0;34m]\u001b[0m \u001b[0;34m=\u001b[0m \u001b[0mmissing_complexity_predictions\u001b[0m\u001b[0;34m\u001b[0m\u001b[0;34m\u001b[0m\u001b[0m\n\u001b[0m",
      "\u001b[0;32m/anaconda3/lib/python3.6/site-packages/pandas/core/indexing.py\u001b[0m in \u001b[0;36m__setitem__\u001b[0;34m(self, key, value)\u001b[0m\n\u001b[1;32m    187\u001b[0m             \u001b[0mkey\u001b[0m \u001b[0;34m=\u001b[0m \u001b[0mcom\u001b[0m\u001b[0;34m.\u001b[0m\u001b[0m_apply_if_callable\u001b[0m\u001b[0;34m(\u001b[0m\u001b[0mkey\u001b[0m\u001b[0;34m,\u001b[0m \u001b[0mself\u001b[0m\u001b[0;34m.\u001b[0m\u001b[0mobj\u001b[0m\u001b[0;34m)\u001b[0m\u001b[0;34m\u001b[0m\u001b[0;34m\u001b[0m\u001b[0m\n\u001b[1;32m    188\u001b[0m         \u001b[0mindexer\u001b[0m \u001b[0;34m=\u001b[0m \u001b[0mself\u001b[0m\u001b[0;34m.\u001b[0m\u001b[0m_get_setitem_indexer\u001b[0m\u001b[0;34m(\u001b[0m\u001b[0mkey\u001b[0m\u001b[0;34m)\u001b[0m\u001b[0;34m\u001b[0m\u001b[0;34m\u001b[0m\u001b[0m\n\u001b[0;32m--> 189\u001b[0;31m         \u001b[0mself\u001b[0m\u001b[0;34m.\u001b[0m\u001b[0m_setitem_with_indexer\u001b[0m\u001b[0;34m(\u001b[0m\u001b[0mindexer\u001b[0m\u001b[0;34m,\u001b[0m \u001b[0mvalue\u001b[0m\u001b[0;34m)\u001b[0m\u001b[0;34m\u001b[0m\u001b[0;34m\u001b[0m\u001b[0m\n\u001b[0m\u001b[1;32m    190\u001b[0m \u001b[0;34m\u001b[0m\u001b[0m\n\u001b[1;32m    191\u001b[0m     \u001b[0;32mdef\u001b[0m \u001b[0m_validate_key\u001b[0m\u001b[0;34m(\u001b[0m\u001b[0mself\u001b[0m\u001b[0;34m,\u001b[0m \u001b[0mkey\u001b[0m\u001b[0;34m,\u001b[0m \u001b[0maxis\u001b[0m\u001b[0;34m)\u001b[0m\u001b[0;34m:\u001b[0m\u001b[0;34m\u001b[0m\u001b[0;34m\u001b[0m\u001b[0m\n",
      "\u001b[0;32m/anaconda3/lib/python3.6/site-packages/pandas/core/indexing.py\u001b[0m in \u001b[0;36m_setitem_with_indexer\u001b[0;34m(self, indexer, value)\u001b[0m\n\u001b[1;32m    604\u001b[0m \u001b[0;34m\u001b[0m\u001b[0m\n\u001b[1;32m    605\u001b[0m                     \u001b[0;32mif\u001b[0m \u001b[0mlen\u001b[0m\u001b[0;34m(\u001b[0m\u001b[0mlabels\u001b[0m\u001b[0;34m)\u001b[0m \u001b[0;34m!=\u001b[0m \u001b[0mlen\u001b[0m\u001b[0;34m(\u001b[0m\u001b[0mvalue\u001b[0m\u001b[0;34m)\u001b[0m\u001b[0;34m:\u001b[0m\u001b[0;34m\u001b[0m\u001b[0;34m\u001b[0m\u001b[0m\n\u001b[0;32m--> 606\u001b[0;31m                         raise ValueError('Must have equal len keys and value '\n\u001b[0m\u001b[1;32m    607\u001b[0m                                          'when setting with an iterable')\n\u001b[1;32m    608\u001b[0m \u001b[0;34m\u001b[0m\u001b[0m\n",
      "\u001b[0;31mValueError\u001b[0m: Must have equal len keys and value when setting with an iterable"
     ]
    }
   ],
   "source": [
    "df.loc[df.Complexity.isna(), 'Complexity'] = missing_complexity_predictions"
   ]
  },
  {
   "cell_type": "markdown",
   "metadata": {},
   "source": [
    "### Check"
   ]
  },
  {
   "cell_type": "code",
   "execution_count": 203,
   "metadata": {},
   "outputs": [
    {
     "data": {
      "text/plain": [
       "0"
      ]
     },
     "execution_count": 203,
     "metadata": {},
     "output_type": "execute_result"
    }
   ],
   "source": [
    "# Check if they are filled in? \n",
    "na_cols = df.apply(lambda x : x.isna().sum())\n",
    "na_cols[na_cols>0].count()"
   ]
  },
  {
   "cell_type": "code",
   "execution_count": 204,
   "metadata": {},
   "outputs": [
    {
     "data": {
      "image/png": "[encoded data removed]",
      "text/plain": [
       "<Figure size 432x288 with 1 Axes>"
      ]
     },
     "metadata": {
      "needs_background": "light"
     },
     "output_type": "display_data"
    }
   ],
   "source": [
    "plt.hist(df.Depth[df.Depth.notna()])\n",
    "plt.title(\"Histogram of Depth Variable\")\n",
    "plt.xlabel(\"Depth\")\n",
    "plt.grid()"
   ]
  },
  {
   "cell_type": "code",
   "execution_count": 205,
   "metadata": {},
   "outputs": [
    {
     "data": {
      "image/png": "[encoded data removed]",
      "text/plain": [
       "<Figure size 432x288 with 1 Axes>"
      ]
     },
     "metadata": {
      "needs_background": "light"
     },
     "output_type": "display_data"
    }
   ],
   "source": [
    "plt.hist(df.Complexity[df.Complexity.notna()])\n",
    "plt.title(\"Hist of Complexity\")\n",
    "plt.grid()\n",
    "plt.show()"
   ]
  },
  {
   "cell_type": "code",
   "execution_count": null,
   "metadata": {},
   "outputs": [],
   "source": []
  }
 ],
 "metadata": {
  "kernelspec": {
   "display_name": "Python [default]",
   "language": "python",
   "name": "python3"
  },
  "language_info": {
   "codemirror_mode": {
    "name": "ipython",
    "version": 3
   },
   "file_extension": ".py",
   "mimetype": "text/x-python",
   "name": "python",
   "nbconvert_exporter": "python",
   "pygments_lexer": "ipython3",
   "version": "3.6.7"
  }
 },
 "nbformat": 4,
 "nbformat_minor": 2
}
